{
 "cells": [
  {
   "cell_type": "markdown",
   "metadata": {},
   "source": [
    "# Mask R-CNN - Inspect Ballon Trained Model\n",
    "\n",
    "Code and visualizations to test, debug, and evaluate the Mask R-CNN model."
   ]
  },
  {
   "cell_type": "code",
   "execution_count": 1,
   "metadata": {},
   "outputs": [
    {
     "name": "stderr",
     "output_type": "stream",
     "text": [
      "Using TensorFlow backend.\n"
     ]
    }
   ],
   "source": [
    "import os\n",
    "import sys\n",
    "import random\n",
    "import math\n",
    "import re\n",
    "import time\n",
    "import numpy as np\n",
    "import tensorflow as tf\n",
    "import matplotlib\n",
    "import matplotlib.pyplot as plt\n",
    "import matplotlib.patches as patches\n",
    "\n",
    "# Root directory of the project\n",
    "ROOT_DIR = os.path.abspath(\"../../\")\n",
    "\n",
    "# Import Mask RCNN\n",
    "sys.path.append(ROOT_DIR)  # To find local version of the library\n",
    "from mrcnn import utils\n",
    "from mrcnn import visualize\n",
    "from mrcnn.visualize import display_images, display_results\n",
    "import mrcnn.model as modellib\n",
    "from mrcnn.model import log\n",
    "\n",
    "from custom.boxes import boxes\n",
    "\n",
    "os.environ['CUDA_VISIBLE_DEVICES'] = ''\n",
    "%matplotlib inline \n",
    "\n",
    "# Directory to save logs and trained model\n",
    "MODEL_DIR = os.path.join(ROOT_DIR, \"logs\")\n",
    "\n",
    "# Path to Ballon trained weights\n",
    "# You can download this file from the Releases page\n",
    "# https://github.com/matterport/Mask_RCNN/releases\n",
    "BOXES_WEIGHTS_PATH = os.path.join(MODEL_DIR, \"box20200908T1407/mask_rcnn_box_0010.h5\")  # TODO: update this path"
   ]
  },
  {
   "cell_type": "markdown",
   "metadata": {},
   "source": [
    "## Configurations"
   ]
  },
  {
   "cell_type": "code",
   "execution_count": 2,
   "metadata": {},
   "outputs": [],
   "source": [
    "config = boxes.BoxConfig()\n",
    "BOXES_DIR = \"/home/mikkel/workspace/instance_segmentation/dataset/box_dataset\""
   ]
  },
  {
   "cell_type": "code",
   "execution_count": 4,
   "metadata": {},
   "outputs": [
    {
     "name": "stdout",
     "output_type": "stream",
     "text": [
      "\n",
      "Configurations:\n",
      "BACKBONE                       resnet50\n",
      "BACKBONE_STRIDES               [4, 8, 16, 32, 64]\n",
      "BATCH_SIZE                     1\n",
      "BBOX_STD_DEV                   [0.1 0.1 0.2 0.2]\n",
      "COMPUTE_BACKBONE_SHAPE         None\n",
      "DETECTION_MAX_INSTANCES        100\n",
      "DETECTION_MIN_CONFIDENCE       0.9\n",
      "DETECTION_NMS_THRESHOLD        0.3\n",
      "FPN_CLASSIF_FC_LAYERS_SIZE     1024\n",
      "GPU_COUNT                      1\n",
      "GRADIENT_CLIP_NORM             5.0\n",
      "IMAGES_PER_GPU                 1\n",
      "IMAGE_CHANNEL_COUNT            3\n",
      "IMAGE_MAX_DIM                  640\n",
      "IMAGE_META_SIZE                14\n",
      "IMAGE_MIN_DIM                  800\n",
      "IMAGE_MIN_SCALE                0\n",
      "IMAGE_RESIZE_MODE              square\n",
      "IMAGE_SHAPE                    [640 640   3]\n",
      "LEARNING_MOMENTUM              0.9\n",
      "LEARNING_RATE                  0.001\n",
      "LOSS_WEIGHTS                   {'rpn_class_loss': 1.0, 'rpn_bbox_loss': 1.0, 'mrcnn_class_loss': 1.0, 'mrcnn_bbox_loss': 1.0, 'mrcnn_mask_loss': 1.0}\n",
      "MASK_POOL_SIZE                 14\n",
      "MASK_SHAPE                     [28, 28]\n",
      "MAX_GT_INSTANCES               100\n",
      "MEAN_PIXEL                     [123.7 116.8 103.9]\n",
      "MINI_MASK_SHAPE                (56, 56)\n",
      "NAME                           box\n",
      "NUM_CLASSES                    2\n",
      "POOL_SIZE                      7\n",
      "POST_NMS_ROIS_INFERENCE        1000\n",
      "POST_NMS_ROIS_TRAINING         2000\n",
      "PRE_NMS_LIMIT                  6000\n",
      "ROI_POSITIVE_RATIO             0.33\n",
      "RPN_ANCHOR_RATIOS              [0.5, 1, 2]\n",
      "RPN_ANCHOR_SCALES              (16, 32, 64, 128, 256)\n",
      "RPN_ANCHOR_STRIDE              1\n",
      "RPN_BBOX_STD_DEV               [0.1 0.1 0.2 0.2]\n",
      "RPN_NMS_THRESHOLD              0.7\n",
      "RPN_TRAIN_ANCHORS_PER_IMAGE    256\n",
      "STEPS_PER_EPOCH                1000.0\n",
      "TOP_DOWN_PYRAMID_SIZE          256\n",
      "TRAIN_BN                       False\n",
      "TRAIN_ROIS_PER_IMAGE           64\n",
      "USE_MINI_MASK                  True\n",
      "USE_RPN_ROIS                   True\n",
      "VALIDATION_STEPS               100.0\n",
      "WEIGHT_DECAY                   0.0001\n",
      "\n",
      "\n"
     ]
    }
   ],
   "source": [
    "# Override the training configurations with a few\n",
    "# changes for inferencing.\n",
    "class InferenceConfig(config.__class__):\n",
    "    # Run detection on one image at a time\n",
    "    GPU_COUNT = 1\n",
    "    IMAGES_PER_GPU = 1\n",
    "\n",
    "config = InferenceConfig()\n",
    "config.display()"
   ]
  },
  {
   "cell_type": "markdown",
   "metadata": {},
   "source": [
    "## Notebook Preferences"
   ]
  },
  {
   "cell_type": "code",
   "execution_count": 5,
   "metadata": {},
   "outputs": [],
   "source": [
    "# Device to load the neural network on.\n",
    "# Useful if you're training a model on the same \n",
    "# machine, in which case use CPU and leave the\n",
    "# GPU for training.\n",
    "DEVICE = \"/gpu:0\"  # /cpu:0 or /gpu:0\n",
    "\n",
    "# Inspect the model in training or inference modes\n",
    "# values: 'inference' or 'training'\n",
    "# TODO: code for 'training' test mode not ready yet\n",
    "TEST_MODE = \"inference\""
   ]
  },
  {
   "cell_type": "code",
   "execution_count": 6,
   "metadata": {},
   "outputs": [],
   "source": [
    "def get_ax(rows=1, cols=1, size=16):\n",
    "    \"\"\"Return a Matplotlib Axes array to be used in\n",
    "    all visualizations in the notebook. Provide a\n",
    "    central point to control graph sizes.\n",
    "    \n",
    "    Adjust the size attribute to control how big to render images\n",
    "    \"\"\"\n",
    "    _, ax = plt.subplots(rows, cols, figsize=(size*cols, size*rows))\n",
    "    return ax"
   ]
  },
  {
   "cell_type": "markdown",
   "metadata": {},
   "source": [
    "## Load Validation Dataset"
   ]
  },
  {
   "cell_type": "code",
   "execution_count": 7,
   "metadata": {},
   "outputs": [
    {
     "name": "stdout",
     "output_type": "stream",
     "text": [
      "loading annotations into memory...\n",
      "Done (t=0.01s)\n",
      "creating index...\n",
      "index created!\n",
      "Images: 115\n",
      "Classes: ['BG', 'box']\n"
     ]
    }
   ],
   "source": [
    "# Load validation dataset\n",
    "dataset = boxes.BoxDataset()\n",
    "dataset.load_box(BOXES_DIR, \"test2\")\n",
    "\n",
    "# Must call before using the dataset\n",
    "dataset.prepare()\n",
    "\n",
    "print(\"Images: {}\\nClasses: {}\".format(len(dataset.image_ids), dataset.class_names))"
   ]
  },
  {
   "cell_type": "code",
   "execution_count": 8,
   "metadata": {},
   "outputs": [
    {
     "name": "stdout",
     "output_type": "stream",
     "text": [
      "loading annotations into memory...\n",
      "Done (t=0.01s)\n",
      "creating index...\n",
      "index created!\n",
      "Images: 123\n",
      "Classes: ['BG', 'box']\n"
     ]
    }
   ],
   "source": [
    "# Load validation dataset\n",
    "dataset_test = boxes.BoxDataset()\n",
    "dataset_test.load_box(BOXES_DIR, \"test\")\n",
    "\n",
    "# Must call before using the dataset\n",
    "dataset_test.prepare()\n",
    "\n",
    "print(\"Images: {}\\nClasses: {}\".format(len(dataset_test.image_ids), dataset_test.class_names))"
   ]
  },
  {
   "cell_type": "markdown",
   "metadata": {},
   "source": [
    "## Load Model"
   ]
  },
  {
   "cell_type": "code",
   "execution_count": 9,
   "metadata": {},
   "outputs": [],
   "source": [
    "# Create model in inference mode\n",
    "with tf.device(DEVICE):\n",
    "    model = modellib.MaskRCNN(mode=\"inference\", model_dir=MODEL_DIR,\n",
    "                              config=config)"
   ]
  },
  {
   "cell_type": "code",
   "execution_count": 25,
   "metadata": {
    "scrolled": false
   },
   "outputs": [
    {
     "name": "stdout",
     "output_type": "stream",
     "text": [
      "Loading weights  /home/mikkel/workspace/instance_segmentation/Mask_RCNN/logs/box20200925T1502_train1000_synth+new-real_heads40_res4+120_all160_real180/mask_rcnn_box_0180.h5\n"
     ]
    }
   ],
   "source": [
    "# Set path to balloon weights file\n",
    "\n",
    "# Download file from the Releases page and set its path\n",
    "# https://github.com/matterport/Mask_RCNN/releases\n",
    "# weights_path = \"/path/to/mask_rcnn_balloon.h5\"\n",
    "\n",
    "# Or, load the last model you trained\n",
    "\n",
    "#weights_path = os.path.join(MODEL_DIR, \"box20200928T1520/mask_rcnn_box_0140.h5\")\n",
    "weights_path = os.path.join(MODEL_DIR, \"box20200925T1502_train1000_synth+new-real_heads40_res4+120_all160_real180/mask_rcnn_box_0180.h5\")\n",
    "#weights_path = model.find_last()\n",
    "#weights_path = os.path.join(MODEL_DIR, \"box20201002T1519box20200925T1502_train_15Ksynth+real_heads100_res4+200_real220/mask_rcnn_box_0200.h5\")\n",
    "#weights_path = os.path.join(MODEL_DIR, \"box20200918T1508_train5000_finetuned_on_real_data/mask_rcnn_box_0020.h5\")\n",
    "\n",
    "#weights_path = os.path.join(MODEL_DIR, \"box20200917T0748_train1000_synth_box_with_content_imagenet_heads-res4-all/mask_rcnn_box_0100.h5\")\n",
    "\n",
    "\n",
    "# Load weights\n",
    "print(\"Loading weights \", weights_path)\n",
    "model.load_weights(weights_path, by_name=True)"
   ]
  },
  {
   "cell_type": "markdown",
   "metadata": {},
   "source": [
    "## Run Detection"
   ]
  },
  {
   "cell_type": "code",
   "execution_count": 11,
   "metadata": {},
   "outputs": [],
   "source": [
    "import cv2\n",
    "import time\n",
    "import numpy as np\n",
    "import PIL.Image\n",
    "from io import BytesIO\n",
    "import IPython.display\n",
    "import ipywidgets as widgets\n",
    "import threading\n",
    "import time\n",
    "import datetime\n",
    "import pyrealsense2 as rs\n",
    "\n",
    "\n",
    "class FPSCounter:\n",
    "    def __init__(self):\n",
    "        self._start = None\n",
    "        self._end = None\n",
    "        self._noFrames = 0\n",
    "\n",
    "    def start(self):\n",
    "        self._start = datetime.datetime.now()\n",
    "        return self\n",
    "\n",
    "    def stop(self):\n",
    "        self._end = datetime.datetime.now()\n",
    "\n",
    "    def update(self):\n",
    "        self._noFrames += 1\n",
    "    \n",
    "    def elapsed(self):\n",
    "        return (self._end - self._start).total_seconds()\n",
    "\n",
    "    def fps(self):\n",
    "        return self._noFrames/self.elapsed()\n",
    "\n",
    "def get_realsense_images():\n",
    "    while True:\n",
    "        # Wait for a coherent pair of frames: depth and color\n",
    "        frames = pipeline.wait_for_frames()\n",
    "        depth_frame = frames.get_depth_frame()\n",
    "        color_frame = frames.get_color_frame()\n",
    "        #if not depth_frame or not color_frame:\n",
    "        if not color_frame:\n",
    "            continue\n",
    "        # Convert images to numpy arrays\n",
    "        depth_image = np.asanyarray(depth_frame.get_data())\n",
    "        points = pc.calculate(depth_frame)\n",
    "        # Grab new intrinsics (may be changed by decimation)\n",
    "        depth_intrinsics = rs.video_stream_profile(depth_frame.profile).get_intrinsics()\n",
    "        w, h = depth_intrinsics.width, depth_intrinsics.height\n",
    "        xyz = np.asarray(points.get_vertices(2)).reshape(h, w, 3)\n",
    "        color_image = np.asanyarray(color_frame.get_data())\n",
    "        np.save(\"xyz.npy\", xyz)\n",
    "        np.save(\"rgb.npy\", color_image)\n",
    "        #return color_image, depth_image\n",
    "        return color_image\n",
    "\n",
    "#Use 'jpeg' instead of 'png' (~5 times faster)\n",
    "def showarray(a, prev_display_id=None, fmt='jpeg'):\n",
    "    f = BytesIO()\n",
    "    PIL.Image.fromarray(a).save(f, fmt)\n",
    "    obj = IPython.display.Image(data=f.getvalue())\n",
    "    if prev_display_id is not None:\n",
    "        IPython.display.update_display(obj, display_id=prev_display_id)\n",
    "        return prev_display_id\n",
    "    else:\n",
    "        return IPython.display.display(obj, display_id=True)"
   ]
  },
  {
   "cell_type": "code",
   "execution_count": 12,
   "metadata": {},
   "outputs": [],
   "source": [
    "def get_detection(image):\n",
    "    # Run object detection\n",
    "    results = model.detect([image], verbose=0)\n",
    "\n",
    "    # Display results\n",
    "    r = results[0]\n",
    "    boxes = r['rois']\n",
    "    masks = r['masks']\n",
    "    class_ids = r['class_ids']\n",
    "    class_names = dataset.class_names\n",
    "    scores = r['scores']\n",
    "    n_instances = boxes.shape[0]\n",
    "    colors = visualize.color_map()\n",
    "    # Number of instances\n",
    "    N = boxes.shape[0]\n",
    "    if not N:\n",
    "        print(\"\\n*** No instances to display *** \\n\")\n",
    "        return None\n",
    "    else:\n",
    "        assert boxes.shape[0] == masks.shape[-1] == class_ids.shape[0]\n",
    "    # Generate random colors\n",
    "    colors = visualize.random_colors(N)\n",
    "\n",
    "    # Show area outside image boundaries.\n",
    "    height, width = image.shape[:2]\n",
    "\n",
    "    masked_image = image.astype(np.uint32).copy()\n",
    "    for i in range(N):\n",
    "        color = colors[i]\n",
    "\n",
    "        # Bounding box\n",
    "        if not np.any(boxes[i]):\n",
    "            # Skip this instance. Has no bbox. Likely lost in image cropping.\n",
    "            continue\n",
    "        # Label\n",
    "        class_id = class_ids[i]\n",
    "        score = scores[i] if scores is not None else None\n",
    "        label = class_names[class_id]\n",
    "        caption = \"{} {:.3f}\".format(label, score) if score else label\n",
    "\n",
    "        # Mask\n",
    "        mask = masks[:, :, i]\n",
    "        masked_image = visualize.apply_mask(masked_image, mask, color)\n",
    "    return masked_image.astype(np.uint8)"
   ]
  },
  {
   "cell_type": "code",
   "execution_count": 28,
   "metadata": {},
   "outputs": [
    {
     "name": "stderr",
     "output_type": "stream",
     "text": [
      "<ipython-input-28-c5ac260287ce>:7: DeprecationWarning: an integer is required (got type pyrealsense2.pyrealsense2.format).  Implicit conversion to integers using __int__ is deprecated, and may be removed in a future version of Python.\n",
      "  config.enable_stream(rs.stream.depth, 640, 480, rs.format.z16, 30)\n",
      "<ipython-input-28-c5ac260287ce>:8: DeprecationWarning: an integer is required (got type pyrealsense2.pyrealsense2.format).  Implicit conversion to integers using __int__ is deprecated, and may be removed in a future version of Python.\n",
      "  config.enable_stream(rs.stream.color, 640, 480, rs.format.bgr8, 30)\n"
     ]
    },
    {
     "data": {
      "text/plain": [
       "<pyrealsense2.pyrealsense2.pipeline_profile at 0x7f7c14322970>"
      ]
     },
     "execution_count": 28,
     "metadata": {},
     "output_type": "execute_result"
    }
   ],
   "source": [
    "# Declare pointcloud object, for calculating pointclouds and texture mappings\n",
    "pc = rs.pointcloud()\n",
    "\n",
    "# Configure depth and color streams\n",
    "pipeline = rs.pipeline()\n",
    "config = rs.config()\n",
    "config.enable_stream(rs.stream.depth, 640, 480, rs.format.z16, 30)\n",
    "config.enable_stream(rs.stream.color, 640, 480, rs.format.bgr8, 30)\n",
    "# Start streaming\n",
    "pipeline.start(config)"
   ]
  },
  {
   "cell_type": "code",
   "execution_count": null,
   "metadata": {},
   "outputs": [],
   "source": []
  },
  {
   "cell_type": "code",
   "execution_count": 30,
   "metadata": {},
   "outputs": [
    {
     "data": {
      "image/jpeg": "[encoded data removed]",
      "text/plain": [
       "<IPython.core.display.Image object>"
      ]
     },
     "metadata": {},
     "output_type": "display_data"
    },
    {
     "name": "stdout",
     "output_type": "stream",
     "text": [
      "(480, 640)\n",
      "FPS:  4.686561772301443\n",
      "Elapsed seconds:  10.24205\n",
      "Stream stopped\n"
     ]
    }
   ],
   "source": [
    "try:\n",
    "    fps = FPSCounter().start()\n",
    "    while True:\n",
    "        # Capture frame-by-frame\n",
    "        frame = cv2.cvtColor(get_realsense_images(), cv2.COLOR_BGR2RGB)\n",
    "# Convert the image from OpenCV BGR format to matplotlib RGB format\n",
    "        # to display the image\n",
    "        detection = get_detection(frame)\n",
    "        IPython.display.clear_output(wait=True)\n",
    "        if detection is not None:\n",
    "            showarray(detection)\n",
    "        else:\n",
    "            showarray(frame)\n",
    "        # Display the frame info until new frame is available\n",
    "        fps.update()\n",
    "    print(\"Stream stopped\")\n",
    "except KeyboardInterrupt:\n",
    "    fps.stop()\n",
    "    print('FPS: ', fps.fps())\n",
    "    print('Elapsed seconds: ', fps.elapsed())\n",
    "    print(\"Stream stopped\")"
   ]
  },
  {
   "cell_type": "code",
   "execution_count": null,
   "metadata": {},
   "outputs": [],
   "source": [
    "pipeline.stop()"
   ]
  },
  {
   "cell_type": "code",
   "execution_count": null,
   "metadata": {},
   "outputs": [],
   "source": [
    "# Configure depth and color streams\n",
    "pipeline = rs.pipeline()\n",
    "config = rs.config()\n",
    "config.enable_stream(rs.stream.depth, 640, 480, rs.format.z16, 30)\n",
    "config.enable_stream(rs.stream.color, 640, 480, rs.format.bgr8, 30)\n",
    "# Start streaming\n",
    "pipeline.start(config)\n",
    "try:\n",
    "    for i in range(50):\n",
    "        # Capture frame-by-frame\n",
    "        frame = get_realsense_images()\n",
    "# Convert the image from OpenCV BGR format to matplotlib RGB format\n",
    "        # to display the image\n",
    "        frame = get_detection(cv2.cvtColor(frame, cv2.COLOR_BGR2RGB))\n",
    "        showarray(frame)\n",
    "        # Display the frame info until new frame is available\n",
    "        IPython.display.clear_output(wait=True)\n",
    "except KeyboardInterrupt:\n",
    "    pipeline.stop()\n",
    "    print(\"Stream stopped\")"
   ]
  },
  {
   "cell_type": "code",
   "execution_count": null,
   "metadata": {},
   "outputs": [],
   "source": [
    "print(verts.shape)"
   ]
  },
  {
   "cell_type": "code",
   "execution_count": 11,
   "metadata": {},
   "outputs": [
    {
     "name": "stdout",
     "output_type": "stream",
     "text": [
      "Processing 1 images\n",
      "image                    shape: (480, 640, 3)         min:    0.00000  max:  255.00000  uint8\n",
      "molded_images            shape: (1, 640, 640, 3)      min: -123.70000  max:  151.10000  float64\n",
      "image_metas              shape: (1, 14)               min:    0.00000  max:  640.00000  float64\n",
      "anchors                  shape: (1, 102300, 4)        min:   -0.28329  max:    1.18313  float32\n",
      "Processing 1 images\n",
      "image                    shape: (480, 640, 3)         min:    0.00000  max:  255.00000  uint8\n",
      "molded_images            shape: (1, 640, 640, 3)      min: -123.70000  max:  151.10000  float64\n",
      "image_metas              shape: (1, 14)               min:    0.00000  max:  640.00000  float64\n",
      "anchors                  shape: (1, 102300, 4)        min:   -0.28329  max:    1.18313  float32\n",
      "Processing 1 images\n",
      "image                    shape: (480, 640, 3)         min:    0.00000  max:  255.00000  uint8\n",
      "molded_images            shape: (1, 640, 640, 3)      min: -123.70000  max:  151.10000  float64\n",
      "image_metas              shape: (1, 14)               min:    0.00000  max:  640.00000  float64\n",
      "anchors                  shape: (1, 102300, 4)        min:   -0.28329  max:    1.18313  float32\n",
      "Processing 1 images\n",
      "image                    shape: (480, 640, 3)         min:    0.00000  max:  255.00000  uint8\n",
      "molded_images            shape: (1, 640, 640, 3)      min: -123.70000  max:  151.10000  float64\n",
      "image_metas              shape: (1, 14)               min:    0.00000  max:  640.00000  float64\n",
      "anchors                  shape: (1, 102300, 4)        min:   -0.28329  max:    1.18313  float32\n",
      "Processing 1 images\n",
      "image                    shape: (480, 640, 3)         min:    0.00000  max:  255.00000  uint8\n",
      "molded_images            shape: (1, 640, 640, 3)      min: -123.70000  max:  151.10000  float64\n",
      "image_metas              shape: (1, 14)               min:    0.00000  max:  640.00000  float64\n",
      "anchors                  shape: (1, 102300, 4)        min:   -0.28329  max:    1.18313  float32\n",
      "Processing 1 images\n",
      "image                    shape: (480, 640, 3)         min:    0.00000  max:  255.00000  uint8\n",
      "molded_images            shape: (1, 640, 640, 3)      min: -123.70000  max:  151.10000  float64\n",
      "image_metas              shape: (1, 14)               min:    0.00000  max:  640.00000  float64\n",
      "anchors                  shape: (1, 102300, 4)        min:   -0.28329  max:    1.18313  float32\n",
      "Processing 1 images\n",
      "image                    shape: (480, 640, 3)         min:    0.00000  max:  255.00000  uint8\n",
      "molded_images            shape: (1, 640, 640, 3)      min: -123.70000  max:  151.10000  float64\n",
      "image_metas              shape: (1, 14)               min:    0.00000  max:  640.00000  float64\n",
      "anchors                  shape: (1, 102300, 4)        min:   -0.28329  max:    1.18313  float32\n",
      "Processing 1 images\n",
      "image                    shape: (480, 640, 3)         min:    0.00000  max:  255.00000  uint8\n",
      "molded_images            shape: (1, 640, 640, 3)      min: -123.70000  max:  151.10000  float64\n",
      "image_metas              shape: (1, 14)               min:    0.00000  max:  640.00000  float64\n",
      "anchors                  shape: (1, 102300, 4)        min:   -0.28329  max:    1.18313  float32\n",
      "Processing 1 images\n",
      "image                    shape: (480, 640, 3)         min:    0.00000  max:  255.00000  uint8\n",
      "molded_images            shape: (1, 640, 640, 3)      min: -123.70000  max:  151.10000  float64\n",
      "image_metas              shape: (1, 14)               min:    0.00000  max:  640.00000  float64\n",
      "anchors                  shape: (1, 102300, 4)        min:   -0.28329  max:    1.18313  float32\n",
      "Processing 1 images\n",
      "image                    shape: (480, 640, 3)         min:    0.00000  max:  255.00000  uint8\n",
      "molded_images            shape: (1, 640, 640, 3)      min: -123.70000  max:  151.10000  float64\n",
      "image_metas              shape: (1, 14)               min:    0.00000  max:  640.00000  float64\n",
      "anchors                  shape: (1, 102300, 4)        min:   -0.28329  max:    1.18313  float32\n",
      "Processing 1 images\n",
      "image                    shape: (480, 640, 3)         min:    0.00000  max:  255.00000  uint8\n",
      "molded_images            shape: (1, 640, 640, 3)      min: -123.70000  max:  151.10000  float64\n",
      "image_metas              shape: (1, 14)               min:    0.00000  max:  640.00000  float64\n",
      "anchors                  shape: (1, 102300, 4)        min:   -0.28329  max:    1.18313  float32\n",
      "Processing 1 images\n",
      "image                    shape: (480, 640, 3)         min:    0.00000  max:  255.00000  uint8\n",
      "molded_images            shape: (1, 640, 640, 3)      min: -123.70000  max:  151.10000  float64\n",
      "image_metas              shape: (1, 14)               min:    0.00000  max:  640.00000  float64\n",
      "anchors                  shape: (1, 102300, 4)        min:   -0.28329  max:    1.18313  float32\n",
      "Processing 1 images\n",
      "image                    shape: (480, 640, 3)         min:    0.00000  max:  255.00000  uint8\n",
      "molded_images            shape: (1, 640, 640, 3)      min: -123.70000  max:  151.10000  float64\n",
      "image_metas              shape: (1, 14)               min:    0.00000  max:  640.00000  float64\n",
      "anchors                  shape: (1, 102300, 4)        min:   -0.28329  max:    1.18313  float32\n",
      "Processing 1 images\n",
      "image                    shape: (480, 640, 3)         min:    0.00000  max:  255.00000  uint8\n",
      "molded_images            shape: (1, 640, 640, 3)      min: -123.70000  max:  151.10000  float64\n",
      "image_metas              shape: (1, 14)               min:    0.00000  max:  640.00000  float64\n",
      "anchors                  shape: (1, 102300, 4)        min:   -0.28329  max:    1.18313  float32\n",
      "Processing 1 images\n",
      "image                    shape: (480, 640, 3)         min:    0.00000  max:  255.00000  uint8\n",
      "molded_images            shape: (1, 640, 640, 3)      min: -123.70000  max:  151.10000  float64\n",
      "image_metas              shape: (1, 14)               min:    0.00000  max:  640.00000  float64\n",
      "anchors                  shape: (1, 102300, 4)        min:   -0.28329  max:    1.18313  float32\n",
      "Processing 1 images\n",
      "image                    shape: (480, 640, 3)         min:    0.00000  max:  255.00000  uint8\n",
      "molded_images            shape: (1, 640, 640, 3)      min: -123.70000  max:  151.10000  float64\n",
      "image_metas              shape: (1, 14)               min:    0.00000  max:  640.00000  float64\n",
      "anchors                  shape: (1, 102300, 4)        min:   -0.28329  max:    1.18313  float32\n",
      "Processing 1 images\n",
      "image                    shape: (480, 640, 3)         min:    0.00000  max:  255.00000  uint8\n",
      "molded_images            shape: (1, 640, 640, 3)      min: -123.70000  max:  151.10000  float64\n",
      "image_metas              shape: (1, 14)               min:    0.00000  max:  640.00000  float64\n",
      "anchors                  shape: (1, 102300, 4)        min:   -0.28329  max:    1.18313  float32\n",
      "Processing 1 images\n",
      "image                    shape: (480, 640, 3)         min:    0.00000  max:  255.00000  uint8\n",
      "molded_images            shape: (1, 640, 640, 3)      min: -123.70000  max:  151.10000  float64\n",
      "image_metas              shape: (1, 14)               min:    0.00000  max:  640.00000  float64\n",
      "anchors                  shape: (1, 102300, 4)        min:   -0.28329  max:    1.18313  float32\n",
      "Processing 1 images\n",
      "image                    shape: (480, 640, 3)         min:    0.00000  max:  255.00000  uint8\n",
      "molded_images            shape: (1, 640, 640, 3)      min: -123.70000  max:  151.10000  float64\n",
      "image_metas              shape: (1, 14)               min:    0.00000  max:  640.00000  float64\n",
      "anchors                  shape: (1, 102300, 4)        min:   -0.28329  max:    1.18313  float32\n",
      "Processing 1 images\n",
      "image                    shape: (480, 640, 3)         min:    0.00000  max:  255.00000  uint8\n",
      "molded_images            shape: (1, 640, 640, 3)      min: -123.70000  max:  151.10000  float64\n",
      "image_metas              shape: (1, 14)               min:    0.00000  max:  640.00000  float64\n",
      "anchors                  shape: (1, 102300, 4)        min:   -0.28329  max:    1.18313  float32\n",
      "Processing 1 images\n",
      "image                    shape: (480, 640, 3)         min:    0.00000  max:  255.00000  uint8\n",
      "molded_images            shape: (1, 640, 640, 3)      min: -123.70000  max:  151.10000  float64\n",
      "image_metas              shape: (1, 14)               min:    0.00000  max:  640.00000  float64\n",
      "anchors                  shape: (1, 102300, 4)        min:   -0.28329  max:    1.18313  float32\n"
     ]
    },
    {
     "name": "stderr",
     "output_type": "stream",
     "text": [
      "<ipython-input-5-30cc81e34ca0>:8: RuntimeWarning: More than 20 figures have been opened. Figures created through the pyplot interface (`matplotlib.pyplot.figure`) are retained until explicitly closed and may consume too much memory. (To control this warning, see the rcParam `figure.max_open_warning`).\n",
      "  _, ax = plt.subplots(rows, cols, figsize=(size*cols, size*rows))\n"
     ]
    },
    {
     "name": "stdout",
     "output_type": "stream",
     "text": [
      "Processing 1 images\n",
      "image                    shape: (480, 640, 3)         min:    0.00000  max:  255.00000  uint8\n",
      "molded_images            shape: (1, 640, 640, 3)      min: -123.70000  max:  151.10000  float64\n",
      "image_metas              shape: (1, 14)               min:    0.00000  max:  640.00000  float64\n",
      "anchors                  shape: (1, 102300, 4)        min:   -0.28329  max:    1.18313  float32\n",
      "Processing 1 images\n",
      "image                    shape: (480, 640, 3)         min:    0.00000  max:  255.00000  uint8\n",
      "molded_images            shape: (1, 640, 640, 3)      min: -123.70000  max:  151.10000  float64\n",
      "image_metas              shape: (1, 14)               min:    0.00000  max:  640.00000  float64\n",
      "anchors                  shape: (1, 102300, 4)        min:   -0.28329  max:    1.18313  float32\n",
      "Processing 1 images\n",
      "image                    shape: (480, 640, 3)         min:    0.00000  max:  255.00000  uint8\n",
      "molded_images            shape: (1, 640, 640, 3)      min: -123.70000  max:  151.10000  float64\n",
      "image_metas              shape: (1, 14)               min:    0.00000  max:  640.00000  float64\n",
      "anchors                  shape: (1, 102300, 4)        min:   -0.28329  max:    1.18313  float32\n",
      "Processing 1 images\n",
      "image                    shape: (480, 640, 3)         min:    0.00000  max:  255.00000  uint8\n",
      "molded_images            shape: (1, 640, 640, 3)      min: -123.70000  max:  151.10000  float64\n",
      "image_metas              shape: (1, 14)               min:    0.00000  max:  640.00000  float64\n",
      "anchors                  shape: (1, 102300, 4)        min:   -0.28329  max:    1.18313  float32\n",
      "Processing 1 images\n",
      "image                    shape: (480, 640, 3)         min:    0.00000  max:  255.00000  uint8\n",
      "molded_images            shape: (1, 640, 640, 3)      min: -123.70000  max:  151.10000  float64\n",
      "image_metas              shape: (1, 14)               min:    0.00000  max:  640.00000  float64\n",
      "anchors                  shape: (1, 102300, 4)        min:   -0.28329  max:    1.18313  float32\n",
      "Processing 1 images\n",
      "image                    shape: (480, 640, 3)         min:    0.00000  max:  255.00000  uint8\n",
      "molded_images            shape: (1, 640, 640, 3)      min: -123.70000  max:  151.10000  float64\n",
      "image_metas              shape: (1, 14)               min:    0.00000  max:  640.00000  float64\n",
      "anchors                  shape: (1, 102300, 4)        min:   -0.28329  max:    1.18313  float32\n",
      "Processing 1 images\n",
      "image                    shape: (480, 640, 3)         min:    0.00000  max:  255.00000  uint8\n",
      "molded_images            shape: (1, 640, 640, 3)      min: -123.70000  max:  151.10000  float64\n",
      "image_metas              shape: (1, 14)               min:    0.00000  max:  640.00000  float64\n",
      "anchors                  shape: (1, 102300, 4)        min:   -0.28329  max:    1.18313  float32\n",
      "Processing 1 images\n",
      "image                    shape: (480, 640, 3)         min:    0.00000  max:  255.00000  uint8\n",
      "molded_images            shape: (1, 640, 640, 3)      min: -123.70000  max:  151.10000  float64\n",
      "image_metas              shape: (1, 14)               min:    0.00000  max:  640.00000  float64\n",
      "anchors                  shape: (1, 102300, 4)        min:   -0.28329  max:    1.18313  float32\n",
      "Processing 1 images\n",
      "image                    shape: (480, 640, 3)         min:    0.00000  max:  255.00000  uint8\n",
      "molded_images            shape: (1, 640, 640, 3)      min: -123.70000  max:  151.10000  float64\n",
      "image_metas              shape: (1, 14)               min:    0.00000  max:  640.00000  float64\n",
      "anchors                  shape: (1, 102300, 4)        min:   -0.28329  max:    1.18313  float32\n",
      "Processing 1 images\n",
      "image                    shape: (480, 640, 3)         min:    0.00000  max:  255.00000  uint8\n",
      "molded_images            shape: (1, 640, 640, 3)      min: -123.70000  max:  151.10000  float64\n",
      "image_metas              shape: (1, 14)               min:    0.00000  max:  640.00000  float64\n",
      "anchors                  shape: (1, 102300, 4)        min:   -0.28329  max:    1.18313  float32\n",
      "Processing 1 images\n",
      "image                    shape: (480, 640, 3)         min:    0.00000  max:  255.00000  uint8\n",
      "molded_images            shape: (1, 640, 640, 3)      min: -123.70000  max:  151.10000  float64\n",
      "image_metas              shape: (1, 14)               min:    0.00000  max:  640.00000  float64\n",
      "anchors                  shape: (1, 102300, 4)        min:   -0.28329  max:    1.18313  float32\n",
      "Processing 1 images\n",
      "image                    shape: (480, 640, 3)         min:    0.00000  max:  255.00000  uint8\n",
      "molded_images            shape: (1, 640, 640, 3)      min: -123.70000  max:  151.10000  float64\n",
      "image_metas              shape: (1, 14)               min:    0.00000  max:  640.00000  float64\n",
      "anchors                  shape: (1, 102300, 4)        min:   -0.28329  max:    1.18313  float32\n",
      "Processing 1 images\n",
      "image                    shape: (480, 640, 3)         min:    0.00000  max:  255.00000  uint8\n",
      "molded_images            shape: (1, 640, 640, 3)      min: -123.70000  max:  151.10000  float64\n",
      "image_metas              shape: (1, 14)               min:    0.00000  max:  640.00000  float64\n",
      "anchors                  shape: (1, 102300, 4)        min:   -0.28329  max:    1.18313  float32\n",
      "Processing 1 images\n",
      "image                    shape: (480, 640, 3)         min:    0.00000  max:  255.00000  uint8\n",
      "molded_images            shape: (1, 640, 640, 3)      min: -123.70000  max:  151.10000  float64\n",
      "image_metas              shape: (1, 14)               min:    0.00000  max:  640.00000  float64\n",
      "anchors                  shape: (1, 102300, 4)        min:   -0.28329  max:    1.18313  float32\n",
      "Processing 1 images\n",
      "image                    shape: (480, 640, 3)         min:    0.00000  max:  255.00000  uint8\n",
      "molded_images            shape: (1, 640, 640, 3)      min: -123.70000  max:  151.10000  float64\n",
      "image_metas              shape: (1, 14)               min:    0.00000  max:  640.00000  float64\n",
      "anchors                  shape: (1, 102300, 4)        min:   -0.28329  max:    1.18313  float32\n",
      "Processing 1 images\n",
      "image                    shape: (480, 640, 3)         min:    0.00000  max:  255.00000  uint8\n",
      "molded_images            shape: (1, 640, 640, 3)      min: -123.70000  max:  151.10000  float64\n",
      "image_metas              shape: (1, 14)               min:    0.00000  max:  640.00000  float64\n",
      "anchors                  shape: (1, 102300, 4)        min:   -0.28329  max:    1.18313  float32\n",
      "Processing 1 images\n",
      "image                    shape: (480, 640, 3)         min:    0.00000  max:  255.00000  uint8\n",
      "molded_images            shape: (1, 640, 640, 3)      min: -123.70000  max:  151.10000  float64\n",
      "image_metas              shape: (1, 14)               min:    0.00000  max:  640.00000  float64\n",
      "anchors                  shape: (1, 102300, 4)        min:   -0.28329  max:    1.18313  float32\n",
      "Processing 1 images\n",
      "image                    shape: (480, 640, 3)         min:    0.00000  max:  255.00000  uint8\n",
      "molded_images            shape: (1, 640, 640, 3)      min: -123.70000  max:  151.10000  float64\n",
      "image_metas              shape: (1, 14)               min:    0.00000  max:  640.00000  float64\n",
      "anchors                  shape: (1, 102300, 4)        min:   -0.28329  max:    1.18313  float32\n",
      "Processing 1 images\n",
      "image                    shape: (480, 640, 3)         min:    0.00000  max:  255.00000  uint8\n",
      "molded_images            shape: (1, 640, 640, 3)      min: -123.70000  max:  151.10000  float64\n",
      "image_metas              shape: (1, 14)               min:    0.00000  max:  640.00000  float64\n",
      "anchors                  shape: (1, 102300, 4)        min:   -0.28329  max:    1.18313  float32\n",
      "Processing 1 images\n",
      "image                    shape: (480, 640, 3)         min:    0.00000  max:  255.00000  uint8\n",
      "molded_images            shape: (1, 640, 640, 3)      min: -123.70000  max:  151.10000  float64\n",
      "image_metas              shape: (1, 14)               min:    0.00000  max:  640.00000  float64\n",
      "anchors                  shape: (1, 102300, 4)        min:   -0.28329  max:    1.18313  float32\n",
      "Processing 1 images\n",
      "image                    shape: (480, 640, 3)         min:    0.00000  max:  255.00000  uint8\n",
      "molded_images            shape: (1, 640, 640, 3)      min: -123.70000  max:  151.10000  float64\n",
      "image_metas              shape: (1, 14)               min:    0.00000  max:  640.00000  float64\n",
      "anchors                  shape: (1, 102300, 4)        min:   -0.28329  max:    1.18313  float32\n"
     ]
    },
    {
     "name": "stdout",
     "output_type": "stream",
     "text": [
      "Processing 1 images\n",
      "image                    shape: (480, 640, 3)         min:    0.00000  max:  255.00000  uint8\n",
      "molded_images            shape: (1, 640, 640, 3)      min: -123.70000  max:  151.10000  float64\n",
      "image_metas              shape: (1, 14)               min:    0.00000  max:  640.00000  float64\n",
      "anchors                  shape: (1, 102300, 4)        min:   -0.28329  max:    1.18313  float32\n",
      "Processing 1 images\n",
      "image                    shape: (480, 640, 3)         min:    0.00000  max:  255.00000  uint8\n",
      "molded_images            shape: (1, 640, 640, 3)      min: -123.70000  max:  151.10000  float64\n",
      "image_metas              shape: (1, 14)               min:    0.00000  max:  640.00000  float64\n",
      "anchors                  shape: (1, 102300, 4)        min:   -0.28329  max:    1.18313  float32\n",
      "Processing 1 images\n",
      "image                    shape: (480, 640, 3)         min:    0.00000  max:  255.00000  uint8\n",
      "molded_images            shape: (1, 640, 640, 3)      min: -123.70000  max:  151.10000  float64\n",
      "image_metas              shape: (1, 14)               min:    0.00000  max:  640.00000  float64\n",
      "anchors                  shape: (1, 102300, 4)        min:   -0.28329  max:    1.18313  float32\n",
      "Processing 1 images\n",
      "image                    shape: (480, 640, 3)         min:    0.00000  max:  255.00000  uint8\n",
      "molded_images            shape: (1, 640, 640, 3)      min: -123.70000  max:  151.10000  float64\n",
      "image_metas              shape: (1, 14)               min:    0.00000  max:  640.00000  float64\n",
      "anchors                  shape: (1, 102300, 4)        min:   -0.28329  max:    1.18313  float32\n",
      "Processing 1 images\n",
      "image                    shape: (480, 640, 3)         min:    0.00000  max:  255.00000  uint8\n",
      "molded_images            shape: (1, 640, 640, 3)      min: -123.70000  max:  151.10000  float64\n",
      "image_metas              shape: (1, 14)               min:    0.00000  max:  640.00000  float64\n",
      "anchors                  shape: (1, 102300, 4)        min:   -0.28329  max:    1.18313  float32\n",
      "Processing 1 images\n",
      "image                    shape: (480, 640, 3)         min:    0.00000  max:  255.00000  uint8\n",
      "molded_images            shape: (1, 640, 640, 3)      min: -123.70000  max:  151.10000  float64\n",
      "image_metas              shape: (1, 14)               min:    0.00000  max:  640.00000  float64\n",
      "anchors                  shape: (1, 102300, 4)        min:   -0.28329  max:    1.18313  float32\n",
      "Processing 1 images\n",
      "image                    shape: (480, 640, 3)         min:    0.00000  max:  255.00000  uint8\n",
      "molded_images            shape: (1, 640, 640, 3)      min: -123.70000  max:  151.10000  float64\n",
      "image_metas              shape: (1, 14)               min:    0.00000  max:  640.00000  float64\n",
      "anchors                  shape: (1, 102300, 4)        min:   -0.28329  max:    1.18313  float32\n",
      "Processing 1 images\n",
      "image                    shape: (480, 640, 3)         min:    0.00000  max:  255.00000  uint8\n",
      "molded_images            shape: (1, 640, 640, 3)      min: -123.70000  max:  151.10000  float64\n",
      "image_metas              shape: (1, 14)               min:    0.00000  max:  640.00000  float64\n",
      "anchors                  shape: (1, 102300, 4)        min:   -0.28329  max:    1.18313  float32\n",
      "Processing 1 images\n",
      "image                    shape: (480, 640, 3)         min:    0.00000  max:  255.00000  uint8\n",
      "molded_images            shape: (1, 640, 640, 3)      min: -123.70000  max:  151.10000  float64\n",
      "image_metas              shape: (1, 14)               min:    0.00000  max:  640.00000  float64\n",
      "anchors                  shape: (1, 102300, 4)        min:   -0.28329  max:    1.18313  float32\n",
      "Processing 1 images\n",
      "image                    shape: (480, 640, 3)         min:    0.00000  max:  255.00000  uint8\n",
      "molded_images            shape: (1, 640, 640, 3)      min: -123.70000  max:  151.10000  float64\n",
      "image_metas              shape: (1, 14)               min:    0.00000  max:  640.00000  float64\n",
      "anchors                  shape: (1, 102300, 4)        min:   -0.28329  max:    1.18313  float32\n",
      "Processing 1 images\n",
      "image                    shape: (480, 640, 3)         min:    0.00000  max:  255.00000  uint8\n",
      "molded_images            shape: (1, 640, 640, 3)      min: -123.70000  max:  151.10000  float64\n",
      "image_metas              shape: (1, 14)               min:    0.00000  max:  640.00000  float64\n",
      "anchors                  shape: (1, 102300, 4)        min:   -0.28329  max:    1.18313  float32\n",
      "Processing 1 images\n",
      "image                    shape: (480, 640, 3)         min:    0.00000  max:  255.00000  uint8\n",
      "molded_images            shape: (1, 640, 640, 3)      min: -123.70000  max:  151.10000  float64\n",
      "image_metas              shape: (1, 14)               min:    0.00000  max:  640.00000  float64\n",
      "anchors                  shape: (1, 102300, 4)        min:   -0.28329  max:    1.18313  float32\n",
      "Processing 1 images\n",
      "image                    shape: (480, 640, 3)         min:    0.00000  max:  255.00000  uint8\n",
      "molded_images            shape: (1, 640, 640, 3)      min: -123.70000  max:  151.10000  float64\n",
      "image_metas              shape: (1, 14)               min:    0.00000  max:  640.00000  float64\n",
      "anchors                  shape: (1, 102300, 4)        min:   -0.28329  max:    1.18313  float32\n",
      "Processing 1 images\n",
      "image                    shape: (480, 640, 3)         min:    0.00000  max:  255.00000  uint8\n",
      "molded_images            shape: (1, 640, 640, 3)      min: -123.70000  max:  151.10000  float64\n",
      "image_metas              shape: (1, 14)               min:    0.00000  max:  640.00000  float64\n",
      "anchors                  shape: (1, 102300, 4)        min:   -0.28329  max:    1.18313  float32\n",
      "Processing 1 images\n",
      "image                    shape: (480, 640, 3)         min:    0.00000  max:  255.00000  uint8\n",
      "molded_images            shape: (1, 640, 640, 3)      min: -123.70000  max:  151.10000  float64\n",
      "image_metas              shape: (1, 14)               min:    0.00000  max:  640.00000  float64\n",
      "anchors                  shape: (1, 102300, 4)        min:   -0.28329  max:    1.18313  float32\n",
      "Processing 1 images\n",
      "image                    shape: (480, 640, 3)         min:    0.00000  max:  255.00000  uint8\n",
      "molded_images            shape: (1, 640, 640, 3)      min: -123.70000  max:  151.10000  float64\n",
      "image_metas              shape: (1, 14)               min:    0.00000  max:  640.00000  float64\n",
      "anchors                  shape: (1, 102300, 4)        min:   -0.28329  max:    1.18313  float32\n",
      "Processing 1 images\n",
      "image                    shape: (480, 640, 3)         min:    0.00000  max:  255.00000  uint8\n",
      "molded_images            shape: (1, 640, 640, 3)      min: -123.70000  max:  151.10000  float64\n",
      "image_metas              shape: (1, 14)               min:    0.00000  max:  640.00000  float64\n",
      "anchors                  shape: (1, 102300, 4)        min:   -0.28329  max:    1.18313  float32\n",
      "Processing 1 images\n",
      "image                    shape: (480, 640, 3)         min:    0.00000  max:  255.00000  uint8\n",
      "molded_images            shape: (1, 640, 640, 3)      min: -123.70000  max:  151.10000  float64\n",
      "image_metas              shape: (1, 14)               min:    0.00000  max:  640.00000  float64\n",
      "anchors                  shape: (1, 102300, 4)        min:   -0.28329  max:    1.18313  float32\n",
      "Processing 1 images\n",
      "image                    shape: (480, 640, 3)         min:    0.00000  max:  255.00000  uint8\n",
      "molded_images            shape: (1, 640, 640, 3)      min: -123.70000  max:  151.10000  float64\n",
      "image_metas              shape: (1, 14)               min:    0.00000  max:  640.00000  float64\n",
      "anchors                  shape: (1, 102300, 4)        min:   -0.28329  max:    1.18313  float32\n",
      "Processing 1 images\n",
      "image                    shape: (480, 640, 3)         min:    0.00000  max:  255.00000  uint8\n",
      "molded_images            shape: (1, 640, 640, 3)      min: -123.70000  max:  151.10000  float64\n",
      "image_metas              shape: (1, 14)               min:    0.00000  max:  640.00000  float64\n",
      "anchors                  shape: (1, 102300, 4)        min:   -0.28329  max:    1.18313  float32\n",
      "Processing 1 images\n",
      "image                    shape: (480, 640, 3)         min:    0.00000  max:  255.00000  uint8\n",
      "molded_images            shape: (1, 640, 640, 3)      min: -123.70000  max:  151.10000  float64\n",
      "image_metas              shape: (1, 14)               min:    0.00000  max:  640.00000  float64\n",
      "anchors                  shape: (1, 102300, 4)        min:   -0.28329  max:    1.18313  float32\n"
     ]
    },
    {
     "name": "stdout",
     "output_type": "stream",
     "text": [
      "Processing 1 images\n",
      "image                    shape: (480, 640, 3)         min:    0.00000  max:  255.00000  uint8\n",
      "molded_images            shape: (1, 640, 640, 3)      min: -123.70000  max:  151.10000  float64\n",
      "image_metas              shape: (1, 14)               min:    0.00000  max:  640.00000  float64\n",
      "anchors                  shape: (1, 102300, 4)        min:   -0.28329  max:    1.18313  float32\n",
      "Processing 1 images\n",
      "image                    shape: (480, 640, 3)         min:    0.00000  max:  255.00000  uint8\n",
      "molded_images            shape: (1, 640, 640, 3)      min: -123.70000  max:  151.10000  float64\n",
      "image_metas              shape: (1, 14)               min:    0.00000  max:  640.00000  float64\n",
      "anchors                  shape: (1, 102300, 4)        min:   -0.28329  max:    1.18313  float32\n",
      "Processing 1 images\n",
      "image                    shape: (480, 640, 3)         min:    0.00000  max:  255.00000  uint8\n",
      "molded_images            shape: (1, 640, 640, 3)      min: -123.70000  max:  151.10000  float64\n",
      "image_metas              shape: (1, 14)               min:    0.00000  max:  640.00000  float64\n",
      "anchors                  shape: (1, 102300, 4)        min:   -0.28329  max:    1.18313  float32\n",
      "Processing 1 images\n",
      "image                    shape: (480, 640, 3)         min:    0.00000  max:  255.00000  uint8\n",
      "molded_images            shape: (1, 640, 640, 3)      min: -123.70000  max:  151.10000  float64\n",
      "image_metas              shape: (1, 14)               min:    0.00000  max:  640.00000  float64\n",
      "anchors                  shape: (1, 102300, 4)        min:   -0.28329  max:    1.18313  float32\n",
      "Processing 1 images\n",
      "image                    shape: (480, 640, 3)         min:    0.00000  max:  255.00000  uint8\n",
      "molded_images            shape: (1, 640, 640, 3)      min: -123.70000  max:  151.10000  float64\n",
      "image_metas              shape: (1, 14)               min:    0.00000  max:  640.00000  float64\n",
      "anchors                  shape: (1, 102300, 4)        min:   -0.28329  max:    1.18313  float32\n",
      "Processing 1 images\n",
      "image                    shape: (480, 640, 3)         min:    0.00000  max:  255.00000  uint8\n",
      "molded_images            shape: (1, 640, 640, 3)      min: -123.70000  max:  151.10000  float64\n",
      "image_metas              shape: (1, 14)               min:    0.00000  max:  640.00000  float64\n",
      "anchors                  shape: (1, 102300, 4)        min:   -0.28329  max:    1.18313  float32\n",
      "Processing 1 images\n",
      "image                    shape: (480, 640, 3)         min:    0.00000  max:  255.00000  uint8\n",
      "molded_images            shape: (1, 640, 640, 3)      min: -123.70000  max:  151.10000  float64\n",
      "image_metas              shape: (1, 14)               min:    0.00000  max:  640.00000  float64\n",
      "anchors                  shape: (1, 102300, 4)        min:   -0.28329  max:    1.18313  float32\n",
      "Processing 1 images\n",
      "image                    shape: (480, 640, 3)         min:    0.00000  max:  255.00000  uint8\n",
      "molded_images            shape: (1, 640, 640, 3)      min: -123.70000  max:  151.10000  float64\n",
      "image_metas              shape: (1, 14)               min:    0.00000  max:  640.00000  float64\n",
      "anchors                  shape: (1, 102300, 4)        min:   -0.28329  max:    1.18313  float32\n",
      "Processing 1 images\n",
      "image                    shape: (480, 640, 3)         min:    0.00000  max:  255.00000  uint8\n",
      "molded_images            shape: (1, 640, 640, 3)      min: -123.70000  max:  151.10000  float64\n",
      "image_metas              shape: (1, 14)               min:    0.00000  max:  640.00000  float64\n",
      "anchors                  shape: (1, 102300, 4)        min:   -0.28329  max:    1.18313  float32\n",
      "Processing 1 images\n",
      "image                    shape: (480, 640, 3)         min:    0.00000  max:  255.00000  uint8\n",
      "molded_images            shape: (1, 640, 640, 3)      min: -123.70000  max:  151.10000  float64\n",
      "image_metas              shape: (1, 14)               min:    0.00000  max:  640.00000  float64\n",
      "anchors                  shape: (1, 102300, 4)        min:   -0.28329  max:    1.18313  float32\n",
      "Processing 1 images\n",
      "image                    shape: (480, 640, 3)         min:    0.00000  max:  255.00000  uint8\n",
      "molded_images            shape: (1, 640, 640, 3)      min: -123.70000  max:  151.10000  float64\n",
      "image_metas              shape: (1, 14)               min:    0.00000  max:  640.00000  float64\n",
      "anchors                  shape: (1, 102300, 4)        min:   -0.28329  max:    1.18313  float32\n",
      "Processing 1 images\n",
      "image                    shape: (480, 640, 3)         min:    0.00000  max:  255.00000  uint8\n",
      "molded_images            shape: (1, 640, 640, 3)      min: -123.70000  max:  151.10000  float64\n",
      "image_metas              shape: (1, 14)               min:    0.00000  max:  640.00000  float64\n",
      "anchors                  shape: (1, 102300, 4)        min:   -0.28329  max:    1.18313  float32\n",
      "Processing 1 images\n",
      "image                    shape: (480, 640, 3)         min:    0.00000  max:  255.00000  uint8\n",
      "molded_images            shape: (1, 640, 640, 3)      min: -123.70000  max:  151.10000  float64\n",
      "image_metas              shape: (1, 14)               min:    0.00000  max:  640.00000  float64\n",
      "anchors                  shape: (1, 102300, 4)        min:   -0.28329  max:    1.18313  float32\n",
      "Processing 1 images\n",
      "image                    shape: (480, 640, 3)         min:    0.00000  max:  255.00000  uint8\n",
      "molded_images            shape: (1, 640, 640, 3)      min: -123.70000  max:  151.10000  float64\n",
      "image_metas              shape: (1, 14)               min:    0.00000  max:  640.00000  float64\n",
      "anchors                  shape: (1, 102300, 4)        min:   -0.28329  max:    1.18313  float32\n",
      "Processing 1 images\n",
      "image                    shape: (480, 640, 3)         min:    0.00000  max:  255.00000  uint8\n",
      "molded_images            shape: (1, 640, 640, 3)      min: -123.70000  max:  151.10000  float64\n",
      "image_metas              shape: (1, 14)               min:    0.00000  max:  640.00000  float64\n",
      "anchors                  shape: (1, 102300, 4)        min:   -0.28329  max:    1.18313  float32\n",
      "Processing 1 images\n",
      "image                    shape: (480, 640, 3)         min:    0.00000  max:  255.00000  uint8\n",
      "molded_images            shape: (1, 640, 640, 3)      min: -123.70000  max:  148.10000  float64\n",
      "image_metas              shape: (1, 14)               min:    0.00000  max:  640.00000  float64\n",
      "anchors                  shape: (1, 102300, 4)        min:   -0.28329  max:    1.18313  float32\n",
      "Processing 1 images\n",
      "image                    shape: (480, 640, 3)         min:    0.00000  max:  255.00000  uint8\n",
      "molded_images            shape: (1, 640, 640, 3)      min: -123.70000  max:  151.10000  float64\n",
      "image_metas              shape: (1, 14)               min:    0.00000  max:  640.00000  float64\n",
      "anchors                  shape: (1, 102300, 4)        min:   -0.28329  max:    1.18313  float32\n",
      "Processing 1 images\n",
      "image                    shape: (480, 640, 3)         min:    0.00000  max:  255.00000  uint8\n",
      "molded_images            shape: (1, 640, 640, 3)      min: -123.70000  max:  151.10000  float64\n",
      "image_metas              shape: (1, 14)               min:    0.00000  max:  640.00000  float64\n",
      "anchors                  shape: (1, 102300, 4)        min:   -0.28329  max:    1.18313  float32\n",
      "Processing 1 images\n",
      "image                    shape: (480, 640, 3)         min:    0.00000  max:  255.00000  uint8\n",
      "molded_images            shape: (1, 640, 640, 3)      min: -123.70000  max:  151.10000  float64\n",
      "image_metas              shape: (1, 14)               min:    0.00000  max:  640.00000  float64\n",
      "anchors                  shape: (1, 102300, 4)        min:   -0.28329  max:    1.18313  float32\n",
      "Processing 1 images\n",
      "image                    shape: (480, 640, 3)         min:    0.00000  max:  255.00000  uint8\n",
      "molded_images            shape: (1, 640, 640, 3)      min: -123.70000  max:  147.10000  float64\n",
      "image_metas              shape: (1, 14)               min:    0.00000  max:  640.00000  float64\n",
      "anchors                  shape: (1, 102300, 4)        min:   -0.28329  max:    1.18313  float32\n",
      "Processing 1 images\n",
      "image                    shape: (480, 640, 3)         min:    0.00000  max:  255.00000  uint8\n",
      "molded_images            shape: (1, 640, 640, 3)      min: -123.70000  max:  151.10000  float64\n",
      "image_metas              shape: (1, 14)               min:    0.00000  max:  640.00000  float64\n",
      "anchors                  shape: (1, 102300, 4)        min:   -0.28329  max:    1.18313  float32\n"
     ]
    },
    {
     "name": "stdout",
     "output_type": "stream",
     "text": [
      "Processing 1 images\n",
      "image                    shape: (480, 640, 3)         min:    0.00000  max:  255.00000  uint8\n",
      "molded_images            shape: (1, 640, 640, 3)      min: -123.70000  max:  145.10000  float64\n",
      "image_metas              shape: (1, 14)               min:    0.00000  max:  640.00000  float64\n",
      "anchors                  shape: (1, 102300, 4)        min:   -0.28329  max:    1.18313  float32\n",
      "Processing 1 images\n",
      "image                    shape: (480, 640, 3)         min:    0.00000  max:  255.00000  uint8\n",
      "molded_images            shape: (1, 640, 640, 3)      min: -123.70000  max:  149.10000  float64\n",
      "image_metas              shape: (1, 14)               min:    0.00000  max:  640.00000  float64\n",
      "anchors                  shape: (1, 102300, 4)        min:   -0.28329  max:    1.18313  float32\n",
      "Processing 1 images\n",
      "image                    shape: (480, 640, 3)         min:    0.00000  max:  255.00000  uint8\n",
      "molded_images            shape: (1, 640, 640, 3)      min: -123.70000  max:  150.10000  float64\n",
      "image_metas              shape: (1, 14)               min:    0.00000  max:  640.00000  float64\n",
      "anchors                  shape: (1, 102300, 4)        min:   -0.28329  max:    1.18313  float32\n",
      "Processing 1 images\n",
      "image                    shape: (480, 640, 3)         min:    0.00000  max:  255.00000  uint8\n",
      "molded_images            shape: (1, 640, 640, 3)      min: -123.70000  max:  151.10000  float64\n",
      "image_metas              shape: (1, 14)               min:    0.00000  max:  640.00000  float64\n",
      "anchors                  shape: (1, 102300, 4)        min:   -0.28329  max:    1.18313  float32\n",
      "Processing 1 images\n",
      "image                    shape: (480, 640, 3)         min:    0.00000  max:  255.00000  uint8\n",
      "molded_images            shape: (1, 640, 640, 3)      min: -123.70000  max:  151.10000  float64\n",
      "image_metas              shape: (1, 14)               min:    0.00000  max:  640.00000  float64\n",
      "anchors                  shape: (1, 102300, 4)        min:   -0.28329  max:    1.18313  float32\n",
      "Processing 1 images\n",
      "image                    shape: (480, 640, 3)         min:    0.00000  max:  255.00000  uint8\n",
      "molded_images            shape: (1, 640, 640, 3)      min: -123.70000  max:  151.10000  float64\n",
      "image_metas              shape: (1, 14)               min:    0.00000  max:  640.00000  float64\n",
      "anchors                  shape: (1, 102300, 4)        min:   -0.28329  max:    1.18313  float32\n",
      "Processing 1 images\n",
      "image                    shape: (480, 640, 3)         min:    0.00000  max:  255.00000  uint8\n",
      "molded_images            shape: (1, 640, 640, 3)      min: -123.70000  max:  151.10000  float64\n",
      "image_metas              shape: (1, 14)               min:    0.00000  max:  640.00000  float64\n",
      "anchors                  shape: (1, 102300, 4)        min:   -0.28329  max:    1.18313  float32\n",
      "Processing 1 images\n",
      "image                    shape: (480, 640, 3)         min:    0.00000  max:  255.00000  uint8\n",
      "molded_images            shape: (1, 640, 640, 3)      min: -123.70000  max:  151.10000  float64\n",
      "image_metas              shape: (1, 14)               min:    0.00000  max:  640.00000  float64\n",
      "anchors                  shape: (1, 102300, 4)        min:   -0.28329  max:    1.18313  float32\n",
      "Processing 1 images\n",
      "image                    shape: (480, 640, 3)         min:    0.00000  max:  255.00000  uint8\n",
      "molded_images            shape: (1, 640, 640, 3)      min: -123.70000  max:  151.10000  float64\n",
      "image_metas              shape: (1, 14)               min:    0.00000  max:  640.00000  float64\n",
      "anchors                  shape: (1, 102300, 4)        min:   -0.28329  max:    1.18313  float32\n",
      "Processing 1 images\n",
      "image                    shape: (480, 640, 3)         min:    0.00000  max:  255.00000  uint8\n",
      "molded_images            shape: (1, 640, 640, 3)      min: -123.70000  max:  151.10000  float64\n",
      "image_metas              shape: (1, 14)               min:    0.00000  max:  640.00000  float64\n",
      "anchors                  shape: (1, 102300, 4)        min:   -0.28329  max:    1.18313  float32\n",
      "Processing 1 images\n",
      "image                    shape: (480, 640, 3)         min:    0.00000  max:  255.00000  uint8\n",
      "molded_images            shape: (1, 640, 640, 3)      min: -123.70000  max:  151.10000  float64\n",
      "image_metas              shape: (1, 14)               min:    0.00000  max:  640.00000  float64\n",
      "anchors                  shape: (1, 102300, 4)        min:   -0.28329  max:    1.18313  float32\n",
      "Processing 1 images\n",
      "image                    shape: (480, 640, 3)         min:    0.00000  max:  255.00000  uint8\n",
      "molded_images            shape: (1, 640, 640, 3)      min: -123.70000  max:  151.10000  float64\n",
      "image_metas              shape: (1, 14)               min:    0.00000  max:  640.00000  float64\n",
      "anchors                  shape: (1, 102300, 4)        min:   -0.28329  max:    1.18313  float32\n",
      "Processing 1 images\n",
      "image                    shape: (480, 640, 3)         min:    0.00000  max:  255.00000  uint8\n",
      "molded_images            shape: (1, 640, 640, 3)      min: -123.70000  max:  151.10000  float64\n",
      "image_metas              shape: (1, 14)               min:    0.00000  max:  640.00000  float64\n",
      "anchors                  shape: (1, 102300, 4)        min:   -0.28329  max:    1.18313  float32\n",
      "Processing 1 images\n",
      "image                    shape: (480, 640, 3)         min:    0.00000  max:  255.00000  uint8\n",
      "molded_images            shape: (1, 640, 640, 3)      min: -123.70000  max:  146.10000  float64\n",
      "image_metas              shape: (1, 14)               min:    0.00000  max:  640.00000  float64\n",
      "anchors                  shape: (1, 102300, 4)        min:   -0.28329  max:    1.18313  float32\n",
      "Processing 1 images\n",
      "image                    shape: (480, 640, 3)         min:    0.00000  max:  255.00000  uint8\n",
      "molded_images            shape: (1, 640, 640, 3)      min: -123.70000  max:  151.10000  float64\n",
      "image_metas              shape: (1, 14)               min:    0.00000  max:  640.00000  float64\n",
      "anchors                  shape: (1, 102300, 4)        min:   -0.28329  max:    1.18313  float32\n",
      "Processing 1 images\n",
      "image                    shape: (480, 640, 3)         min:    0.00000  max:  255.00000  uint8\n",
      "molded_images            shape: (1, 640, 640, 3)      min: -123.70000  max:  151.10000  float64\n",
      "image_metas              shape: (1, 14)               min:    0.00000  max:  640.00000  float64\n",
      "anchors                  shape: (1, 102300, 4)        min:   -0.28329  max:    1.18313  float32\n",
      "Processing 1 images\n",
      "image                    shape: (480, 640, 3)         min:    0.00000  max:  255.00000  uint8\n",
      "molded_images            shape: (1, 640, 640, 3)      min: -123.70000  max:  151.10000  float64\n",
      "image_metas              shape: (1, 14)               min:    0.00000  max:  640.00000  float64\n",
      "anchors                  shape: (1, 102300, 4)        min:   -0.28329  max:    1.18313  float32\n",
      "Processing 1 images\n",
      "image                    shape: (480, 640, 3)         min:    0.00000  max:  255.00000  uint8\n",
      "molded_images            shape: (1, 640, 640, 3)      min: -123.70000  max:  151.10000  float64\n",
      "image_metas              shape: (1, 14)               min:    0.00000  max:  640.00000  float64\n",
      "anchors                  shape: (1, 102300, 4)        min:   -0.28329  max:    1.18313  float32\n",
      "Processing 1 images\n",
      "image                    shape: (480, 640, 3)         min:    0.00000  max:  255.00000  uint8\n",
      "molded_images            shape: (1, 640, 640, 3)      min: -123.70000  max:  151.10000  float64\n",
      "image_metas              shape: (1, 14)               min:    0.00000  max:  640.00000  float64\n",
      "anchors                  shape: (1, 102300, 4)        min:   -0.28329  max:    1.18313  float32\n",
      "Processing 1 images\n",
      "image                    shape: (480, 640, 3)         min:    0.00000  max:  255.00000  uint8\n",
      "molded_images            shape: (1, 640, 640, 3)      min: -123.70000  max:  145.10000  float64\n",
      "image_metas              shape: (1, 14)               min:    0.00000  max:  640.00000  float64\n",
      "anchors                  shape: (1, 102300, 4)        min:   -0.28329  max:    1.18313  float32\n",
      "Processing 1 images\n",
      "image                    shape: (480, 640, 3)         min:    0.00000  max:  255.00000  uint8\n",
      "molded_images            shape: (1, 640, 640, 3)      min: -123.70000  max:  148.10000  float64\n",
      "image_metas              shape: (1, 14)               min:    0.00000  max:  640.00000  float64\n",
      "anchors                  shape: (1, 102300, 4)        min:   -0.28329  max:    1.18313  float32\n"
     ]
    },
    {
     "name": "stdout",
     "output_type": "stream",
     "text": [
      "Processing 1 images\n",
      "image                    shape: (480, 640, 3)         min:    0.00000  max:  255.00000  uint8\n",
      "molded_images            shape: (1, 640, 640, 3)      min: -123.70000  max:  148.10000  float64\n",
      "image_metas              shape: (1, 14)               min:    0.00000  max:  640.00000  float64\n",
      "anchors                  shape: (1, 102300, 4)        min:   -0.28329  max:    1.18313  float32\n",
      "Processing 1 images\n",
      "image                    shape: (480, 640, 3)         min:    0.00000  max:  255.00000  uint8\n",
      "molded_images            shape: (1, 640, 640, 3)      min: -123.70000  max:  150.10000  float64\n",
      "image_metas              shape: (1, 14)               min:    0.00000  max:  640.00000  float64\n",
      "anchors                  shape: (1, 102300, 4)        min:   -0.28329  max:    1.18313  float32\n",
      "Processing 1 images\n",
      "image                    shape: (480, 640, 3)         min:    0.00000  max:  255.00000  uint8\n",
      "molded_images            shape: (1, 640, 640, 3)      min: -123.70000  max:  151.10000  float64\n",
      "image_metas              shape: (1, 14)               min:    0.00000  max:  640.00000  float64\n",
      "anchors                  shape: (1, 102300, 4)        min:   -0.28329  max:    1.18313  float32\n",
      "Processing 1 images\n",
      "image                    shape: (480, 640, 3)         min:    0.00000  max:  255.00000  uint8\n",
      "molded_images            shape: (1, 640, 640, 3)      min: -123.70000  max:  151.10000  float64\n",
      "image_metas              shape: (1, 14)               min:    0.00000  max:  640.00000  float64\n",
      "anchors                  shape: (1, 102300, 4)        min:   -0.28329  max:    1.18313  float32\n",
      "Processing 1 images\n",
      "image                    shape: (480, 640, 3)         min:    0.00000  max:  255.00000  uint8\n",
      "molded_images            shape: (1, 640, 640, 3)      min: -123.70000  max:  151.10000  float64\n",
      "image_metas              shape: (1, 14)               min:    0.00000  max:  640.00000  float64\n",
      "anchors                  shape: (1, 102300, 4)        min:   -0.28329  max:    1.18313  float32\n",
      "Processing 1 images\n",
      "image                    shape: (480, 640, 3)         min:    0.00000  max:  255.00000  uint8\n",
      "molded_images            shape: (1, 640, 640, 3)      min: -123.70000  max:  151.10000  float64\n",
      "image_metas              shape: (1, 14)               min:    0.00000  max:  640.00000  float64\n",
      "anchors                  shape: (1, 102300, 4)        min:   -0.28329  max:    1.18313  float32\n",
      "Processing 1 images\n",
      "image                    shape: (480, 640, 3)         min:    0.00000  max:  255.00000  uint8\n",
      "molded_images            shape: (1, 640, 640, 3)      min: -123.70000  max:  151.10000  float64\n",
      "image_metas              shape: (1, 14)               min:    0.00000  max:  640.00000  float64\n",
      "anchors                  shape: (1, 102300, 4)        min:   -0.28329  max:    1.18313  float32\n",
      "Processing 1 images\n",
      "image                    shape: (480, 640, 3)         min:    0.00000  max:  255.00000  uint8\n",
      "molded_images            shape: (1, 640, 640, 3)      min: -123.70000  max:  151.10000  float64\n",
      "image_metas              shape: (1, 14)               min:    0.00000  max:  640.00000  float64\n",
      "anchors                  shape: (1, 102300, 4)        min:   -0.28329  max:    1.18313  float32\n",
      "Processing 1 images\n",
      "image                    shape: (480, 640, 3)         min:    0.00000  max:  255.00000  uint8\n",
      "molded_images            shape: (1, 640, 640, 3)      min: -123.70000  max:  150.10000  float64\n",
      "image_metas              shape: (1, 14)               min:    0.00000  max:  640.00000  float64\n",
      "anchors                  shape: (1, 102300, 4)        min:   -0.28329  max:    1.18313  float32\n",
      "Processing 1 images\n",
      "image                    shape: (480, 640, 3)         min:    0.00000  max:  255.00000  uint8\n",
      "molded_images            shape: (1, 640, 640, 3)      min: -123.70000  max:  151.10000  float64\n",
      "image_metas              shape: (1, 14)               min:    0.00000  max:  640.00000  float64\n",
      "anchors                  shape: (1, 102300, 4)        min:   -0.28329  max:    1.18313  float32\n",
      "Processing 1 images\n",
      "image                    shape: (480, 640, 3)         min:    0.00000  max:  255.00000  uint8\n",
      "molded_images            shape: (1, 640, 640, 3)      min: -123.70000  max:  151.10000  float64\n",
      "image_metas              shape: (1, 14)               min:    0.00000  max:  640.00000  float64\n",
      "anchors                  shape: (1, 102300, 4)        min:   -0.28329  max:    1.18313  float32\n",
      "Processing 1 images\n",
      "image                    shape: (480, 640, 3)         min:    0.00000  max:  255.00000  uint8\n",
      "molded_images            shape: (1, 640, 640, 3)      min: -123.70000  max:  149.10000  float64\n",
      "image_metas              shape: (1, 14)               min:    0.00000  max:  640.00000  float64\n",
      "anchors                  shape: (1, 102300, 4)        min:   -0.28329  max:    1.18313  float32\n",
      "Processing 1 images\n",
      "image                    shape: (480, 640, 3)         min:    0.00000  max:  255.00000  uint8\n",
      "molded_images            shape: (1, 640, 640, 3)      min: -123.70000  max:  148.10000  float64\n",
      "image_metas              shape: (1, 14)               min:    0.00000  max:  640.00000  float64\n",
      "anchors                  shape: (1, 102300, 4)        min:   -0.28329  max:    1.18313  float32\n",
      "Processing 1 images\n",
      "image                    shape: (480, 640, 3)         min:    0.00000  max:  255.00000  uint8\n",
      "molded_images            shape: (1, 640, 640, 3)      min: -123.70000  max:  151.10000  float64\n",
      "image_metas              shape: (1, 14)               min:    0.00000  max:  640.00000  float64\n",
      "anchors                  shape: (1, 102300, 4)        min:   -0.28329  max:    1.18313  float32\n",
      "Processing 1 images\n",
      "image                    shape: (480, 640, 3)         min:    0.00000  max:  255.00000  uint8\n",
      "molded_images            shape: (1, 640, 640, 3)      min: -123.70000  max:  151.10000  float64\n",
      "image_metas              shape: (1, 14)               min:    0.00000  max:  640.00000  float64\n",
      "anchors                  shape: (1, 102300, 4)        min:   -0.28329  max:    1.18313  float32\n",
      "Processing 1 images\n",
      "image                    shape: (480, 640, 3)         min:    0.00000  max:  255.00000  uint8\n",
      "molded_images            shape: (1, 640, 640, 3)      min: -123.70000  max:  151.10000  float64\n",
      "image_metas              shape: (1, 14)               min:    0.00000  max:  640.00000  float64\n",
      "anchors                  shape: (1, 102300, 4)        min:   -0.28329  max:    1.18313  float32\n",
      "Processing 1 images\n",
      "image                    shape: (480, 640, 3)         min:    0.00000  max:  255.00000  uint8\n",
      "molded_images            shape: (1, 640, 640, 3)      min: -123.70000  max:  147.10000  float64\n",
      "image_metas              shape: (1, 14)               min:    0.00000  max:  640.00000  float64\n",
      "anchors                  shape: (1, 102300, 4)        min:   -0.28329  max:    1.18313  float32\n",
      "Processing 1 images\n",
      "image                    shape: (480, 640, 3)         min:    0.00000  max:  255.00000  uint8\n",
      "molded_images            shape: (1, 640, 640, 3)      min: -123.70000  max:  151.10000  float64\n",
      "image_metas              shape: (1, 14)               min:    0.00000  max:  640.00000  float64\n",
      "anchors                  shape: (1, 102300, 4)        min:   -0.28329  max:    1.18313  float32\n",
      "Processing 1 images\n",
      "image                    shape: (480, 640, 3)         min:    0.00000  max:  255.00000  uint8\n",
      "molded_images            shape: (1, 640, 640, 3)      min: -123.70000  max:  148.10000  float64\n",
      "image_metas              shape: (1, 14)               min:    0.00000  max:  640.00000  float64\n",
      "anchors                  shape: (1, 102300, 4)        min:   -0.28329  max:    1.18313  float32\n",
      "Processing 1 images\n",
      "image                    shape: (480, 640, 3)         min:    0.00000  max:  255.00000  uint8\n",
      "molded_images            shape: (1, 640, 640, 3)      min: -123.70000  max:  151.10000  float64\n",
      "image_metas              shape: (1, 14)               min:    0.00000  max:  640.00000  float64\n",
      "anchors                  shape: (1, 102300, 4)        min:   -0.28329  max:    1.18313  float32\n",
      "Processing 1 images\n",
      "image                    shape: (480, 640, 3)         min:    0.00000  max:  255.00000  uint8\n",
      "molded_images            shape: (1, 640, 640, 3)      min: -123.70000  max:  151.10000  float64\n",
      "image_metas              shape: (1, 14)               min:    0.00000  max:  640.00000  float64\n",
      "anchors                  shape: (1, 102300, 4)        min:   -0.28329  max:    1.18313  float32\n"
     ]
    },
    {
     "name": "stdout",
     "output_type": "stream",
     "text": [
      "Processing 1 images\n",
      "image                    shape: (480, 640, 3)         min:    0.00000  max:  255.00000  uint8\n",
      "molded_images            shape: (1, 640, 640, 3)      min: -123.70000  max:  151.10000  float64\n",
      "image_metas              shape: (1, 14)               min:    0.00000  max:  640.00000  float64\n",
      "anchors                  shape: (1, 102300, 4)        min:   -0.28329  max:    1.18313  float32\n",
      "Processing 1 images\n",
      "image                    shape: (480, 640, 3)         min:    0.00000  max:  255.00000  uint8\n",
      "molded_images            shape: (1, 640, 640, 3)      min: -123.70000  max:  151.10000  float64\n",
      "image_metas              shape: (1, 14)               min:    0.00000  max:  640.00000  float64\n",
      "anchors                  shape: (1, 102300, 4)        min:   -0.28329  max:    1.18313  float32\n",
      "Processing 1 images\n",
      "image                    shape: (480, 640, 3)         min:    0.00000  max:  255.00000  uint8\n",
      "molded_images            shape: (1, 640, 640, 3)      min: -123.70000  max:  151.10000  float64\n",
      "image_metas              shape: (1, 14)               min:    0.00000  max:  640.00000  float64\n",
      "anchors                  shape: (1, 102300, 4)        min:   -0.28329  max:    1.18313  float32\n",
      "Processing 1 images\n",
      "image                    shape: (480, 640, 3)         min:    0.00000  max:  255.00000  uint8\n",
      "molded_images            shape: (1, 640, 640, 3)      min: -123.70000  max:  151.10000  float64\n",
      "image_metas              shape: (1, 14)               min:    0.00000  max:  640.00000  float64\n",
      "anchors                  shape: (1, 102300, 4)        min:   -0.28329  max:    1.18313  float32\n",
      "Processing 1 images\n",
      "image                    shape: (480, 640, 3)         min:    0.00000  max:  255.00000  uint8\n",
      "molded_images            shape: (1, 640, 640, 3)      min: -123.70000  max:  148.10000  float64\n",
      "image_metas              shape: (1, 14)               min:    0.00000  max:  640.00000  float64\n",
      "anchors                  shape: (1, 102300, 4)        min:   -0.28329  max:    1.18313  float32\n",
      "Processing 1 images\n",
      "image                    shape: (480, 640, 3)         min:    0.00000  max:  255.00000  uint8\n",
      "molded_images            shape: (1, 640, 640, 3)      min: -123.70000  max:  149.10000  float64\n",
      "image_metas              shape: (1, 14)               min:    0.00000  max:  640.00000  float64\n",
      "anchors                  shape: (1, 102300, 4)        min:   -0.28329  max:    1.18313  float32\n",
      "Processing 1 images\n",
      "image                    shape: (480, 640, 3)         min:    0.00000  max:  255.00000  uint8\n",
      "molded_images            shape: (1, 640, 640, 3)      min: -123.70000  max:  146.10000  float64\n",
      "image_metas              shape: (1, 14)               min:    0.00000  max:  640.00000  float64\n",
      "anchors                  shape: (1, 102300, 4)        min:   -0.28329  max:    1.18313  float32\n",
      "Processing 1 images\n",
      "image                    shape: (480, 640, 3)         min:    0.00000  max:  255.00000  uint8\n",
      "molded_images            shape: (1, 640, 640, 3)      min: -123.70000  max:  150.10000  float64\n",
      "image_metas              shape: (1, 14)               min:    0.00000  max:  640.00000  float64\n",
      "anchors                  shape: (1, 102300, 4)        min:   -0.28329  max:    1.18313  float32\n",
      "Processing 1 images\n",
      "image                    shape: (480, 640, 3)         min:    0.00000  max:  255.00000  uint8\n",
      "molded_images            shape: (1, 640, 640, 3)      min: -123.70000  max:  151.10000  float64\n",
      "image_metas              shape: (1, 14)               min:    0.00000  max:  640.00000  float64\n",
      "anchors                  shape: (1, 102300, 4)        min:   -0.28329  max:    1.18313  float32\n",
      "Processing 1 images\n",
      "image                    shape: (480, 640, 3)         min:    0.00000  max:  255.00000  uint8\n",
      "molded_images            shape: (1, 640, 640, 3)      min: -123.70000  max:  149.10000  float64\n",
      "image_metas              shape: (1, 14)               min:    0.00000  max:  640.00000  float64\n",
      "anchors                  shape: (1, 102300, 4)        min:   -0.28329  max:    1.18313  float32\n",
      "Processing 1 images\n",
      "image                    shape: (480, 640, 3)         min:    0.00000  max:  255.00000  uint8\n",
      "molded_images            shape: (1, 640, 640, 3)      min: -123.70000  max:  151.10000  float64\n",
      "image_metas              shape: (1, 14)               min:    0.00000  max:  640.00000  float64\n",
      "anchors                  shape: (1, 102300, 4)        min:   -0.28329  max:    1.18313  float32\n",
      "Processing 1 images\n",
      "image                    shape: (480, 640, 3)         min:    0.00000  max:  255.00000  uint8\n",
      "molded_images            shape: (1, 640, 640, 3)      min: -123.70000  max:  151.10000  float64\n",
      "image_metas              shape: (1, 14)               min:    0.00000  max:  640.00000  float64\n",
      "anchors                  shape: (1, 102300, 4)        min:   -0.28329  max:    1.18313  float32\n",
      "Processing 1 images\n",
      "image                    shape: (480, 640, 3)         min:    0.00000  max:  255.00000  uint8\n",
      "molded_images            shape: (1, 640, 640, 3)      min: -123.70000  max:  150.10000  float64\n",
      "image_metas              shape: (1, 14)               min:    0.00000  max:  640.00000  float64\n",
      "anchors                  shape: (1, 102300, 4)        min:   -0.28329  max:    1.18313  float32\n",
      "Processing 1 images\n",
      "image                    shape: (480, 640, 3)         min:    0.00000  max:  255.00000  uint8\n",
      "molded_images            shape: (1, 640, 640, 3)      min: -123.70000  max:  150.10000  float64\n",
      "image_metas              shape: (1, 14)               min:    0.00000  max:  640.00000  float64\n",
      "anchors                  shape: (1, 102300, 4)        min:   -0.28329  max:    1.18313  float32\n",
      "Processing 1 images\n",
      "image                    shape: (480, 640, 3)         min:    0.00000  max:  255.00000  uint8\n",
      "molded_images            shape: (1, 640, 640, 3)      min: -123.70000  max:  146.10000  float64\n",
      "image_metas              shape: (1, 14)               min:    0.00000  max:  640.00000  float64\n",
      "anchors                  shape: (1, 102300, 4)        min:   -0.28329  max:    1.18313  float32\n",
      "Processing 1 images\n",
      "image                    shape: (480, 640, 3)         min:    0.00000  max:  255.00000  uint8\n",
      "molded_images            shape: (1, 640, 640, 3)      min: -123.70000  max:  151.10000  float64\n",
      "image_metas              shape: (1, 14)               min:    0.00000  max:  640.00000  float64\n",
      "anchors                  shape: (1, 102300, 4)        min:   -0.28329  max:    1.18313  float32\n",
      "Processing 1 images\n",
      "image                    shape: (480, 640, 3)         min:    0.00000  max:  255.00000  uint8\n",
      "molded_images            shape: (1, 640, 640, 3)      min: -123.70000  max:  150.10000  float64\n",
      "image_metas              shape: (1, 14)               min:    0.00000  max:  640.00000  float64\n",
      "anchors                  shape: (1, 102300, 4)        min:   -0.28329  max:    1.18313  float32\n",
      "Processing 1 images\n",
      "image                    shape: (480, 640, 3)         min:    0.00000  max:  255.00000  uint8\n",
      "molded_images            shape: (1, 640, 640, 3)      min: -123.70000  max:  146.10000  float64\n",
      "image_metas              shape: (1, 14)               min:    0.00000  max:  640.00000  float64\n",
      "anchors                  shape: (1, 102300, 4)        min:   -0.28329  max:    1.18313  float32\n",
      "Processing 1 images\n",
      "image                    shape: (480, 640, 3)         min:    0.00000  max:  255.00000  uint8\n",
      "molded_images            shape: (1, 640, 640, 3)      min: -123.70000  max:  151.10000  float64\n",
      "image_metas              shape: (1, 14)               min:    0.00000  max:  640.00000  float64\n",
      "anchors                  shape: (1, 102300, 4)        min:   -0.28329  max:    1.18313  float32\n",
      "Processing 1 images\n",
      "image                    shape: (480, 640, 3)         min:    0.00000  max:  255.00000  uint8\n",
      "molded_images            shape: (1, 640, 640, 3)      min: -123.70000  max:  148.10000  float64\n",
      "image_metas              shape: (1, 14)               min:    0.00000  max:  640.00000  float64\n",
      "anchors                  shape: (1, 102300, 4)        min:   -0.28329  max:    1.18313  float32\n",
      "Processing 1 images\n",
      "image                    shape: (480, 640, 3)         min:    0.00000  max:  255.00000  uint8\n",
      "molded_images            shape: (1, 640, 640, 3)      min: -123.70000  max:  149.10000  float64\n",
      "image_metas              shape: (1, 14)               min:    0.00000  max:  640.00000  float64\n",
      "anchors                  shape: (1, 102300, 4)        min:   -0.28329  max:    1.18313  float32\n"
     ]
    },
    {
     "name": "stdout",
     "output_type": "stream",
     "text": [
      "Processing 1 images\n",
      "image                    shape: (480, 640, 3)         min:    0.00000  max:  255.00000  uint8\n",
      "molded_images            shape: (1, 640, 640, 3)      min: -123.70000  max:  145.10000  float64\n",
      "image_metas              shape: (1, 14)               min:    0.00000  max:  640.00000  float64\n",
      "anchors                  shape: (1, 102300, 4)        min:   -0.28329  max:    1.18313  float32\n",
      "Processing 1 images\n",
      "image                    shape: (480, 640, 3)         min:    0.00000  max:  255.00000  uint8\n",
      "molded_images            shape: (1, 640, 640, 3)      min: -123.70000  max:  150.10000  float64\n",
      "image_metas              shape: (1, 14)               min:    0.00000  max:  640.00000  float64\n",
      "anchors                  shape: (1, 102300, 4)        min:   -0.28329  max:    1.18313  float32\n",
      "Processing 1 images\n",
      "image                    shape: (480, 640, 3)         min:    0.00000  max:  255.00000  uint8\n",
      "molded_images            shape: (1, 640, 640, 3)      min: -123.70000  max:  150.10000  float64\n",
      "image_metas              shape: (1, 14)               min:    0.00000  max:  640.00000  float64\n",
      "anchors                  shape: (1, 102300, 4)        min:   -0.28329  max:    1.18313  float32\n",
      "Processing 1 images\n",
      "image                    shape: (480, 640, 3)         min:    0.00000  max:  255.00000  uint8\n",
      "molded_images            shape: (1, 640, 640, 3)      min: -123.70000  max:  151.10000  float64\n",
      "image_metas              shape: (1, 14)               min:    0.00000  max:  640.00000  float64\n",
      "anchors                  shape: (1, 102300, 4)        min:   -0.28329  max:    1.18313  float32\n",
      "Processing 1 images\n",
      "image                    shape: (480, 640, 3)         min:    0.00000  max:  255.00000  uint8\n",
      "molded_images            shape: (1, 640, 640, 3)      min: -123.70000  max:  151.10000  float64\n",
      "image_metas              shape: (1, 14)               min:    0.00000  max:  640.00000  float64\n",
      "anchors                  shape: (1, 102300, 4)        min:   -0.28329  max:    1.18313  float32\n",
      "Processing 1 images\n",
      "image                    shape: (480, 640, 3)         min:    0.00000  max:  255.00000  uint8\n",
      "molded_images            shape: (1, 640, 640, 3)      min: -123.70000  max:  151.10000  float64\n",
      "image_metas              shape: (1, 14)               min:    0.00000  max:  640.00000  float64\n",
      "anchors                  shape: (1, 102300, 4)        min:   -0.28329  max:    1.18313  float32\n",
      "Processing 1 images\n",
      "image                    shape: (480, 640, 3)         min:    0.00000  max:  255.00000  uint8\n",
      "molded_images            shape: (1, 640, 640, 3)      min: -123.70000  max:  151.10000  float64\n",
      "image_metas              shape: (1, 14)               min:    0.00000  max:  640.00000  float64\n",
      "anchors                  shape: (1, 102300, 4)        min:   -0.28329  max:    1.18313  float32\n",
      "Processing 1 images\n",
      "image                    shape: (480, 640, 3)         min:    0.00000  max:  255.00000  uint8\n",
      "molded_images            shape: (1, 640, 640, 3)      min: -123.70000  max:  151.10000  float64\n",
      "image_metas              shape: (1, 14)               min:    0.00000  max:  640.00000  float64\n",
      "anchors                  shape: (1, 102300, 4)        min:   -0.28329  max:    1.18313  float32\n",
      "Processing 1 images\n",
      "image                    shape: (480, 640, 3)         min:    0.00000  max:  255.00000  uint8\n",
      "molded_images            shape: (1, 640, 640, 3)      min: -123.70000  max:  151.10000  float64\n",
      "image_metas              shape: (1, 14)               min:    0.00000  max:  640.00000  float64\n",
      "anchors                  shape: (1, 102300, 4)        min:   -0.28329  max:    1.18313  float32\n",
      "Processing 1 images\n",
      "image                    shape: (480, 640, 3)         min:    0.00000  max:  255.00000  uint8\n",
      "molded_images            shape: (1, 640, 640, 3)      min: -123.70000  max:  151.10000  float64\n",
      "image_metas              shape: (1, 14)               min:    0.00000  max:  640.00000  float64\n",
      "anchors                  shape: (1, 102300, 4)        min:   -0.28329  max:    1.18313  float32\n",
      "Processing 1 images\n",
      "image                    shape: (480, 640, 3)         min:    0.00000  max:  255.00000  uint8\n",
      "molded_images            shape: (1, 640, 640, 3)      min: -123.70000  max:  151.10000  float64\n",
      "image_metas              shape: (1, 14)               min:    0.00000  max:  640.00000  float64\n",
      "anchors                  shape: (1, 102300, 4)        min:   -0.28329  max:    1.18313  float32\n",
      "Processing 1 images\n",
      "image                    shape: (480, 640, 3)         min:    0.00000  max:  255.00000  uint8\n",
      "molded_images            shape: (1, 640, 640, 3)      min: -123.70000  max:  151.10000  float64\n",
      "image_metas              shape: (1, 14)               min:    0.00000  max:  640.00000  float64\n",
      "anchors                  shape: (1, 102300, 4)        min:   -0.28329  max:    1.18313  float32\n",
      "Processing 1 images\n",
      "image                    shape: (480, 640, 3)         min:    0.00000  max:  255.00000  uint8\n",
      "molded_images            shape: (1, 640, 640, 3)      min: -123.70000  max:  151.10000  float64\n",
      "image_metas              shape: (1, 14)               min:    0.00000  max:  640.00000  float64\n",
      "anchors                  shape: (1, 102300, 4)        min:   -0.28329  max:    1.18313  float32\n",
      "Processing 1 images\n",
      "image                    shape: (480, 640, 3)         min:    0.00000  max:  255.00000  uint8\n",
      "molded_images            shape: (1, 640, 640, 3)      min: -123.70000  max:  151.10000  float64\n",
      "image_metas              shape: (1, 14)               min:    0.00000  max:  640.00000  float64\n",
      "anchors                  shape: (1, 102300, 4)        min:   -0.28329  max:    1.18313  float32\n",
      "Processing 1 images\n",
      "image                    shape: (480, 640, 3)         min:    0.00000  max:  255.00000  uint8\n",
      "molded_images            shape: (1, 640, 640, 3)      min: -123.70000  max:  151.10000  float64\n",
      "image_metas              shape: (1, 14)               min:    0.00000  max:  640.00000  float64\n",
      "anchors                  shape: (1, 102300, 4)        min:   -0.28329  max:    1.18313  float32\n",
      "Processing 1 images\n",
      "image                    shape: (480, 640, 3)         min:    0.00000  max:  255.00000  uint8\n",
      "molded_images            shape: (1, 640, 640, 3)      min: -123.70000  max:  151.10000  float64\n",
      "image_metas              shape: (1, 14)               min:    0.00000  max:  640.00000  float64\n",
      "anchors                  shape: (1, 102300, 4)        min:   -0.28329  max:    1.18313  float32\n",
      "Processing 1 images\n",
      "image                    shape: (480, 640, 3)         min:    0.00000  max:  255.00000  uint8\n",
      "molded_images            shape: (1, 640, 640, 3)      min: -123.70000  max:  151.10000  float64\n",
      "image_metas              shape: (1, 14)               min:    0.00000  max:  640.00000  float64\n",
      "anchors                  shape: (1, 102300, 4)        min:   -0.28329  max:    1.18313  float32\n",
      "Processing 1 images\n",
      "image                    shape: (480, 640, 3)         min:    0.00000  max:  255.00000  uint8\n",
      "molded_images            shape: (1, 640, 640, 3)      min: -123.70000  max:  151.10000  float64\n",
      "image_metas              shape: (1, 14)               min:    0.00000  max:  640.00000  float64\n",
      "anchors                  shape: (1, 102300, 4)        min:   -0.28329  max:    1.18313  float32\n",
      "Processing 1 images\n",
      "image                    shape: (480, 640, 3)         min:    0.00000  max:  255.00000  uint8\n",
      "molded_images            shape: (1, 640, 640, 3)      min: -123.70000  max:  151.10000  float64\n",
      "image_metas              shape: (1, 14)               min:    0.00000  max:  640.00000  float64\n",
      "anchors                  shape: (1, 102300, 4)        min:   -0.28329  max:    1.18313  float32\n",
      "Processing 1 images\n",
      "image                    shape: (480, 640, 3)         min:    0.00000  max:  255.00000  uint8\n",
      "molded_images            shape: (1, 640, 640, 3)      min: -123.70000  max:  151.10000  float64\n",
      "image_metas              shape: (1, 14)               min:    0.00000  max:  640.00000  float64\n",
      "anchors                  shape: (1, 102300, 4)        min:   -0.28329  max:    1.18313  float32\n",
      "Processing 1 images\n",
      "image                    shape: (480, 640, 3)         min:    0.00000  max:  255.00000  uint8\n",
      "molded_images            shape: (1, 640, 640, 3)      min: -123.70000  max:  151.10000  float64\n",
      "image_metas              shape: (1, 14)               min:    0.00000  max:  640.00000  float64\n",
      "anchors                  shape: (1, 102300, 4)        min:   -0.28329  max:    1.18313  float32\n"
     ]
    },
    {
     "name": "stdout",
     "output_type": "stream",
     "text": [
      "Processing 1 images\n",
      "image                    shape: (480, 640, 3)         min:    0.00000  max:  255.00000  uint8\n",
      "molded_images            shape: (1, 640, 640, 3)      min: -123.70000  max:  151.10000  float64\n",
      "image_metas              shape: (1, 14)               min:    0.00000  max:  640.00000  float64\n",
      "anchors                  shape: (1, 102300, 4)        min:   -0.28329  max:    1.18313  float32\n",
      "Processing 1 images\n",
      "image                    shape: (480, 640, 3)         min:    0.00000  max:  255.00000  uint8\n",
      "molded_images            shape: (1, 640, 640, 3)      min: -123.70000  max:  151.10000  float64\n",
      "image_metas              shape: (1, 14)               min:    0.00000  max:  640.00000  float64\n",
      "anchors                  shape: (1, 102300, 4)        min:   -0.28329  max:    1.18313  float32\n",
      "Processing 1 images\n",
      "image                    shape: (480, 640, 3)         min:    0.00000  max:  255.00000  uint8\n",
      "molded_images            shape: (1, 640, 640, 3)      min: -123.70000  max:  151.10000  float64\n",
      "image_metas              shape: (1, 14)               min:    0.00000  max:  640.00000  float64\n",
      "anchors                  shape: (1, 102300, 4)        min:   -0.28329  max:    1.18313  float32\n",
      "Processing 1 images\n",
      "image                    shape: (480, 640, 3)         min:    0.00000  max:  255.00000  uint8\n",
      "molded_images            shape: (1, 640, 640, 3)      min: -123.70000  max:  151.10000  float64\n",
      "image_metas              shape: (1, 14)               min:    0.00000  max:  640.00000  float64\n",
      "anchors                  shape: (1, 102300, 4)        min:   -0.28329  max:    1.18313  float32\n",
      "Processing 1 images\n",
      "image                    shape: (480, 640, 3)         min:    0.00000  max:  255.00000  uint8\n",
      "molded_images            shape: (1, 640, 640, 3)      min: -123.70000  max:  151.10000  float64\n",
      "image_metas              shape: (1, 14)               min:    0.00000  max:  640.00000  float64\n",
      "anchors                  shape: (1, 102300, 4)        min:   -0.28329  max:    1.18313  float32\n",
      "Processing 1 images\n",
      "image                    shape: (480, 640, 3)         min:    0.00000  max:  255.00000  uint8\n",
      "molded_images            shape: (1, 640, 640, 3)      min: -123.70000  max:  151.10000  float64\n",
      "image_metas              shape: (1, 14)               min:    0.00000  max:  640.00000  float64\n",
      "anchors                  shape: (1, 102300, 4)        min:   -0.28329  max:    1.18313  float32\n",
      "Processing 1 images\n",
      "image                    shape: (480, 640, 3)         min:    0.00000  max:  255.00000  uint8\n",
      "molded_images            shape: (1, 640, 640, 3)      min: -123.70000  max:  151.10000  float64\n",
      "image_metas              shape: (1, 14)               min:    0.00000  max:  640.00000  float64\n",
      "anchors                  shape: (1, 102300, 4)        min:   -0.28329  max:    1.18313  float32\n",
      "Processing 1 images\n",
      "image                    shape: (480, 640, 3)         min:    0.00000  max:  255.00000  uint8\n",
      "molded_images            shape: (1, 640, 640, 3)      min: -123.70000  max:  151.10000  float64\n",
      "image_metas              shape: (1, 14)               min:    0.00000  max:  640.00000  float64\n",
      "anchors                  shape: (1, 102300, 4)        min:   -0.28329  max:    1.18313  float32\n",
      "Processing 1 images\n",
      "image                    shape: (480, 640, 3)         min:    0.00000  max:  255.00000  uint8\n",
      "molded_images            shape: (1, 640, 640, 3)      min: -123.70000  max:  151.10000  float64\n",
      "image_metas              shape: (1, 14)               min:    0.00000  max:  640.00000  float64\n",
      "anchors                  shape: (1, 102300, 4)        min:   -0.28329  max:    1.18313  float32\n",
      "Processing 1 images\n",
      "image                    shape: (480, 640, 3)         min:    0.00000  max:  255.00000  uint8\n",
      "molded_images            shape: (1, 640, 640, 3)      min: -123.70000  max:  151.10000  float64\n",
      "image_metas              shape: (1, 14)               min:    0.00000  max:  640.00000  float64\n",
      "anchors                  shape: (1, 102300, 4)        min:   -0.28329  max:    1.18313  float32\n",
      "Processing 1 images\n",
      "image                    shape: (480, 640, 3)         min:    0.00000  max:  255.00000  uint8\n",
      "molded_images            shape: (1, 640, 640, 3)      min: -123.70000  max:  151.10000  float64\n",
      "image_metas              shape: (1, 14)               min:    0.00000  max:  640.00000  float64\n",
      "anchors                  shape: (1, 102300, 4)        min:   -0.28329  max:    1.18313  float32\n",
      "Processing 1 images\n",
      "image                    shape: (480, 640, 3)         min:    0.00000  max:  255.00000  uint8\n",
      "molded_images            shape: (1, 640, 640, 3)      min: -123.70000  max:  151.10000  float64\n",
      "image_metas              shape: (1, 14)               min:    0.00000  max:  640.00000  float64\n",
      "anchors                  shape: (1, 102300, 4)        min:   -0.28329  max:    1.18313  float32\n",
      "Processing 1 images\n",
      "image                    shape: (480, 640, 3)         min:    0.00000  max:  255.00000  uint8\n",
      "molded_images            shape: (1, 640, 640, 3)      min: -123.70000  max:  151.10000  float64\n",
      "image_metas              shape: (1, 14)               min:    0.00000  max:  640.00000  float64\n",
      "anchors                  shape: (1, 102300, 4)        min:   -0.28329  max:    1.18313  float32\n",
      "Processing 1 images\n",
      "image                    shape: (480, 640, 3)         min:    0.00000  max:  255.00000  uint8\n",
      "molded_images            shape: (1, 640, 640, 3)      min: -123.70000  max:  151.10000  float64\n",
      "image_metas              shape: (1, 14)               min:    0.00000  max:  640.00000  float64\n",
      "anchors                  shape: (1, 102300, 4)        min:   -0.28329  max:    1.18313  float32\n",
      "Processing 1 images\n",
      "image                    shape: (480, 640, 3)         min:    0.00000  max:  255.00000  uint8\n",
      "molded_images            shape: (1, 640, 640, 3)      min: -123.70000  max:  151.10000  float64\n",
      "image_metas              shape: (1, 14)               min:    0.00000  max:  640.00000  float64\n",
      "anchors                  shape: (1, 102300, 4)        min:   -0.28329  max:    1.18313  float32\n",
      "Processing 1 images\n",
      "image                    shape: (480, 640, 3)         min:    0.00000  max:  255.00000  uint8\n",
      "molded_images            shape: (1, 640, 640, 3)      min: -123.70000  max:  151.10000  float64\n",
      "image_metas              shape: (1, 14)               min:    0.00000  max:  640.00000  float64\n",
      "anchors                  shape: (1, 102300, 4)        min:   -0.28329  max:    1.18313  float32\n",
      "Processing 1 images\n",
      "image                    shape: (480, 640, 3)         min:    0.00000  max:  255.00000  uint8\n",
      "molded_images            shape: (1, 640, 640, 3)      min: -123.70000  max:  151.10000  float64\n",
      "image_metas              shape: (1, 14)               min:    0.00000  max:  640.00000  float64\n",
      "anchors                  shape: (1, 102300, 4)        min:   -0.28329  max:    1.18313  float32\n",
      "Processing 1 images\n",
      "image                    shape: (480, 640, 3)         min:    0.00000  max:  255.00000  uint8\n",
      "molded_images            shape: (1, 640, 640, 3)      min: -123.70000  max:  151.10000  float64\n",
      "image_metas              shape: (1, 14)               min:    0.00000  max:  640.00000  float64\n",
      "anchors                  shape: (1, 102300, 4)        min:   -0.28329  max:    1.18313  float32\n",
      "Processing 1 images\n",
      "image                    shape: (480, 640, 3)         min:    0.00000  max:  255.00000  uint8\n",
      "molded_images            shape: (1, 640, 640, 3)      min: -123.70000  max:  151.10000  float64\n",
      "image_metas              shape: (1, 14)               min:    0.00000  max:  640.00000  float64\n",
      "anchors                  shape: (1, 102300, 4)        min:   -0.28329  max:    1.18313  float32\n",
      "Processing 1 images\n",
      "image                    shape: (480, 640, 3)         min:    0.00000  max:  255.00000  uint8\n",
      "molded_images            shape: (1, 640, 640, 3)      min: -123.70000  max:  151.10000  float64\n",
      "image_metas              shape: (1, 14)               min:    0.00000  max:  640.00000  float64\n",
      "anchors                  shape: (1, 102300, 4)        min:   -0.28329  max:    1.18313  float32\n",
      "Processing 1 images\n",
      "image                    shape: (480, 640, 3)         min:    0.00000  max:  255.00000  uint8\n",
      "molded_images            shape: (1, 640, 640, 3)      min: -123.70000  max:  151.10000  float64\n",
      "image_metas              shape: (1, 14)               min:    0.00000  max:  640.00000  float64\n",
      "anchors                  shape: (1, 102300, 4)        min:   -0.28329  max:    1.18313  float32\n"
     ]
    },
    {
     "name": "stdout",
     "output_type": "stream",
     "text": [
      "Processing 1 images\n",
      "image                    shape: (480, 640, 3)         min:    0.00000  max:  255.00000  uint8\n",
      "molded_images            shape: (1, 640, 640, 3)      min: -123.70000  max:  151.10000  float64\n",
      "image_metas              shape: (1, 14)               min:    0.00000  max:  640.00000  float64\n",
      "anchors                  shape: (1, 102300, 4)        min:   -0.28329  max:    1.18313  float32\n",
      "Processing 1 images\n",
      "image                    shape: (480, 640, 3)         min:    0.00000  max:  255.00000  uint8\n",
      "molded_images            shape: (1, 640, 640, 3)      min: -123.70000  max:  151.10000  float64\n",
      "image_metas              shape: (1, 14)               min:    0.00000  max:  640.00000  float64\n",
      "anchors                  shape: (1, 102300, 4)        min:   -0.28329  max:    1.18313  float32\n",
      "Processing 1 images\n",
      "image                    shape: (480, 640, 3)         min:    0.00000  max:  255.00000  uint8\n",
      "molded_images            shape: (1, 640, 640, 3)      min: -123.70000  max:  151.10000  float64\n",
      "image_metas              shape: (1, 14)               min:    0.00000  max:  640.00000  float64\n",
      "anchors                  shape: (1, 102300, 4)        min:   -0.28329  max:    1.18313  float32\n",
      "Processing 1 images\n",
      "image                    shape: (480, 640, 3)         min:    0.00000  max:  255.00000  uint8\n",
      "molded_images            shape: (1, 640, 640, 3)      min: -123.70000  max:  151.10000  float64\n",
      "image_metas              shape: (1, 14)               min:    0.00000  max:  640.00000  float64\n",
      "anchors                  shape: (1, 102300, 4)        min:   -0.28329  max:    1.18313  float32\n",
      "Processing 1 images\n",
      "image                    shape: (480, 640, 3)         min:    0.00000  max:  255.00000  uint8\n",
      "molded_images            shape: (1, 640, 640, 3)      min: -123.70000  max:  151.10000  float64\n",
      "image_metas              shape: (1, 14)               min:    0.00000  max:  640.00000  float64\n",
      "anchors                  shape: (1, 102300, 4)        min:   -0.28329  max:    1.18313  float32\n",
      "Processing 1 images\n",
      "image                    shape: (480, 640, 3)         min:    0.00000  max:  255.00000  uint8\n",
      "molded_images            shape: (1, 640, 640, 3)      min: -123.70000  max:  151.10000  float64\n",
      "image_metas              shape: (1, 14)               min:    0.00000  max:  640.00000  float64\n",
      "anchors                  shape: (1, 102300, 4)        min:   -0.28329  max:    1.18313  float32\n",
      "Processing 1 images\n",
      "image                    shape: (480, 640, 3)         min:    0.00000  max:  255.00000  uint8\n",
      "molded_images            shape: (1, 640, 640, 3)      min: -123.70000  max:  151.10000  float64\n",
      "image_metas              shape: (1, 14)               min:    0.00000  max:  640.00000  float64\n",
      "anchors                  shape: (1, 102300, 4)        min:   -0.28329  max:    1.18313  float32\n",
      "Processing 1 images\n",
      "image                    shape: (480, 640, 3)         min:    0.00000  max:  255.00000  uint8\n",
      "molded_images            shape: (1, 640, 640, 3)      min: -123.70000  max:  151.10000  float64\n",
      "image_metas              shape: (1, 14)               min:    0.00000  max:  640.00000  float64\n",
      "anchors                  shape: (1, 102300, 4)        min:   -0.28329  max:    1.18313  float32\n",
      "Processing 1 images\n",
      "image                    shape: (480, 640, 3)         min:    0.00000  max:  255.00000  uint8\n",
      "molded_images            shape: (1, 640, 640, 3)      min: -123.70000  max:  151.10000  float64\n",
      "image_metas              shape: (1, 14)               min:    0.00000  max:  640.00000  float64\n",
      "anchors                  shape: (1, 102300, 4)        min:   -0.28329  max:    1.18313  float32\n",
      "Processing 1 images\n",
      "image                    shape: (480, 640, 3)         min:    0.00000  max:  255.00000  uint8\n",
      "molded_images            shape: (1, 640, 640, 3)      min: -123.70000  max:  151.10000  float64\n",
      "image_metas              shape: (1, 14)               min:    0.00000  max:  640.00000  float64\n",
      "anchors                  shape: (1, 102300, 4)        min:   -0.28329  max:    1.18313  float32\n",
      "Processing 1 images\n",
      "image                    shape: (480, 640, 3)         min:    0.00000  max:  255.00000  uint8\n",
      "molded_images            shape: (1, 640, 640, 3)      min: -123.70000  max:  151.10000  float64\n",
      "image_metas              shape: (1, 14)               min:    0.00000  max:  640.00000  float64\n",
      "anchors                  shape: (1, 102300, 4)        min:   -0.28329  max:    1.18313  float32\n",
      "Processing 1 images\n",
      "image                    shape: (480, 640, 3)         min:    0.00000  max:  255.00000  uint8\n",
      "molded_images            shape: (1, 640, 640, 3)      min: -123.70000  max:  151.10000  float64\n",
      "image_metas              shape: (1, 14)               min:    0.00000  max:  640.00000  float64\n",
      "anchors                  shape: (1, 102300, 4)        min:   -0.28329  max:    1.18313  float32\n",
      "Processing 1 images\n",
      "image                    shape: (480, 640, 3)         min:    0.00000  max:  255.00000  uint8\n",
      "molded_images            shape: (1, 640, 640, 3)      min: -123.70000  max:  151.10000  float64\n",
      "image_metas              shape: (1, 14)               min:    0.00000  max:  640.00000  float64\n",
      "anchors                  shape: (1, 102300, 4)        min:   -0.28329  max:    1.18313  float32\n",
      "Processing 1 images\n",
      "image                    shape: (480, 640, 3)         min:    0.00000  max:  255.00000  uint8\n",
      "molded_images            shape: (1, 640, 640, 3)      min: -123.70000  max:  151.10000  float64\n",
      "image_metas              shape: (1, 14)               min:    0.00000  max:  640.00000  float64\n",
      "anchors                  shape: (1, 102300, 4)        min:   -0.28329  max:    1.18313  float32\n",
      "Processing 1 images\n",
      "image                    shape: (480, 640, 3)         min:    0.00000  max:  255.00000  uint8\n",
      "molded_images            shape: (1, 640, 640, 3)      min: -123.70000  max:  151.10000  float64\n",
      "image_metas              shape: (1, 14)               min:    0.00000  max:  640.00000  float64\n",
      "anchors                  shape: (1, 102300, 4)        min:   -0.28329  max:    1.18313  float32\n",
      "Processing 1 images\n",
      "image                    shape: (480, 640, 3)         min:    0.00000  max:  255.00000  uint8\n",
      "molded_images            shape: (1, 640, 640, 3)      min: -123.70000  max:  151.10000  float64\n",
      "image_metas              shape: (1, 14)               min:    0.00000  max:  640.00000  float64\n",
      "anchors                  shape: (1, 102300, 4)        min:   -0.28329  max:    1.18313  float32\n",
      "Processing 1 images\n",
      "image                    shape: (480, 640, 3)         min:    0.00000  max:  255.00000  uint8\n",
      "molded_images            shape: (1, 640, 640, 3)      min: -123.70000  max:  151.10000  float64\n",
      "image_metas              shape: (1, 14)               min:    0.00000  max:  640.00000  float64\n",
      "anchors                  shape: (1, 102300, 4)        min:   -0.28329  max:    1.18313  float32\n",
      "Processing 1 images\n",
      "image                    shape: (480, 640, 3)         min:    0.00000  max:  255.00000  uint8\n",
      "molded_images            shape: (1, 640, 640, 3)      min: -123.70000  max:  151.10000  float64\n",
      "image_metas              shape: (1, 14)               min:    0.00000  max:  640.00000  float64\n",
      "anchors                  shape: (1, 102300, 4)        min:   -0.28329  max:    1.18313  float32\n",
      "Processing 1 images\n",
      "image                    shape: (480, 640, 3)         min:    0.00000  max:  255.00000  uint8\n",
      "molded_images            shape: (1, 640, 640, 3)      min: -123.70000  max:  151.10000  float64\n",
      "image_metas              shape: (1, 14)               min:    0.00000  max:  640.00000  float64\n",
      "anchors                  shape: (1, 102300, 4)        min:   -0.28329  max:    1.18313  float32\n",
      "Processing 1 images\n",
      "image                    shape: (480, 640, 3)         min:    0.00000  max:  255.00000  uint8\n",
      "molded_images            shape: (1, 640, 640, 3)      min: -123.70000  max:  151.10000  float64\n",
      "image_metas              shape: (1, 14)               min:    0.00000  max:  640.00000  float64\n",
      "anchors                  shape: (1, 102300, 4)        min:   -0.28329  max:    1.18313  float32\n",
      "Processing 1 images\n",
      "image                    shape: (480, 640, 3)         min:    0.00000  max:  255.00000  uint8\n",
      "molded_images            shape: (1, 640, 640, 3)      min: -123.70000  max:  151.10000  float64\n",
      "image_metas              shape: (1, 14)               min:    0.00000  max:  640.00000  float64\n",
      "anchors                  shape: (1, 102300, 4)        min:   -0.28329  max:    1.18313  float32\n"
     ]
    },
    {
     "name": "stdout",
     "output_type": "stream",
     "text": [
      "Processing 1 images\n",
      "image                    shape: (480, 640, 3)         min:    0.00000  max:  255.00000  uint8\n",
      "molded_images            shape: (1, 640, 640, 3)      min: -123.70000  max:  151.10000  float64\n",
      "image_metas              shape: (1, 14)               min:    0.00000  max:  640.00000  float64\n",
      "anchors                  shape: (1, 102300, 4)        min:   -0.28329  max:    1.18313  float32\n",
      "Processing 1 images\n",
      "image                    shape: (480, 640, 3)         min:    0.00000  max:  255.00000  uint8\n",
      "molded_images            shape: (1, 640, 640, 3)      min: -123.70000  max:  151.10000  float64\n",
      "image_metas              shape: (1, 14)               min:    0.00000  max:  640.00000  float64\n",
      "anchors                  shape: (1, 102300, 4)        min:   -0.28329  max:    1.18313  float32\n",
      "Processing 1 images\n",
      "image                    shape: (480, 640, 3)         min:    0.00000  max:  255.00000  uint8\n",
      "molded_images            shape: (1, 640, 640, 3)      min: -123.70000  max:  151.10000  float64\n",
      "image_metas              shape: (1, 14)               min:    0.00000  max:  640.00000  float64\n",
      "anchors                  shape: (1, 102300, 4)        min:   -0.28329  max:    1.18313  float32\n",
      "Processing 1 images\n",
      "image                    shape: (480, 640, 3)         min:    0.00000  max:  255.00000  uint8\n",
      "molded_images            shape: (1, 640, 640, 3)      min: -123.70000  max:  151.10000  float64\n",
      "image_metas              shape: (1, 14)               min:    0.00000  max:  640.00000  float64\n",
      "anchors                  shape: (1, 102300, 4)        min:   -0.28329  max:    1.18313  float32\n",
      "Processing 1 images\n",
      "image                    shape: (480, 640, 3)         min:    0.00000  max:  255.00000  uint8\n",
      "molded_images            shape: (1, 640, 640, 3)      min: -123.70000  max:  151.10000  float64\n",
      "image_metas              shape: (1, 14)               min:    0.00000  max:  640.00000  float64\n",
      "anchors                  shape: (1, 102300, 4)        min:   -0.28329  max:    1.18313  float32\n",
      "Processing 1 images\n",
      "image                    shape: (480, 640, 3)         min:    0.00000  max:  255.00000  uint8\n",
      "molded_images            shape: (1, 640, 640, 3)      min: -123.70000  max:  151.10000  float64\n",
      "image_metas              shape: (1, 14)               min:    0.00000  max:  640.00000  float64\n",
      "anchors                  shape: (1, 102300, 4)        min:   -0.28329  max:    1.18313  float32\n",
      "Processing 1 images\n",
      "image                    shape: (480, 640, 3)         min:    0.00000  max:  255.00000  uint8\n",
      "molded_images            shape: (1, 640, 640, 3)      min: -123.70000  max:  151.10000  float64\n",
      "image_metas              shape: (1, 14)               min:    0.00000  max:  640.00000  float64\n",
      "anchors                  shape: (1, 102300, 4)        min:   -0.28329  max:    1.18313  float32\n",
      "Processing 1 images\n",
      "image                    shape: (480, 640, 3)         min:    0.00000  max:  255.00000  uint8\n",
      "molded_images            shape: (1, 640, 640, 3)      min: -123.70000  max:  151.10000  float64\n",
      "image_metas              shape: (1, 14)               min:    0.00000  max:  640.00000  float64\n",
      "anchors                  shape: (1, 102300, 4)        min:   -0.28329  max:    1.18313  float32\n",
      "Processing 1 images\n",
      "image                    shape: (480, 640, 3)         min:    0.00000  max:  255.00000  uint8\n",
      "molded_images            shape: (1, 640, 640, 3)      min: -123.70000  max:  151.10000  float64\n",
      "image_metas              shape: (1, 14)               min:    0.00000  max:  640.00000  float64\n",
      "anchors                  shape: (1, 102300, 4)        min:   -0.28329  max:    1.18313  float32\n",
      "Processing 1 images\n",
      "image                    shape: (480, 640, 3)         min:    0.00000  max:  255.00000  uint8\n",
      "molded_images            shape: (1, 640, 640, 3)      min: -123.70000  max:  151.10000  float64\n",
      "image_metas              shape: (1, 14)               min:    0.00000  max:  640.00000  float64\n",
      "anchors                  shape: (1, 102300, 4)        min:   -0.28329  max:    1.18313  float32\n",
      "Processing 1 images\n",
      "image                    shape: (480, 640, 3)         min:    0.00000  max:  255.00000  uint8\n",
      "molded_images            shape: (1, 640, 640, 3)      min: -123.70000  max:  151.10000  float64\n",
      "image_metas              shape: (1, 14)               min:    0.00000  max:  640.00000  float64\n",
      "anchors                  shape: (1, 102300, 4)        min:   -0.28329  max:    1.18313  float32\n",
      "Processing 1 images\n",
      "image                    shape: (480, 640, 3)         min:    0.00000  max:  255.00000  uint8\n",
      "molded_images            shape: (1, 640, 640, 3)      min: -123.70000  max:  151.10000  float64\n",
      "image_metas              shape: (1, 14)               min:    0.00000  max:  640.00000  float64\n",
      "anchors                  shape: (1, 102300, 4)        min:   -0.28329  max:    1.18313  float32\n",
      "Processing 1 images\n",
      "image                    shape: (480, 640, 3)         min:    0.00000  max:  255.00000  uint8\n",
      "molded_images            shape: (1, 640, 640, 3)      min: -123.70000  max:  151.10000  float64\n",
      "image_metas              shape: (1, 14)               min:    0.00000  max:  640.00000  float64\n",
      "anchors                  shape: (1, 102300, 4)        min:   -0.28329  max:    1.18313  float32\n"
     ]
    },
    {
     "ename": "ValueError",
     "evalue": "Could not find a format to read the specified file in single-image mode",
     "output_type": "error",
     "traceback": [
      "\u001b[0;31m----------------------------------------\u001b[0m",
      "\u001b[0;31mValueError\u001b[0mTraceback (most recent call last)",
      "\u001b[0;32m<ipython-input-11-59d7a6a2f48f>\u001b[0m in \u001b[0;36m<module>\u001b[0;34m\u001b[0m\n\u001b[1;32m     11\u001b[0m \u001b[0;32mfor\u001b[0m \u001b[0mcount\u001b[0m\u001b[0;34m,\u001b[0m \u001b[0mfile_name\u001b[0m \u001b[0;32min\u001b[0m \u001b[0menumerate\u001b[0m\u001b[0;34m(\u001b[0m\u001b[0mfile_names\u001b[0m\u001b[0;34m)\u001b[0m\u001b[0;34m:\u001b[0m\u001b[0;34m\u001b[0m\u001b[0;34m\u001b[0m\u001b[0m\n\u001b[1;32m     12\u001b[0m     \u001b[0;32mif\u001b[0m \u001b[0mcount\u001b[0m \u001b[0;34m<\u001b[0m \u001b[0;36m200\u001b[0m\u001b[0;34m:\u001b[0m \u001b[0;32mcontinue\u001b[0m\u001b[0;34m\u001b[0m\u001b[0;34m\u001b[0m\u001b[0m\n\u001b[0;32m---> 13\u001b[0;31m     \u001b[0mimage\u001b[0m \u001b[0;34m=\u001b[0m \u001b[0mskimage\u001b[0m\u001b[0;34m.\u001b[0m\u001b[0mio\u001b[0m\u001b[0;34m.\u001b[0m\u001b[0mimread\u001b[0m\u001b[0;34m(\u001b[0m\u001b[0mos\u001b[0m\u001b[0;34m.\u001b[0m\u001b[0mpath\u001b[0m\u001b[0;34m.\u001b[0m\u001b[0mjoin\u001b[0m\u001b[0;34m(\u001b[0m\u001b[0mIMAGE_DIR\u001b[0m\u001b[0;34m,\u001b[0m \u001b[0mfile_name\u001b[0m\u001b[0;34m)\u001b[0m\u001b[0;34m)\u001b[0m\u001b[0;34m\u001b[0m\u001b[0;34m\u001b[0m\u001b[0m\n\u001b[0m\u001b[1;32m     14\u001b[0m     \u001b[0;31m#image = skimage.io.imread(os.path.join(IMAGE_DIR, random.choice(file_names)))\u001b[0m\u001b[0;34m\u001b[0m\u001b[0;34m\u001b[0m\u001b[0;34m\u001b[0m\u001b[0m\n\u001b[1;32m     15\u001b[0m     \u001b[0;31m# Run object detection\u001b[0m\u001b[0;34m\u001b[0m\u001b[0;34m\u001b[0m\u001b[0;34m\u001b[0m\u001b[0m\n",
      "\u001b[0;32m~/workspace/instance_segmentation/env_mrcnn/lib/python3.8/site-packages/skimage/io/_io.py\u001b[0m in \u001b[0;36mimread\u001b[0;34m(fname, as_gray, plugin, **plugin_args)\u001b[0m\n\u001b[1;32m     46\u001b[0m \u001b[0;34m\u001b[0m\u001b[0m\n\u001b[1;32m     47\u001b[0m     \u001b[0;32mwith\u001b[0m \u001b[0mfile_or_url_context\u001b[0m\u001b[0;34m(\u001b[0m\u001b[0mfname\u001b[0m\u001b[0;34m)\u001b[0m \u001b[0;32mas\u001b[0m \u001b[0mfname\u001b[0m\u001b[0;34m:\u001b[0m\u001b[0;34m\u001b[0m\u001b[0;34m\u001b[0m\u001b[0m\n\u001b[0;32m---> 48\u001b[0;31m         \u001b[0mimg\u001b[0m \u001b[0;34m=\u001b[0m \u001b[0mcall_plugin\u001b[0m\u001b[0;34m(\u001b[0m\u001b[0;34m'imread'\u001b[0m\u001b[0;34m,\u001b[0m \u001b[0mfname\u001b[0m\u001b[0;34m,\u001b[0m \u001b[0mplugin\u001b[0m\u001b[0;34m=\u001b[0m\u001b[0mplugin\u001b[0m\u001b[0;34m,\u001b[0m \u001b[0;34m**\u001b[0m\u001b[0mplugin_args\u001b[0m\u001b[0;34m)\u001b[0m\u001b[0;34m\u001b[0m\u001b[0;34m\u001b[0m\u001b[0m\n\u001b[0m\u001b[1;32m     49\u001b[0m \u001b[0;34m\u001b[0m\u001b[0m\n\u001b[1;32m     50\u001b[0m     \u001b[0;32mif\u001b[0m \u001b[0;32mnot\u001b[0m \u001b[0mhasattr\u001b[0m\u001b[0;34m(\u001b[0m\u001b[0mimg\u001b[0m\u001b[0;34m,\u001b[0m \u001b[0;34m'ndim'\u001b[0m\u001b[0;34m)\u001b[0m\u001b[0;34m:\u001b[0m\u001b[0;34m\u001b[0m\u001b[0;34m\u001b[0m\u001b[0m\n",
      "\u001b[0;32m~/workspace/instance_segmentation/env_mrcnn/lib/python3.8/site-packages/skimage/io/manage_plugins.py\u001b[0m in \u001b[0;36mcall_plugin\u001b[0;34m(kind, *args, **kwargs)\u001b[0m\n\u001b[1;32m    208\u001b[0m                                (plugin, kind))\n\u001b[1;32m    209\u001b[0m \u001b[0;34m\u001b[0m\u001b[0m\n\u001b[0;32m--> 210\u001b[0;31m     \u001b[0;32mreturn\u001b[0m \u001b[0mfunc\u001b[0m\u001b[0;34m(\u001b[0m\u001b[0;34m*\u001b[0m\u001b[0margs\u001b[0m\u001b[0;34m,\u001b[0m \u001b[0;34m**\u001b[0m\u001b[0mkwargs\u001b[0m\u001b[0;34m)\u001b[0m\u001b[0;34m\u001b[0m\u001b[0;34m\u001b[0m\u001b[0m\n\u001b[0m\u001b[1;32m    211\u001b[0m \u001b[0;34m\u001b[0m\u001b[0m\n\u001b[1;32m    212\u001b[0m \u001b[0;34m\u001b[0m\u001b[0m\n",
      "\u001b[0;32m~/workspace/instance_segmentation/env_mrcnn/lib/python3.8/site-packages/skimage/io/_plugins/imageio_plugin.py\u001b[0m in \u001b[0;36mimread\u001b[0;34m(*args, **kwargs)\u001b[0m\n\u001b[1;32m      8\u001b[0m \u001b[0;34m@\u001b[0m\u001b[0mwraps\u001b[0m\u001b[0;34m(\u001b[0m\u001b[0mimageio_imread\u001b[0m\u001b[0;34m)\u001b[0m\u001b[0;34m\u001b[0m\u001b[0;34m\u001b[0m\u001b[0m\n\u001b[1;32m      9\u001b[0m \u001b[0;32mdef\u001b[0m \u001b[0mimread\u001b[0m\u001b[0;34m(\u001b[0m\u001b[0;34m*\u001b[0m\u001b[0margs\u001b[0m\u001b[0;34m,\u001b[0m \u001b[0;34m**\u001b[0m\u001b[0mkwargs\u001b[0m\u001b[0;34m)\u001b[0m\u001b[0;34m:\u001b[0m\u001b[0;34m\u001b[0m\u001b[0;34m\u001b[0m\u001b[0m\n\u001b[0;32m---> 10\u001b[0;31m     \u001b[0;32mreturn\u001b[0m \u001b[0mnp\u001b[0m\u001b[0;34m.\u001b[0m\u001b[0masarray\u001b[0m\u001b[0;34m(\u001b[0m\u001b[0mimageio_imread\u001b[0m\u001b[0;34m(\u001b[0m\u001b[0;34m*\u001b[0m\u001b[0margs\u001b[0m\u001b[0;34m,\u001b[0m \u001b[0;34m**\u001b[0m\u001b[0mkwargs\u001b[0m\u001b[0;34m)\u001b[0m\u001b[0;34m)\u001b[0m\u001b[0;34m\u001b[0m\u001b[0;34m\u001b[0m\u001b[0m\n\u001b[0m",
      "\u001b[0;32m~/workspace/instance_segmentation/env_mrcnn/lib/python3.8/site-packages/imageio/core/functions.py\u001b[0m in \u001b[0;36mimread\u001b[0;34m(uri, format, **kwargs)\u001b[0m\n\u001b[1;32m    263\u001b[0m \u001b[0;34m\u001b[0m\u001b[0m\n\u001b[1;32m    264\u001b[0m     \u001b[0;31m# Get reader and read first\u001b[0m\u001b[0;34m\u001b[0m\u001b[0;34m\u001b[0m\u001b[0;34m\u001b[0m\u001b[0m\n\u001b[0;32m--> 265\u001b[0;31m     \u001b[0mreader\u001b[0m \u001b[0;34m=\u001b[0m \u001b[0mread\u001b[0m\u001b[0;34m(\u001b[0m\u001b[0muri\u001b[0m\u001b[0;34m,\u001b[0m \u001b[0mformat\u001b[0m\u001b[0;34m,\u001b[0m \u001b[0;34m\"i\"\u001b[0m\u001b[0;34m,\u001b[0m \u001b[0;34m**\u001b[0m\u001b[0mkwargs\u001b[0m\u001b[0;34m)\u001b[0m\u001b[0;34m\u001b[0m\u001b[0;34m\u001b[0m\u001b[0m\n\u001b[0m\u001b[1;32m    266\u001b[0m     \u001b[0;32mwith\u001b[0m \u001b[0mreader\u001b[0m\u001b[0;34m:\u001b[0m\u001b[0;34m\u001b[0m\u001b[0;34m\u001b[0m\u001b[0m\n\u001b[1;32m    267\u001b[0m         \u001b[0;32mreturn\u001b[0m \u001b[0mreader\u001b[0m\u001b[0;34m.\u001b[0m\u001b[0mget_data\u001b[0m\u001b[0;34m(\u001b[0m\u001b[0;36m0\u001b[0m\u001b[0;34m)\u001b[0m\u001b[0;34m\u001b[0m\u001b[0;34m\u001b[0m\u001b[0m\n",
      "\u001b[0;32m~/workspace/instance_segmentation/env_mrcnn/lib/python3.8/site-packages/imageio/core/functions.py\u001b[0m in \u001b[0;36mget_reader\u001b[0;34m(uri, format, mode, **kwargs)\u001b[0m\n\u001b[1;32m    179\u001b[0m     \u001b[0;32mif\u001b[0m \u001b[0mformat\u001b[0m \u001b[0;32mis\u001b[0m \u001b[0;32mNone\u001b[0m\u001b[0;34m:\u001b[0m\u001b[0;34m\u001b[0m\u001b[0;34m\u001b[0m\u001b[0m\n\u001b[1;32m    180\u001b[0m         \u001b[0mmodename\u001b[0m \u001b[0;34m=\u001b[0m \u001b[0mMODENAMES\u001b[0m\u001b[0;34m.\u001b[0m\u001b[0mget\u001b[0m\u001b[0;34m(\u001b[0m\u001b[0mmode\u001b[0m\u001b[0;34m,\u001b[0m \u001b[0mmode\u001b[0m\u001b[0;34m)\u001b[0m\u001b[0;34m\u001b[0m\u001b[0;34m\u001b[0m\u001b[0m\n\u001b[0;32m--> 181\u001b[0;31m         raise ValueError(\n\u001b[0m\u001b[1;32m    182\u001b[0m             \u001b[0;34m\"Could not find a format to read the specified file in %s mode\"\u001b[0m \u001b[0;34m%\u001b[0m \u001b[0mmodename\u001b[0m\u001b[0;34m\u001b[0m\u001b[0;34m\u001b[0m\u001b[0m\n\u001b[1;32m    183\u001b[0m         )\n",
      "\u001b[0;31mValueError\u001b[0m: Could not find a format to read the specified file in single-image mode"
     ]
    },
    {
     "data": {
      "text/plain": [
       "<Figure size 1152x1152 with 0 Axes>"
      ]
     },
     "metadata": {},
     "output_type": "display_data"
    },
    {
     "data": {
      "text/plain": [
       "<Figure size 1152x1152 with 0 Axes>"
      ]
     },
     "metadata": {},
     "output_type": "display_data"
    },
    {
     "data": {
      "text/plain": [
       "<Figure size 1152x1152 with 0 Axes>"
      ]
     },
     "metadata": {},
     "output_type": "display_data"
    },
    {
     "data": {
      "text/plain": [
       "<Figure size 1152x1152 with 0 Axes>"
      ]
     },
     "metadata": {},
     "output_type": "display_data"
    },
    {
     "data": {
      "text/plain": [
       "<Figure size 1152x1152 with 0 Axes>"
      ]
     },
     "metadata": {},
     "output_type": "display_data"
    },
    {
     "data": {
      "text/plain": [
       "<Figure size 1152x1152 with 0 Axes>"
      ]
     },
     "metadata": {},
     "output_type": "display_data"
    },
    {
     "data": {
      "text/plain": [
       "<Figure size 1152x1152 with 0 Axes>"
      ]
     },
     "metadata": {},
     "output_type": "display_data"
    },
    {
     "data": {
      "text/plain": [
       "<Figure size 1152x1152 with 0 Axes>"
      ]
     },
     "metadata": {},
     "output_type": "display_data"
    },
    {
     "data": {
      "text/plain": [
       "<Figure size 1152x1152 with 0 Axes>"
      ]
     },
     "metadata": {},
     "output_type": "display_data"
    },
    {
     "data": {
      "text/plain": [
       "<Figure size 1152x1152 with 0 Axes>"
      ]
     },
     "metadata": {},
     "output_type": "display_data"
    },
    {
     "data": {
      "text/plain": [
       "<Figure size 1152x1152 with 0 Axes>"
      ]
     },
     "metadata": {},
     "output_type": "display_data"
    },
    {
     "data": {
      "text/plain": [
       "<Figure size 1152x1152 with 0 Axes>"
      ]
     },
     "metadata": {},
     "output_type": "display_data"
    },
    {
     "data": {
      "text/plain": [
       "<Figure size 1152x1152 with 0 Axes>"
      ]
     },
     "metadata": {},
     "output_type": "display_data"
    },
    {
     "data": {
      "text/plain": [
       "<Figure size 1152x1152 with 0 Axes>"
      ]
     },
     "metadata": {},
     "output_type": "display_data"
    },
    {
     "data": {
      "text/plain": [
       "<Figure size 1152x1152 with 0 Axes>"
      ]
     },
     "metadata": {},
     "output_type": "display_data"
    },
    {
     "data": {
      "text/plain": [
       "<Figure size 1152x1152 with 0 Axes>"
      ]
     },
     "metadata": {},
     "output_type": "display_data"
    },
    {
     "data": {
      "text/plain": [
       "<Figure size 1152x1152 with 0 Axes>"
      ]
     },
     "metadata": {},
     "output_type": "display_data"
    },
    {
     "data": {
      "text/plain": [
       "<Figure size 1152x1152 with 0 Axes>"
      ]
     },
     "metadata": {},
     "output_type": "display_data"
    },
    {
     "data": {
      "text/plain": [
       "<Figure size 1152x1152 with 0 Axes>"
      ]
     },
     "metadata": {},
     "output_type": "display_data"
    },
    {
     "data": {
      "text/plain": [
       "<Figure size 1152x1152 with 0 Axes>"
      ]
     },
     "metadata": {},
     "output_type": "display_data"
    },
    {
     "data": {
      "text/plain": [
       "<Figure size 1152x1152 with 0 Axes>"
      ]
     },
     "metadata": {},
     "output_type": "display_data"
    },
    {
     "data": {
      "text/plain": [
       "<Figure size 1152x1152 with 0 Axes>"
      ]
     },
     "metadata": {},
     "output_type": "display_data"
    },
    {
     "data": {
      "text/plain": [
       "<Figure size 1152x1152 with 0 Axes>"
      ]
     },
     "metadata": {},
     "output_type": "display_data"
    },
    {
     "data": {
      "text/plain": [
       "<Figure size 1152x1152 with 0 Axes>"
      ]
     },
     "metadata": {},
     "output_type": "display_data"
    },
    {
     "data": {
      "text/plain": [
       "<Figure size 1152x1152 with 0 Axes>"
      ]
     },
     "metadata": {},
     "output_type": "display_data"
    },
    {
     "data": {
      "text/plain": [
       "<Figure size 1152x1152 with 0 Axes>"
      ]
     },
     "metadata": {},
     "output_type": "display_data"
    },
    {
     "data": {
      "text/plain": [
       "<Figure size 1152x1152 with 0 Axes>"
      ]
     },
     "metadata": {},
     "output_type": "display_data"
    },
    {
     "data": {
      "text/plain": [
       "<Figure size 1152x1152 with 0 Axes>"
      ]
     },
     "metadata": {},
     "output_type": "display_data"
    },
    {
     "data": {
      "text/plain": [
       "<Figure size 1152x1152 with 0 Axes>"
      ]
     },
     "metadata": {},
     "output_type": "display_data"
    },
    {
     "data": {
      "text/plain": [
       "<Figure size 1152x1152 with 0 Axes>"
      ]
     },
     "metadata": {},
     "output_type": "display_data"
    },
    {
     "data": {
      "text/plain": [
       "<Figure size 1152x1152 with 0 Axes>"
      ]
     },
     "metadata": {},
     "output_type": "display_data"
    },
    {
     "data": {
      "text/plain": [
       "<Figure size 1152x1152 with 0 Axes>"
      ]
     },
     "metadata": {},
     "output_type": "display_data"
    },
    {
     "data": {
      "text/plain": [
       "<Figure size 1152x1152 with 0 Axes>"
      ]
     },
     "metadata": {},
     "output_type": "display_data"
    },
    {
     "data": {
      "text/plain": [
       "<Figure size 1152x1152 with 0 Axes>"
      ]
     },
     "metadata": {},
     "output_type": "display_data"
    },
    {
     "data": {
      "text/plain": [
       "<Figure size 1152x1152 with 0 Axes>"
      ]
     },
     "metadata": {},
     "output_type": "display_data"
    },
    {
     "data": {
      "text/plain": [
       "<Figure size 1152x1152 with 0 Axes>"
      ]
     },
     "metadata": {},
     "output_type": "display_data"
    },
    {
     "data": {
      "text/plain": [
       "<Figure size 1152x1152 with 0 Axes>"
      ]
     },
     "metadata": {},
     "output_type": "display_data"
    },
    {
     "data": {
      "text/plain": [
       "<Figure size 1152x1152 with 0 Axes>"
      ]
     },
     "metadata": {},
     "output_type": "display_data"
    },
    {
     "data": {
      "text/plain": [
       "<Figure size 1152x1152 with 0 Axes>"
      ]
     },
     "metadata": {},
     "output_type": "display_data"
    },
    {
     "data": {
      "text/plain": [
       "<Figure size 1152x1152 with 0 Axes>"
      ]
     },
     "metadata": {},
     "output_type": "display_data"
    },
    {
     "data": {
      "text/plain": [
       "<Figure size 1152x1152 with 0 Axes>"
      ]
     },
     "metadata": {},
     "output_type": "display_data"
    },
    {
     "data": {
      "text/plain": [
       "<Figure size 1152x1152 with 0 Axes>"
      ]
     },
     "metadata": {},
     "output_type": "display_data"
    },
    {
     "data": {
      "text/plain": [
       "<Figure size 1152x1152 with 0 Axes>"
      ]
     },
     "metadata": {},
     "output_type": "display_data"
    },
    {
     "data": {
      "text/plain": [
       "<Figure size 1152x1152 with 0 Axes>"
      ]
     },
     "metadata": {},
     "output_type": "display_data"
    },
    {
     "data": {
      "text/plain": [
       "<Figure size 1152x1152 with 0 Axes>"
      ]
     },
     "metadata": {},
     "output_type": "display_data"
    },
    {
     "data": {
      "text/plain": [
       "<Figure size 1152x1152 with 0 Axes>"
      ]
     },
     "metadata": {},
     "output_type": "display_data"
    },
    {
     "data": {
      "text/plain": [
       "<Figure size 1152x1152 with 0 Axes>"
      ]
     },
     "metadata": {},
     "output_type": "display_data"
    },
    {
     "data": {
      "text/plain": [
       "<Figure size 1152x1152 with 0 Axes>"
      ]
     },
     "metadata": {},
     "output_type": "display_data"
    },
    {
     "data": {
      "text/plain": [
       "<Figure size 1152x1152 with 0 Axes>"
      ]
     },
     "metadata": {},
     "output_type": "display_data"
    },
    {
     "data": {
      "text/plain": [
       "<Figure size 1152x1152 with 0 Axes>"
      ]
     },
     "metadata": {},
     "output_type": "display_data"
    },
    {
     "data": {
      "text/plain": [
       "<Figure size 1152x1152 with 0 Axes>"
      ]
     },
     "metadata": {},
     "output_type": "display_data"
    },
    {
     "data": {
      "text/plain": [
       "<Figure size 1152x1152 with 0 Axes>"
      ]
     },
     "metadata": {},
     "output_type": "display_data"
    },
    {
     "data": {
      "text/plain": [
       "<Figure size 1152x1152 with 0 Axes>"
      ]
     },
     "metadata": {},
     "output_type": "display_data"
    },
    {
     "data": {
      "text/plain": [
       "<Figure size 1152x1152 with 0 Axes>"
      ]
     },
     "metadata": {},
     "output_type": "display_data"
    },
    {
     "data": {
      "text/plain": [
       "<Figure size 1152x1152 with 0 Axes>"
      ]
     },
     "metadata": {},
     "output_type": "display_data"
    },
    {
     "data": {
      "text/plain": [
       "<Figure size 1152x1152 with 0 Axes>"
      ]
     },
     "metadata": {},
     "output_type": "display_data"
    },
    {
     "data": {
      "text/plain": [
       "<Figure size 1152x1152 with 0 Axes>"
      ]
     },
     "metadata": {},
     "output_type": "display_data"
    },
    {
     "data": {
      "text/plain": [
       "<Figure size 1152x1152 with 0 Axes>"
      ]
     },
     "metadata": {},
     "output_type": "display_data"
    },
    {
     "data": {
      "text/plain": [
       "<Figure size 1152x1152 with 0 Axes>"
      ]
     },
     "metadata": {},
     "output_type": "display_data"
    },
    {
     "data": {
      "text/plain": [
       "<Figure size 1152x1152 with 0 Axes>"
      ]
     },
     "metadata": {},
     "output_type": "display_data"
    },
    {
     "data": {
      "text/plain": [
       "<Figure size 1152x1152 with 0 Axes>"
      ]
     },
     "metadata": {},
     "output_type": "display_data"
    },
    {
     "data": {
      "text/plain": [
       "<Figure size 1152x1152 with 0 Axes>"
      ]
     },
     "metadata": {},
     "output_type": "display_data"
    },
    {
     "data": {
      "text/plain": [
       "<Figure size 1152x1152 with 0 Axes>"
      ]
     },
     "metadata": {},
     "output_type": "display_data"
    },
    {
     "data": {
      "text/plain": [
       "<Figure size 1152x1152 with 0 Axes>"
      ]
     },
     "metadata": {},
     "output_type": "display_data"
    },
    {
     "data": {
      "text/plain": [
       "<Figure size 1152x1152 with 0 Axes>"
      ]
     },
     "metadata": {},
     "output_type": "display_data"
    },
    {
     "data": {
      "text/plain": [
       "<Figure size 1152x1152 with 0 Axes>"
      ]
     },
     "metadata": {},
     "output_type": "display_data"
    },
    {
     "data": {
      "text/plain": [
       "<Figure size 1152x1152 with 0 Axes>"
      ]
     },
     "metadata": {},
     "output_type": "display_data"
    },
    {
     "data": {
      "text/plain": [
       "<Figure size 1152x1152 with 0 Axes>"
      ]
     },
     "metadata": {},
     "output_type": "display_data"
    },
    {
     "data": {
      "text/plain": [
       "<Figure size 1152x1152 with 0 Axes>"
      ]
     },
     "metadata": {},
     "output_type": "display_data"
    },
    {
     "data": {
      "text/plain": [
       "<Figure size 1152x1152 with 0 Axes>"
      ]
     },
     "metadata": {},
     "output_type": "display_data"
    },
    {
     "data": {
      "text/plain": [
       "<Figure size 1152x1152 with 0 Axes>"
      ]
     },
     "metadata": {},
     "output_type": "display_data"
    },
    {
     "data": {
      "text/plain": [
       "<Figure size 1152x1152 with 0 Axes>"
      ]
     },
     "metadata": {},
     "output_type": "display_data"
    },
    {
     "data": {
      "text/plain": [
       "<Figure size 1152x1152 with 0 Axes>"
      ]
     },
     "metadata": {},
     "output_type": "display_data"
    },
    {
     "data": {
      "text/plain": [
       "<Figure size 1152x1152 with 0 Axes>"
      ]
     },
     "metadata": {},
     "output_type": "display_data"
    },
    {
     "data": {
      "text/plain": [
       "<Figure size 1152x1152 with 0 Axes>"
      ]
     },
     "metadata": {},
     "output_type": "display_data"
    },
    {
     "data": {
      "text/plain": [
       "<Figure size 1152x1152 with 0 Axes>"
      ]
     },
     "metadata": {},
     "output_type": "display_data"
    },
    {
     "data": {
      "text/plain": [
       "<Figure size 1152x1152 with 0 Axes>"
      ]
     },
     "metadata": {},
     "output_type": "display_data"
    },
    {
     "data": {
      "text/plain": [
       "<Figure size 1152x1152 with 0 Axes>"
      ]
     },
     "metadata": {},
     "output_type": "display_data"
    },
    {
     "data": {
      "text/plain": [
       "<Figure size 1152x1152 with 0 Axes>"
      ]
     },
     "metadata": {},
     "output_type": "display_data"
    },
    {
     "data": {
      "text/plain": [
       "<Figure size 1152x1152 with 0 Axes>"
      ]
     },
     "metadata": {},
     "output_type": "display_data"
    },
    {
     "data": {
      "text/plain": [
       "<Figure size 1152x1152 with 0 Axes>"
      ]
     },
     "metadata": {},
     "output_type": "display_data"
    },
    {
     "data": {
      "text/plain": [
       "<Figure size 1152x1152 with 0 Axes>"
      ]
     },
     "metadata": {},
     "output_type": "display_data"
    },
    {
     "data": {
      "text/plain": [
       "<Figure size 1152x1152 with 0 Axes>"
      ]
     },
     "metadata": {},
     "output_type": "display_data"
    },
    {
     "data": {
      "text/plain": [
       "<Figure size 1152x1152 with 0 Axes>"
      ]
     },
     "metadata": {},
     "output_type": "display_data"
    },
    {
     "data": {
      "text/plain": [
       "<Figure size 1152x1152 with 0 Axes>"
      ]
     },
     "metadata": {},
     "output_type": "display_data"
    },
    {
     "data": {
      "text/plain": [
       "<Figure size 1152x1152 with 0 Axes>"
      ]
     },
     "metadata": {},
     "output_type": "display_data"
    },
    {
     "data": {
      "text/plain": [
       "<Figure size 1152x1152 with 0 Axes>"
      ]
     },
     "metadata": {},
     "output_type": "display_data"
    },
    {
     "data": {
      "text/plain": [
       "<Figure size 1152x1152 with 0 Axes>"
      ]
     },
     "metadata": {},
     "output_type": "display_data"
    },
    {
     "data": {
      "text/plain": [
       "<Figure size 1152x1152 with 0 Axes>"
      ]
     },
     "metadata": {},
     "output_type": "display_data"
    },
    {
     "data": {
      "text/plain": [
       "<Figure size 1152x1152 with 0 Axes>"
      ]
     },
     "metadata": {},
     "output_type": "display_data"
    },
    {
     "data": {
      "text/plain": [
       "<Figure size 1152x1152 with 0 Axes>"
      ]
     },
     "metadata": {},
     "output_type": "display_data"
    },
    {
     "data": {
      "text/plain": [
       "<Figure size 1152x1152 with 0 Axes>"
      ]
     },
     "metadata": {},
     "output_type": "display_data"
    },
    {
     "data": {
      "text/plain": [
       "<Figure size 1152x1152 with 0 Axes>"
      ]
     },
     "metadata": {},
     "output_type": "display_data"
    },
    {
     "data": {
      "text/plain": [
       "<Figure size 1152x1152 with 0 Axes>"
      ]
     },
     "metadata": {},
     "output_type": "display_data"
    },
    {
     "data": {
      "text/plain": [
       "<Figure size 1152x1152 with 0 Axes>"
      ]
     },
     "metadata": {},
     "output_type": "display_data"
    },
    {
     "data": {
      "text/plain": [
       "<Figure size 1152x1152 with 0 Axes>"
      ]
     },
     "metadata": {},
     "output_type": "display_data"
    },
    {
     "data": {
      "text/plain": [
       "<Figure size 1152x1152 with 0 Axes>"
      ]
     },
     "metadata": {},
     "output_type": "display_data"
    },
    {
     "data": {
      "text/plain": [
       "<Figure size 1152x1152 with 0 Axes>"
      ]
     },
     "metadata": {},
     "output_type": "display_data"
    },
    {
     "data": {
      "text/plain": [
       "<Figure size 1152x1152 with 0 Axes>"
      ]
     },
     "metadata": {},
     "output_type": "display_data"
    },
    {
     "data": {
      "text/plain": [
       "<Figure size 1152x1152 with 0 Axes>"
      ]
     },
     "metadata": {},
     "output_type": "display_data"
    },
    {
     "data": {
      "text/plain": [
       "<Figure size 1152x1152 with 0 Axes>"
      ]
     },
     "metadata": {},
     "output_type": "display_data"
    },
    {
     "data": {
      "text/plain": [
       "<Figure size 1152x1152 with 0 Axes>"
      ]
     },
     "metadata": {},
     "output_type": "display_data"
    },
    {
     "data": {
      "text/plain": [
       "<Figure size 1152x1152 with 0 Axes>"
      ]
     },
     "metadata": {},
     "output_type": "display_data"
    },
    {
     "data": {
      "text/plain": [
       "<Figure size 1152x1152 with 0 Axes>"
      ]
     },
     "metadata": {},
     "output_type": "display_data"
    },
    {
     "data": {
      "text/plain": [
       "<Figure size 1152x1152 with 0 Axes>"
      ]
     },
     "metadata": {},
     "output_type": "display_data"
    },
    {
     "data": {
      "text/plain": [
       "<Figure size 1152x1152 with 0 Axes>"
      ]
     },
     "metadata": {},
     "output_type": "display_data"
    },
    {
     "data": {
      "text/plain": [
       "<Figure size 1152x1152 with 0 Axes>"
      ]
     },
     "metadata": {},
     "output_type": "display_data"
    },
    {
     "data": {
      "text/plain": [
       "<Figure size 1152x1152 with 0 Axes>"
      ]
     },
     "metadata": {},
     "output_type": "display_data"
    },
    {
     "data": {
      "text/plain": [
       "<Figure size 1152x1152 with 0 Axes>"
      ]
     },
     "metadata": {},
     "output_type": "display_data"
    },
    {
     "data": {
      "text/plain": [
       "<Figure size 1152x1152 with 0 Axes>"
      ]
     },
     "metadata": {},
     "output_type": "display_data"
    },
    {
     "data": {
      "text/plain": [
       "<Figure size 1152x1152 with 0 Axes>"
      ]
     },
     "metadata": {},
     "output_type": "display_data"
    },
    {
     "data": {
      "text/plain": [
       "<Figure size 1152x1152 with 0 Axes>"
      ]
     },
     "metadata": {},
     "output_type": "display_data"
    },
    {
     "data": {
      "text/plain": [
       "<Figure size 1152x1152 with 0 Axes>"
      ]
     },
     "metadata": {},
     "output_type": "display_data"
    },
    {
     "data": {
      "text/plain": [
       "<Figure size 1152x1152 with 0 Axes>"
      ]
     },
     "metadata": {},
     "output_type": "display_data"
    },
    {
     "data": {
      "text/plain": [
       "<Figure size 1152x1152 with 0 Axes>"
      ]
     },
     "metadata": {},
     "output_type": "display_data"
    },
    {
     "data": {
      "text/plain": [
       "<Figure size 1152x1152 with 0 Axes>"
      ]
     },
     "metadata": {},
     "output_type": "display_data"
    },
    {
     "data": {
      "text/plain": [
       "<Figure size 1152x1152 with 0 Axes>"
      ]
     },
     "metadata": {},
     "output_type": "display_data"
    },
    {
     "data": {
      "text/plain": [
       "<Figure size 1152x1152 with 0 Axes>"
      ]
     },
     "metadata": {},
     "output_type": "display_data"
    },
    {
     "data": {
      "text/plain": [
       "<Figure size 1152x1152 with 0 Axes>"
      ]
     },
     "metadata": {},
     "output_type": "display_data"
    },
    {
     "data": {
      "text/plain": [
       "<Figure size 1152x1152 with 0 Axes>"
      ]
     },
     "metadata": {},
     "output_type": "display_data"
    },
    {
     "data": {
      "text/plain": [
       "<Figure size 1152x1152 with 0 Axes>"
      ]
     },
     "metadata": {},
     "output_type": "display_data"
    },
    {
     "data": {
      "text/plain": [
       "<Figure size 1152x1152 with 0 Axes>"
      ]
     },
     "metadata": {},
     "output_type": "display_data"
    },
    {
     "data": {
      "text/plain": [
       "<Figure size 1152x1152 with 0 Axes>"
      ]
     },
     "metadata": {},
     "output_type": "display_data"
    },
    {
     "data": {
      "text/plain": [
       "<Figure size 1152x1152 with 0 Axes>"
      ]
     },
     "metadata": {},
     "output_type": "display_data"
    },
    {
     "data": {
      "text/plain": [
       "<Figure size 1152x1152 with 0 Axes>"
      ]
     },
     "metadata": {},
     "output_type": "display_data"
    },
    {
     "data": {
      "text/plain": [
       "<Figure size 1152x1152 with 0 Axes>"
      ]
     },
     "metadata": {},
     "output_type": "display_data"
    },
    {
     "data": {
      "text/plain": [
       "<Figure size 1152x1152 with 0 Axes>"
      ]
     },
     "metadata": {},
     "output_type": "display_data"
    },
    {
     "data": {
      "text/plain": [
       "<Figure size 1152x1152 with 0 Axes>"
      ]
     },
     "metadata": {},
     "output_type": "display_data"
    },
    {
     "data": {
      "text/plain": [
       "<Figure size 1152x1152 with 0 Axes>"
      ]
     },
     "metadata": {},
     "output_type": "display_data"
    },
    {
     "data": {
      "text/plain": [
       "<Figure size 1152x1152 with 0 Axes>"
      ]
     },
     "metadata": {},
     "output_type": "display_data"
    },
    {
     "data": {
      "text/plain": [
       "<Figure size 1152x1152 with 0 Axes>"
      ]
     },
     "metadata": {},
     "output_type": "display_data"
    },
    {
     "data": {
      "text/plain": [
       "<Figure size 1152x1152 with 0 Axes>"
      ]
     },
     "metadata": {},
     "output_type": "display_data"
    },
    {
     "data": {
      "text/plain": [
       "<Figure size 1152x1152 with 0 Axes>"
      ]
     },
     "metadata": {},
     "output_type": "display_data"
    },
    {
     "data": {
      "text/plain": [
       "<Figure size 1152x1152 with 0 Axes>"
      ]
     },
     "metadata": {},
     "output_type": "display_data"
    },
    {
     "data": {
      "text/plain": [
       "<Figure size 1152x1152 with 0 Axes>"
      ]
     },
     "metadata": {},
     "output_type": "display_data"
    },
    {
     "data": {
      "text/plain": [
       "<Figure size 1152x1152 with 0 Axes>"
      ]
     },
     "metadata": {},
     "output_type": "display_data"
    },
    {
     "data": {
      "text/plain": [
       "<Figure size 1152x1152 with 0 Axes>"
      ]
     },
     "metadata": {},
     "output_type": "display_data"
    },
    {
     "data": {
      "text/plain": [
       "<Figure size 1152x1152 with 0 Axes>"
      ]
     },
     "metadata": {},
     "output_type": "display_data"
    },
    {
     "data": {
      "text/plain": [
       "<Figure size 1152x1152 with 0 Axes>"
      ]
     },
     "metadata": {},
     "output_type": "display_data"
    },
    {
     "data": {
      "text/plain": [
       "<Figure size 1152x1152 with 0 Axes>"
      ]
     },
     "metadata": {},
     "output_type": "display_data"
    },
    {
     "data": {
      "text/plain": [
       "<Figure size 1152x1152 with 0 Axes>"
      ]
     },
     "metadata": {},
     "output_type": "display_data"
    },
    {
     "data": {
      "text/plain": [
       "<Figure size 1152x1152 with 0 Axes>"
      ]
     },
     "metadata": {},
     "output_type": "display_data"
    },
    {
     "data": {
      "text/plain": [
       "<Figure size 1152x1152 with 0 Axes>"
      ]
     },
     "metadata": {},
     "output_type": "display_data"
    },
    {
     "data": {
      "text/plain": [
       "<Figure size 1152x1152 with 0 Axes>"
      ]
     },
     "metadata": {},
     "output_type": "display_data"
    },
    {
     "data": {
      "text/plain": [
       "<Figure size 1152x1152 with 0 Axes>"
      ]
     },
     "metadata": {},
     "output_type": "display_data"
    },
    {
     "data": {
      "text/plain": [
       "<Figure size 1152x1152 with 0 Axes>"
      ]
     },
     "metadata": {},
     "output_type": "display_data"
    },
    {
     "data": {
      "text/plain": [
       "<Figure size 1152x1152 with 0 Axes>"
      ]
     },
     "metadata": {},
     "output_type": "display_data"
    },
    {
     "data": {
      "text/plain": [
       "<Figure size 1152x1152 with 0 Axes>"
      ]
     },
     "metadata": {},
     "output_type": "display_data"
    },
    {
     "data": {
      "text/plain": [
       "<Figure size 1152x1152 with 0 Axes>"
      ]
     },
     "metadata": {},
     "output_type": "display_data"
    },
    {
     "data": {
      "text/plain": [
       "<Figure size 1152x1152 with 0 Axes>"
      ]
     },
     "metadata": {},
     "output_type": "display_data"
    },
    {
     "data": {
      "text/plain": [
       "<Figure size 1152x1152 with 0 Axes>"
      ]
     },
     "metadata": {},
     "output_type": "display_data"
    },
    {
     "data": {
      "text/plain": [
       "<Figure size 1152x1152 with 0 Axes>"
      ]
     },
     "metadata": {},
     "output_type": "display_data"
    },
    {
     "data": {
      "text/plain": [
       "<Figure size 1152x1152 with 0 Axes>"
      ]
     },
     "metadata": {},
     "output_type": "display_data"
    },
    {
     "data": {
      "text/plain": [
       "<Figure size 1152x1152 with 0 Axes>"
      ]
     },
     "metadata": {},
     "output_type": "display_data"
    },
    {
     "data": {
      "text/plain": [
       "<Figure size 1152x1152 with 0 Axes>"
      ]
     },
     "metadata": {},
     "output_type": "display_data"
    },
    {
     "data": {
      "text/plain": [
       "<Figure size 1152x1152 with 0 Axes>"
      ]
     },
     "metadata": {},
     "output_type": "display_data"
    },
    {
     "data": {
      "text/plain": [
       "<Figure size 1152x1152 with 0 Axes>"
      ]
     },
     "metadata": {},
     "output_type": "display_data"
    },
    {
     "data": {
      "text/plain": [
       "<Figure size 1152x1152 with 0 Axes>"
      ]
     },
     "metadata": {},
     "output_type": "display_data"
    },
    {
     "data": {
      "text/plain": [
       "<Figure size 1152x1152 with 0 Axes>"
      ]
     },
     "metadata": {},
     "output_type": "display_data"
    },
    {
     "data": {
      "text/plain": [
       "<Figure size 1152x1152 with 0 Axes>"
      ]
     },
     "metadata": {},
     "output_type": "display_data"
    },
    {
     "data": {
      "text/plain": [
       "<Figure size 1152x1152 with 0 Axes>"
      ]
     },
     "metadata": {},
     "output_type": "display_data"
    },
    {
     "data": {
      "text/plain": [
       "<Figure size 1152x1152 with 0 Axes>"
      ]
     },
     "metadata": {},
     "output_type": "display_data"
    },
    {
     "data": {
      "text/plain": [
       "<Figure size 1152x1152 with 0 Axes>"
      ]
     },
     "metadata": {},
     "output_type": "display_data"
    },
    {
     "data": {
      "text/plain": [
       "<Figure size 1152x1152 with 0 Axes>"
      ]
     },
     "metadata": {},
     "output_type": "display_data"
    },
    {
     "data": {
      "text/plain": [
       "<Figure size 1152x1152 with 0 Axes>"
      ]
     },
     "metadata": {},
     "output_type": "display_data"
    },
    {
     "data": {
      "text/plain": [
       "<Figure size 1152x1152 with 0 Axes>"
      ]
     },
     "metadata": {},
     "output_type": "display_data"
    },
    {
     "data": {
      "text/plain": [
       "<Figure size 1152x1152 with 0 Axes>"
      ]
     },
     "metadata": {},
     "output_type": "display_data"
    },
    {
     "data": {
      "text/plain": [
       "<Figure size 1152x1152 with 0 Axes>"
      ]
     },
     "metadata": {},
     "output_type": "display_data"
    },
    {
     "data": {
      "text/plain": [
       "<Figure size 1152x1152 with 0 Axes>"
      ]
     },
     "metadata": {},
     "output_type": "display_data"
    },
    {
     "data": {
      "text/plain": [
       "<Figure size 1152x1152 with 0 Axes>"
      ]
     },
     "metadata": {},
     "output_type": "display_data"
    },
    {
     "data": {
      "text/plain": [
       "<Figure size 1152x1152 with 0 Axes>"
      ]
     },
     "metadata": {},
     "output_type": "display_data"
    },
    {
     "data": {
      "text/plain": [
       "<Figure size 1152x1152 with 0 Axes>"
      ]
     },
     "metadata": {},
     "output_type": "display_data"
    },
    {
     "data": {
      "text/plain": [
       "<Figure size 1152x1152 with 0 Axes>"
      ]
     },
     "metadata": {},
     "output_type": "display_data"
    },
    {
     "data": {
      "text/plain": [
       "<Figure size 1152x1152 with 0 Axes>"
      ]
     },
     "metadata": {},
     "output_type": "display_data"
    },
    {
     "data": {
      "text/plain": [
       "<Figure size 1152x1152 with 0 Axes>"
      ]
     },
     "metadata": {},
     "output_type": "display_data"
    },
    {
     "data": {
      "text/plain": [
       "<Figure size 1152x1152 with 0 Axes>"
      ]
     },
     "metadata": {},
     "output_type": "display_data"
    },
    {
     "data": {
      "text/plain": [
       "<Figure size 1152x1152 with 0 Axes>"
      ]
     },
     "metadata": {},
     "output_type": "display_data"
    },
    {
     "data": {
      "text/plain": [
       "<Figure size 1152x1152 with 0 Axes>"
      ]
     },
     "metadata": {},
     "output_type": "display_data"
    },
    {
     "data": {
      "text/plain": [
       "<Figure size 1152x1152 with 0 Axes>"
      ]
     },
     "metadata": {},
     "output_type": "display_data"
    },
    {
     "data": {
      "text/plain": [
       "<Figure size 1152x1152 with 0 Axes>"
      ]
     },
     "metadata": {},
     "output_type": "display_data"
    },
    {
     "data": {
      "text/plain": [
       "<Figure size 1152x1152 with 0 Axes>"
      ]
     },
     "metadata": {},
     "output_type": "display_data"
    },
    {
     "data": {
      "text/plain": [
       "<Figure size 1152x1152 with 0 Axes>"
      ]
     },
     "metadata": {},
     "output_type": "display_data"
    },
    {
     "data": {
      "text/plain": [
       "<Figure size 1152x1152 with 0 Axes>"
      ]
     },
     "metadata": {},
     "output_type": "display_data"
    },
    {
     "data": {
      "text/plain": [
       "<Figure size 1152x1152 with 0 Axes>"
      ]
     },
     "metadata": {},
     "output_type": "display_data"
    },
    {
     "data": {
      "text/plain": [
       "<Figure size 1152x1152 with 0 Axes>"
      ]
     },
     "metadata": {},
     "output_type": "display_data"
    },
    {
     "data": {
      "text/plain": [
       "<Figure size 1152x1152 with 0 Axes>"
      ]
     },
     "metadata": {},
     "output_type": "display_data"
    },
    {
     "data": {
      "text/plain": [
       "<Figure size 1152x1152 with 0 Axes>"
      ]
     },
     "metadata": {},
     "output_type": "display_data"
    },
    {
     "data": {
      "text/plain": [
       "<Figure size 1152x1152 with 0 Axes>"
      ]
     },
     "metadata": {},
     "output_type": "display_data"
    },
    {
     "data": {
      "text/plain": [
       "<Figure size 1152x1152 with 0 Axes>"
      ]
     },
     "metadata": {},
     "output_type": "display_data"
    },
    {
     "data": {
      "text/plain": [
       "<Figure size 1152x1152 with 0 Axes>"
      ]
     },
     "metadata": {},
     "output_type": "display_data"
    },
    {
     "data": {
      "text/plain": [
       "<Figure size 1152x1152 with 0 Axes>"
      ]
     },
     "metadata": {},
     "output_type": "display_data"
    },
    {
     "data": {
      "text/plain": [
       "<Figure size 1152x1152 with 0 Axes>"
      ]
     },
     "metadata": {},
     "output_type": "display_data"
    },
    {
     "data": {
      "text/plain": [
       "<Figure size 1152x1152 with 0 Axes>"
      ]
     },
     "metadata": {},
     "output_type": "display_data"
    },
    {
     "data": {
      "text/plain": [
       "<Figure size 1152x1152 with 0 Axes>"
      ]
     },
     "metadata": {},
     "output_type": "display_data"
    },
    {
     "data": {
      "text/plain": [
       "<Figure size 1152x1152 with 0 Axes>"
      ]
     },
     "metadata": {},
     "output_type": "display_data"
    },
    {
     "data": {
      "text/plain": [
       "<Figure size 1152x1152 with 0 Axes>"
      ]
     },
     "metadata": {},
     "output_type": "display_data"
    },
    {
     "data": {
      "text/plain": [
       "<Figure size 1152x1152 with 0 Axes>"
      ]
     },
     "metadata": {},
     "output_type": "display_data"
    },
    {
     "data": {
      "text/plain": [
       "<Figure size 1152x1152 with 0 Axes>"
      ]
     },
     "metadata": {},
     "output_type": "display_data"
    },
    {
     "data": {
      "text/plain": [
       "<Figure size 1152x1152 with 0 Axes>"
      ]
     },
     "metadata": {},
     "output_type": "display_data"
    },
    {
     "data": {
      "text/plain": [
       "<Figure size 1152x1152 with 0 Axes>"
      ]
     },
     "metadata": {},
     "output_type": "display_data"
    },
    {
     "data": {
      "text/plain": [
       "<Figure size 1152x1152 with 0 Axes>"
      ]
     },
     "metadata": {},
     "output_type": "display_data"
    },
    {
     "data": {
      "text/plain": [
       "<Figure size 1152x1152 with 0 Axes>"
      ]
     },
     "metadata": {},
     "output_type": "display_data"
    },
    {
     "data": {
      "text/plain": [
       "<Figure size 1152x1152 with 0 Axes>"
      ]
     },
     "metadata": {},
     "output_type": "display_data"
    },
    {
     "data": {
      "text/plain": [
       "<Figure size 1152x1152 with 0 Axes>"
      ]
     },
     "metadata": {},
     "output_type": "display_data"
    },
    {
     "data": {
      "text/plain": [
       "<Figure size 1152x1152 with 0 Axes>"
      ]
     },
     "metadata": {},
     "output_type": "display_data"
    },
    {
     "data": {
      "text/plain": [
       "<Figure size 1152x1152 with 0 Axes>"
      ]
     },
     "metadata": {},
     "output_type": "display_data"
    },
    {
     "data": {
      "text/plain": [
       "<Figure size 1152x1152 with 0 Axes>"
      ]
     },
     "metadata": {},
     "output_type": "display_data"
    },
    {
     "data": {
      "text/plain": [
       "<Figure size 1152x1152 with 0 Axes>"
      ]
     },
     "metadata": {},
     "output_type": "display_data"
    },
    {
     "data": {
      "text/plain": [
       "<Figure size 1152x1152 with 0 Axes>"
      ]
     },
     "metadata": {},
     "output_type": "display_data"
    },
    {
     "data": {
      "text/plain": [
       "<Figure size 1152x1152 with 0 Axes>"
      ]
     },
     "metadata": {},
     "output_type": "display_data"
    },
    {
     "data": {
      "text/plain": [
       "<Figure size 1152x1152 with 0 Axes>"
      ]
     },
     "metadata": {},
     "output_type": "display_data"
    },
    {
     "data": {
      "text/plain": [
       "<Figure size 1152x1152 with 0 Axes>"
      ]
     },
     "metadata": {},
     "output_type": "display_data"
    },
    {
     "data": {
      "text/plain": [
       "<Figure size 1152x1152 with 0 Axes>"
      ]
     },
     "metadata": {},
     "output_type": "display_data"
    },
    {
     "data": {
      "text/plain": [
       "<Figure size 1152x1152 with 0 Axes>"
      ]
     },
     "metadata": {},
     "output_type": "display_data"
    },
    {
     "data": {
      "text/plain": [
       "<Figure size 1152x1152 with 0 Axes>"
      ]
     },
     "metadata": {},
     "output_type": "display_data"
    },
    {
     "data": {
      "text/plain": [
       "<Figure size 1152x1152 with 0 Axes>"
      ]
     },
     "metadata": {},
     "output_type": "display_data"
    },
    {
     "data": {
      "text/plain": [
       "<Figure size 1152x1152 with 0 Axes>"
      ]
     },
     "metadata": {},
     "output_type": "display_data"
    },
    {
     "data": {
      "text/plain": [
       "<Figure size 1152x1152 with 0 Axes>"
      ]
     },
     "metadata": {},
     "output_type": "display_data"
    },
    {
     "data": {
      "text/plain": [
       "<Figure size 1152x1152 with 0 Axes>"
      ]
     },
     "metadata": {},
     "output_type": "display_data"
    },
    {
     "data": {
      "text/plain": [
       "<Figure size 1152x1152 with 0 Axes>"
      ]
     },
     "metadata": {},
     "output_type": "display_data"
    },
    {
     "data": {
      "text/plain": [
       "<Figure size 1152x1152 with 0 Axes>"
      ]
     },
     "metadata": {},
     "output_type": "display_data"
    },
    {
     "data": {
      "text/plain": [
       "<Figure size 1152x1152 with 0 Axes>"
      ]
     },
     "metadata": {},
     "output_type": "display_data"
    },
    {
     "data": {
      "text/plain": [
       "<Figure size 1152x1152 with 0 Axes>"
      ]
     },
     "metadata": {},
     "output_type": "display_data"
    }
   ],
   "source": [
    "import skimage\n",
    "# Load a random image from the images folder\n",
    "IMAGE_DIR = os.path.join(BOXES_DIR, \"test/datasets/box_dataset\")\n",
    "\n",
    "file_names = list()\n",
    "for (dirpath, dirnames, filenames) in os.walk(IMAGE_DIR):\n",
    "    file_names += [os.path.join(dirpath, file) for file in filenames]\n",
    "\n",
    "\n",
    "#file_names = next(os.walk(IMAGE_DIR))[2]\n",
    "for count, file_name in enumerate(file_names):\n",
    "    if count < 200: continue\n",
    "    image = skimage.io.imread(os.path.join(IMAGE_DIR, file_name))\n",
    "    #image = skimage.io.imread(os.path.join(IMAGE_DIR, random.choice(file_names)))\n",
    "    # Run object detection\n",
    "    results = model.detect([image], verbose=1)\n",
    "    # Display results\n",
    "    ax = get_ax(1)\n",
    "    r = results[0]\n",
    "    visualize.display_instances(image, r['rois'], r['masks'], r['class_ids'], \n",
    "                                dataset.class_names, r['scores'], ax=ax,\n",
    "                                title=\"Predictions\")\n",
    "    name = \"detections/\" + str(count).zfill(4) + \".jpg\"\n",
    "    plt.savefig(name ,bbox_inches='tight', pad_inches=-0.5,orientation= 'landscape')\n",
    "    plt.clf()\n",
    "    #if count == 200: break"
   ]
  },
  {
   "cell_type": "code",
   "execution_count": null,
   "metadata": {},
   "outputs": [],
   "source": [
    "#ax = get_ax(1)\n",
    "image_id = random.choice(dataset.image_ids)\n",
    "image, image_meta, gt_class_id, gt_bbox, gt_mask =\\\n",
    "        modellib.load_image_gt(dataset, config, image_id, use_mini_mask=False)\n",
    "info = dataset.image_info[image_id]\n",
    "#print(\"image ID: {}.{} ({}) {}\".format(info[\"source\"], info[\"id\"], image_id, \n",
    "#                                       dataset.image_reference(image_id)))\n",
    "\n",
    "# Run object detection\n",
    "results = model.detect([image], verbose=0)\n",
    "\n",
    "# Display results\n",
    "r = results[0]\n",
    "boxes = r['rois']\n",
    "masks = r['masks']\n",
    "class_ids = r['class_ids']\n",
    "class_names = dataset.class_names\n",
    "scores = r['scores']\n",
    "n_instances = boxes.shape[0]\n",
    "colors = visualize.color_map()\n",
    "#print(colors)\n",
    "#colors = visualize.random_colors(n_instances)\n",
    "#print(colors)\n",
    "for k in range(n_instances):\n",
    "    color = colors[class_ids[k]].astype(np.uint8)\n",
    "    box = boxes[k]\n",
    "    cls = class_names[class_ids[k]-1]  # Skip the Background\n",
    "    score = scores[k]\n",
    "    #print((box[1], box[0]), (box[3], box[2]), color, 1)\n",
    "    #cv2.rectangle(image, (box[1], box[0]), (box[3], box[2]), color, 1)\n",
    "    font = cv2.FONT_HERSHEY_SIMPLEX\n",
    "    cv2.putText(image, '{}: {:.3f}'.format(cls, score), (box[1], box[0]),\n",
    "                font, 0.4, (0, 255, 255), 1, cv2.LINE_AA)\n",
    "\n",
    "    mask = masks[:, :, k]\n",
    "    color_mask = np.zeros((mask.shape[0], mask.shape[1], 3), dtype=np.int)\n",
    "    color_mask[mask] = color\n",
    "    image = cv2.addWeighted(color_mask, 0.5, image.astype(np.int), 1, 0)\n",
    "\n",
    "plt.imshow(image)\n",
    "plt.xticks([]), plt.yticks([])  # to hide tick values on X and Y axis\n",
    "plt.show()\n",
    "cv2.imwrite(\"test.jpg\", image)"
   ]
  },
  {
   "cell_type": "code",
   "execution_count": null,
   "metadata": {},
   "outputs": [],
   "source": [
    "#ax = get_ax(1)\n",
    "image_id = random.choice(dataset.image_ids)\n",
    "image, image_meta, gt_class_id, gt_bbox, gt_mask =\\\n",
    "        modellib.load_image_gt(dataset, config, image_id, use_mini_mask=False)\n",
    "info = dataset.image_info[image_id]\n",
    "print(\"image ID: {}.{} ({}) {}\".format(info[\"source\"], info[\"id\"], image_id, \n",
    "                                       dataset.image_reference(image_id)))\n",
    "\n",
    "# Run object detection\n",
    "results = model.detect([image], verbose=0)\n",
    "\n",
    "# Display results\n",
    "r = results[0]\n",
    "boxes = r['rois']\n",
    "masks = r['masks']\n",
    "class_ids = r['class_ids']\n",
    "class_names = dataset.class_names\n",
    "scores = r['scores']\n",
    "n_instances = boxes.shape[0]\n",
    "colors = visualize.color_map()\n",
    "# Number of instances\n",
    "N = boxes.shape[0]\n",
    "print(r['rois'])\n",
    "if not N:\n",
    "    print(\"\\n*** No instances to display *** \\n\")\n",
    "else:\n",
    "    assert boxes.shape[0] == masks.shape[-1] == class_ids.shape[0]\n",
    "\n",
    "# If no axis is passed, create one and automatically call show()\n",
    "#auto_show = False\n",
    "#if not ax:\n",
    "#    _, ax = plt.subplots(1, figsize=figsize)\n",
    "#    auto_show = True\n",
    "\n",
    "# Generate random colors\n",
    "colors = visualize.random_colors(N)\n",
    "\n",
    "# Show area outside image boundaries.\n",
    "height, width = image.shape[:2]\n",
    "#ax.set_ylim(height + 10, -10)\n",
    "#ax.set_xlim(-10, width + 10)\n",
    "#ax.axis('off')\n",
    "#ax.set_title(title)\n",
    "\n",
    "masked_image = image.astype(np.uint32).copy()\n",
    "for i in range(N):\n",
    "    color = colors[i]\n",
    "\n",
    "    # Bounding box\n",
    "    if not np.any(boxes[i]):\n",
    "        # Skip this instance. Has no bbox. Likely lost in image cropping.\n",
    "        continue\n",
    "    y1, x1, y2, x2 = boxes[i]\n",
    "    \n",
    "    p = patches.Rectangle((x1, y1), x2 - x1, y2 - y1, linewidth=2,\n",
    "                        alpha=0.7, linestyle=\"dashed\",\n",
    "                        edgecolor=color, facecolor='none')\n",
    "    #ax.add_patch(p)\n",
    "\n",
    "    # Label\n",
    "    class_id = class_ids[i]\n",
    "    score = scores[i] if scores is not None else None\n",
    "    label = class_names[class_id]\n",
    "    caption = \"{} {:.3f}\".format(label, score) if score else label\n",
    "\n",
    "    # Mask\n",
    "    mask = masks[:, :, i]\n",
    "    masked_image = visualize.apply_mask(masked_image, mask, color)\n",
    "\n",
    "    # Mask Polygon\n",
    "    # Pad to ensure proper polygons for masks that touch image edges.\n",
    "    padded_mask = np.zeros(\n",
    "        (mask.shape[0] + 2, mask.shape[1] + 2), dtype=np.uint8)\n",
    "    padded_mask[1:-1, 1:-1] = mask\n",
    "    contours = visualize.find_contours(padded_mask, 0.5)\n",
    "    for verts in contours:\n",
    "        # Subtract the padding and flip (y, x) to (x, y)\n",
    "        verts = np.fliplr(verts) - 1\n",
    "        p = matplotlib.patches.Polygon(verts, facecolor=\"none\", edgecolor=color)\n",
    "        #ax.add_patch(p)\n",
    "#ax.imshow(masked_image.astype(np.uint8))\n",
    "showarray(masked_image.astype(np.uint8))\n"
   ]
  },
  {
   "cell_type": "code",
   "execution_count": null,
   "metadata": {},
   "outputs": [],
   "source": [
    "image_id = random.choice(dataset.image_ids)\n",
    "image, image_meta, gt_class_id, gt_bbox, gt_mask =\\\n",
    "    modellib.load_image_gt(dataset, config, image_id, use_mini_mask=False)\n",
    "info = dataset.image_info[image_id]\n",
    "print(\"image ID: {}.{} ({}) {}\".format(info[\"source\"], info[\"id\"], image_id, \n",
    "                                       dataset.image_reference(image_id)))\n",
    "\n",
    "# Run object detection\n",
    "results = model.detect([image], verbose=1)\n",
    "\n",
    "# Display results\n",
    "ax = get_ax(1)\n",
    "r = results[0]\n",
    "visualize.display_instances(image, r['rois'], r['masks'], r['class_ids'], \n",
    "                            dataset.class_names, r['scores'], ax=ax,\n",
    "                            title=\"Predictions\")\n",
    "log(\"gt_class_id\", gt_class_id)\n",
    "log(\"gt_bbox\", gt_bbox)\n",
    "log(\"gt_mask\", gt_mask)"
   ]
  },
  {
   "cell_type": "markdown",
   "metadata": {},
   "source": [
    "## Evaluation"
   ]
  },
  {
   "cell_type": "code",
   "execution_count": null,
   "metadata": {},
   "outputs": [],
   "source": [
    "image_ids = dataset_test.image_ids\n",
    "APmeans = []\n",
    "APs = []\n",
    "print(\"TEST\")\n",
    "for image_id in image_ids:\n",
    "    # Load image and ground truth data\n",
    "    image, image_meta, gt_class_id, gt_bbox, gt_mask =\\\n",
    "        modellib.load_image_gt(dataset_test, config,\n",
    "                               image_id, use_mini_mask=False)\n",
    "    molded_images = np.expand_dims(modellib.mold_image(image, config), 0)\n",
    "    # Run object detection\n",
    "    results = model.detect([image], verbose=0)\n",
    "    r = results[0]\n",
    "    # Compute AP\n",
    "    if(r['masks'].shape[2] == 0):\n",
    "        AP = 0\n",
    "    else:\n",
    "        AP, precisions, recalls, overlaps =\\\n",
    "        utils.compute_ap(gt_bbox, gt_class_id, gt_mask, \n",
    "                         r[\"rois\"], r[\"class_ids\"], r[\"scores\"], r['masks'])\n",
    "    APs.append(AP)\n",
    "print(\"mAP: \", np.mean(APs))"
   ]
  },
  {
   "cell_type": "code",
   "execution_count": null,
   "metadata": {},
   "outputs": [],
   "source": [
    "image_ids = dataset.image_ids\n",
    "APmeans = []\n",
    "\n",
    "print(\"VAL\")\n",
    "for i in range(1, 101):\n",
    "    model.load_weights(os.path.join(MODEL_DIR, 'box20200917T0748_train1000_synth_box_with_content_imagenet_heads-res4-all/mask_rcnn_box_' + str(i).zfill(4) + '.h5'), by_name=True)\n",
    "    APs = []\n",
    "    for image_id in image_ids[:100]:\n",
    "        # Load image and ground truth data\n",
    "        image, image_meta, gt_class_id, gt_bbox, gt_mask =\\\n",
    "            modellib.load_image_gt(dataset, config,\n",
    "                                   image_id, use_mini_mask=False)\n",
    "        molded_images = np.expand_dims(modellib.mold_image(image, config), 0)\n",
    "        # Run object detection\n",
    "        results = model.detect([image], verbose=0)\n",
    "        r = results[0]\n",
    "        # Compute AP\n",
    "        if(r['masks'].shape[2] == 0):\n",
    "            AP = 0\n",
    "        else:\n",
    "            AP, precisions, recalls, overlaps =\\\n",
    "            utils.compute_ap(gt_bbox, gt_class_id, gt_mask, r[\"rois\"], r[\"class_ids\"], r[\"scores\"], r['masks'])\n",
    "        APs.append(AP)\n",
    "    APmeans.append(np.mean(APs))\n",
    "    print(\"Epoch \", i, \" - mAP: \", np.mean(APs))\n",
    "np.save('AP_train_imagenet_heads-res4-all', APmeans)"
   ]
  },
  {
   "cell_type": "code",
   "execution_count": null,
   "metadata": {},
   "outputs": [],
   "source": [
    "image_ids = dataset.image_ids\n",
    "APmeans = []\n",
    "\n",
    "print(\"VAL\")\n",
    "for i in range(1, 41):\n",
    "    model.load_weights(os.path.join(MODEL_DIR, 'box20200918T1508_train5000_finetuned_on_real_data/mask_rcnn_box_' + str(i).zfill(4) + '.h5'), by_name=True)\n",
    "    APs = []\n",
    "    for image_id in image_ids[:100]:\n",
    "        # Load image and ground truth data\n",
    "        image, image_meta, gt_class_id, gt_bbox, gt_mask =\\\n",
    "            modellib.load_image_gt(dataset, config,\n",
    "                                   image_id, use_mini_mask=False)\n",
    "        molded_images = np.expand_dims(modellib.mold_image(image, config), 0)\n",
    "        # Run object detection\n",
    "        results = model.detect([image], verbose=0)\n",
    "        r = results[0]\n",
    "        # Compute AP\n",
    "        if(r['masks'].shape[2] == 0):\n",
    "            AP = 0\n",
    "        else:\n",
    "            AP, precisions, recalls, overlaps =\\\n",
    "            utils.compute_ap(gt_bbox, gt_class_id, gt_mask, r[\"rois\"], r[\"class_ids\"], r[\"scores\"], r['masks'])\n",
    "        APs.append(AP)\n",
    "    APmeans.append(np.mean(APs))\n",
    "    print(\"Epoch \", i, \" - mAP: \", np.mean(APs))\n",
    "np.save('AP_train_finetuned_on_real_data', APmeans)"
   ]
  },
  {
   "cell_type": "code",
   "execution_count": null,
   "metadata": {},
   "outputs": [],
   "source": [
    "image_ids = dataset_test.image_ids\n",
    "APmeans = []\n",
    "\n",
    "print(\"TEST\")\n",
    "for i in range(1, 41):\n",
    "    model.load_weights(os.path.join(MODEL_DIR, 'box20200918T1508_train5000_finetuned_on_real_data/mask_rcnn_box_' + str(i).zfill(4) + '.h5'), by_name=True)\n",
    "    APs = []\n",
    "    for image_id in image_ids:\n",
    "        # Load image and ground truth data\n",
    "        image, image_meta, gt_class_id, gt_bbox, gt_mask =\\\n",
    "            modellib.load_image_gt(dataset_test, config,\n",
    "                                   image_id, use_mini_mask=False)\n",
    "        molded_images = np.expand_dims(modellib.mold_image(image, config), 0)\n",
    "        # Run object detection\n",
    "        results = model.detect([image], verbose=0)\n",
    "        r = results[0]\n",
    "        # Compute AP\n",
    "        if(r['masks'].shape[2] == 0):\n",
    "            AP = 0\n",
    "        else:\n",
    "            AP, precisions, recalls, overlaps =\\\n",
    "            utils.compute_ap(gt_bbox, gt_class_id, gt_mask, r[\"rois\"], r[\"class_ids\"], r[\"scores\"], r['masks'])\n",
    "        APs.append(AP)\n",
    "    APmeans.append(np.mean(APs))\n",
    "    print(\"Epoch \", i, \" - mAP: \", np.mean(APs))\n",
    "np.save('AP_test_finetuned_on_real_data', APmeans)"
   ]
  },
  {
   "cell_type": "code",
   "execution_count": null,
   "metadata": {},
   "outputs": [],
   "source": [
    "def movingaverage (values, window):\n",
    "    return np.convolve(values, np.repeat(1.0, window)/window, 'valid')\n",
    "\n",
    "epochs = range(1, 141)\n",
    "#APtrain = np.load('APs/AP_train_hinterstoisser.npy')\n",
    "#APval = np.load('APs/AP_val_hinterstoisser.npy')\n",
    "#APtest = np.load('APs/AP_test_hinterstoisser.npy')\n",
    "APtrain = np.concatenate([np.load('AP_train_imagenet_heads-res4-all.npy'), np.load('AP_train_finetuned_on_real_data.npy')])\n",
    "APval = np.concatenate([np.load('AP_val_imagenet_heads-res4-all.npy'), np.load('AP_val_finetuned_on_real_data.npy')])\n",
    "APtest = np.concatenate([np.load('AP_test_imagenet_heads-res4-all.npy'), np.load('AP_test_finetuned_on_real_data.npy')])\n",
    "\n",
    "APtrainMA = movingaverage(APtrain, 3)\n",
    "APtestMA = movingaverage(APtest, 3)\n",
    "APvalMA = movingaverage(APval, 3)\n",
    "#APtrainMA = movingaverage(APtrain, 3)\n",
    "#APtestMA2 = movingaverage(APtest2, 3)\n",
    "#APvalMA2 = movingaverage(APval2, 3)\n",
    "#APtrainMA2 = movingaverage(APtrain2, 3)\n",
    "\n",
    "plt.title('model accuracy')\n",
    "plt.ylabel('accuracy')\n",
    "plt.xlabel('epoch')\n",
    "plt.plot(epochs[len(epochs)-len(APtrainMA):], APtrainMA, 'b-')\n",
    "plt.plot(epochs[len(epochs)-len(APvalMA):], APvalMA, 'r-')\n",
    "plt.plot(epochs[len(epochs)-len(APtestMA):], APtestMA, 'g-')\n",
    "\n",
    "#plt.plot(epochs[len(epochs)-len(APtrainMA2):], APtrainMA2, 'b--')\n",
    "#plt.plot(epochs[len(epochs)-len(APvalMA2):], APvalMA2, 'r--')\n",
    "#plt.plot(epochs[len(epochs)-len(APtestMA2):], APtestMA2, 'g--')\n",
    "#plt.plot(epochs, APtrain, 'bo', markersize=2)\n",
    "#plt.plot(epochs, APval, 'ro', markersize=2)\n",
    "#plt.plot(epochs, APtest, 'go', markersize=2)\n",
    "#plt.plot(epochs, APtestcup, 'co', markersize=2)\n",
    "#plt.plot(epochs, APtestcup, 'mo', markersize=2)\n",
    "plt.legend(('train','val','test'), loc='right', bbox_to_anchor=(1, 0.65))\n",
    "plt.savefig(\"graph.svg\")\n",
    "plt.show()"
   ]
  },
  {
   "cell_type": "markdown",
   "metadata": {},
   "source": [
    "## Step by Step Prediction"
   ]
  },
  {
   "cell_type": "markdown",
   "metadata": {},
   "source": [
    "## Stage 1: Region Proposal Network\n",
    "\n",
    "The Region Proposal Network (RPN) runs a lightweight binary classifier on a lot of boxes (anchors) over the image and returns object/no-object scores. Anchors with high *objectness* score (positive anchors) are passed to the stage two to be classified.\n",
    "\n",
    "Often, even positive anchors don't cover objects fully. So the RPN also regresses a refinement (a delta in location and size) to be applied to the anchors to shift it and resize it a bit to the correct boundaries of the object."
   ]
  },
  {
   "cell_type": "markdown",
   "metadata": {},
   "source": [
    "### 1.a RPN Targets\n",
    "\n",
    "The RPN targets are the training values for the RPN. To generate the targets, we start with a grid of anchors that cover the full image at different scales, and then we compute the IoU of the anchors with ground truth object. Positive anchors are those that have an IoU >= 0.7 with any ground truth object, and negative anchors are those that don't cover any object by more than 0.3 IoU. Anchors in between (i.e. cover an object by IoU >= 0.3 but < 0.7) are considered neutral and excluded from training.\n",
    "\n",
    "To train the RPN regressor, we also compute the shift and resizing needed to make the anchor cover the ground truth object completely."
   ]
  },
  {
   "cell_type": "code",
   "execution_count": null,
   "metadata": {},
   "outputs": [],
   "source": [
    "# Generate RPN trainig targets\n",
    "# target_rpn_match is 1 for positive anchors, -1 for negative anchors\n",
    "# and 0 for neutral anchors.\n",
    "target_rpn_match, target_rpn_bbox = modellib.build_rpn_targets(\n",
    "    image.shape, model.anchors, gt_class_id, gt_bbox, model.config)\n",
    "log(\"target_rpn_match\", target_rpn_match)\n",
    "log(\"target_rpn_bbox\", target_rpn_bbox)\n",
    "\n",
    "positive_anchor_ix = np.where(target_rpn_match[:] == 1)[0]\n",
    "negative_anchor_ix = np.where(target_rpn_match[:] == -1)[0]\n",
    "neutral_anchor_ix = np.where(target_rpn_match[:] == 0)[0]\n",
    "positive_anchors = model.anchors[positive_anchor_ix]\n",
    "negative_anchors = model.anchors[negative_anchor_ix]\n",
    "neutral_anchors = model.anchors[neutral_anchor_ix]\n",
    "log(\"positive_anchors\", positive_anchors)\n",
    "log(\"negative_anchors\", negative_anchors)\n",
    "log(\"neutral anchors\", neutral_anchors)\n",
    "\n",
    "# Apply refinement deltas to positive anchors\n",
    "refined_anchors = utils.apply_box_deltas(\n",
    "    positive_anchors,\n",
    "    target_rpn_bbox[:positive_anchors.shape[0]] * model.config.RPN_BBOX_STD_DEV)\n",
    "log(\"refined_anchors\", refined_anchors, )\n"
   ]
  },
  {
   "cell_type": "code",
   "execution_count": null,
   "metadata": {},
   "outputs": [],
   "source": [
    "# Display positive anchors before refinement (dotted) and\n",
    "# after refinement (solid).\n",
    "visualize.draw_boxes(image, boxes=positive_anchors, refined_boxes=refined_anchors, ax=get_ax())"
   ]
  },
  {
   "cell_type": "markdown",
   "metadata": {},
   "source": [
    "### 1.b RPN Predictions\n",
    "\n",
    "Here we run the RPN graph and display its predictions."
   ]
  },
  {
   "cell_type": "code",
   "execution_count": null,
   "metadata": {},
   "outputs": [],
   "source": [
    "# Run RPN sub-graph\n",
    "pillar = model.keras_model.get_layer(\"ROI\").output  # node to start searching from\n",
    "\n",
    "# TF 1.4 and 1.9 introduce new versions of NMS. Search for all names to support TF 1.3~1.10\n",
    "nms_node = model.ancestor(pillar, \"ROI/rpn_non_max_suppression:0\")\n",
    "if nms_node is None:\n",
    "    nms_node = model.ancestor(pillar, \"ROI/rpn_non_max_suppression/NonMaxSuppressionV2:0\")\n",
    "if nms_node is None: #TF 1.9-1.10\n",
    "    nms_node = model.ancestor(pillar, \"ROI/rpn_non_max_suppression/NonMaxSuppressionV3:0\")\n",
    "\n",
    "rpn = model.run_graph([image], [\n",
    "    (\"rpn_class\", model.keras_model.get_layer(\"rpn_class\").output),\n",
    "    (\"pre_nms_anchors\", model.ancestor(pillar, \"ROI/pre_nms_anchors:0\")),\n",
    "    (\"refined_anchors\", model.ancestor(pillar, \"ROI/refined_anchors:0\")),\n",
    "    (\"refined_anchors_clipped\", model.ancestor(pillar, \"ROI/refined_anchors_clipped:0\")),\n",
    "    (\"post_nms_anchor_ix\", nms_node),\n",
    "    (\"proposals\", model.keras_model.get_layer(\"ROI\").output),\n",
    "])"
   ]
  },
  {
   "cell_type": "code",
   "execution_count": null,
   "metadata": {},
   "outputs": [],
   "source": [
    "# Show top anchors by score (before refinement)\n",
    "limit = 100\n",
    "sorted_anchor_ids = np.argsort(rpn['rpn_class'][:,:,1].flatten())[::-1]\n",
    "visualize.draw_boxes(image, boxes=model.anchors[sorted_anchor_ids[:limit]], ax=get_ax())"
   ]
  },
  {
   "cell_type": "code",
   "execution_count": null,
   "metadata": {
    "scrolled": false
   },
   "outputs": [],
   "source": [
    "# Show top anchors with refinement. Then with clipping to image boundaries\n",
    "limit = 50\n",
    "ax = get_ax(1, 2)\n",
    "pre_nms_anchors = utils.denorm_boxes(rpn[\"pre_nms_anchors\"][0], image.shape[:2])\n",
    "refined_anchors = utils.denorm_boxes(rpn[\"refined_anchors\"][0], image.shape[:2])\n",
    "refined_anchors_clipped = utils.denorm_boxes(rpn[\"refined_anchors_clipped\"][0], image.shape[:2])\n",
    "visualize.draw_boxes(image, boxes=pre_nms_anchors[:limit],\n",
    "                     refined_boxes=refined_anchors[:limit], ax=ax[0])\n",
    "visualize.draw_boxes(image, refined_boxes=refined_anchors_clipped[:limit], ax=ax[1])"
   ]
  },
  {
   "cell_type": "code",
   "execution_count": null,
   "metadata": {
    "scrolled": false
   },
   "outputs": [],
   "source": [
    "# Show refined anchors after non-max suppression\n",
    "limit = 50\n",
    "ixs = rpn[\"post_nms_anchor_ix\"][:limit]\n",
    "visualize.draw_boxes(image, refined_boxes=refined_anchors_clipped[ixs], ax=get_ax())"
   ]
  },
  {
   "cell_type": "code",
   "execution_count": null,
   "metadata": {},
   "outputs": [],
   "source": [
    "# Show final proposals\n",
    "# These are the same as the previous step (refined anchors \n",
    "# after NMS) but with coordinates normalized to [0, 1] range.\n",
    "limit = 50\n",
    "# Convert back to image coordinates for display\n",
    "h, w = config.IMAGE_SHAPE[:2]\n",
    "proposals = rpn['proposals'][0, :limit] * np.array([h, w, h, w])\n",
    "visualize.draw_boxes(image, refined_boxes=proposals, ax=get_ax())"
   ]
  },
  {
   "cell_type": "markdown",
   "metadata": {},
   "source": [
    "## Stage 2: Proposal Classification\n",
    "\n",
    "This stage takes the region proposals from the RPN and classifies them."
   ]
  },
  {
   "cell_type": "markdown",
   "metadata": {},
   "source": [
    "### 2.a Proposal Classification\n",
    "\n",
    "Run the classifier heads on proposals to generate class propbabilities and bounding box regressions."
   ]
  },
  {
   "cell_type": "code",
   "execution_count": null,
   "metadata": {},
   "outputs": [],
   "source": [
    "# Get input and output to classifier and mask heads.\n",
    "mrcnn = model.run_graph([image], [\n",
    "    (\"proposals\", model.keras_model.get_layer(\"ROI\").output),\n",
    "    (\"probs\", model.keras_model.get_layer(\"mrcnn_class\").output),\n",
    "    (\"deltas\", model.keras_model.get_layer(\"mrcnn_bbox\").output),\n",
    "    (\"masks\", model.keras_model.get_layer(\"mrcnn_mask\").output),\n",
    "    (\"detections\", model.keras_model.get_layer(\"mrcnn_detection\").output),\n",
    "])"
   ]
  },
  {
   "cell_type": "code",
   "execution_count": null,
   "metadata": {},
   "outputs": [],
   "source": [
    "# Get detection class IDs. Trim zero padding.\n",
    "det_class_ids = mrcnn['detections'][0, :, 4].astype(np.int32)\n",
    "det_count = np.where(det_class_ids == 0)[0][0]\n",
    "det_class_ids = det_class_ids[:det_count]\n",
    "detections = mrcnn['detections'][0, :det_count]\n",
    "\n",
    "print(\"{} detections: {}\".format(\n",
    "    det_count, np.array(dataset.class_names)[det_class_ids]))\n",
    "\n",
    "captions = [\"{} {:.3f}\".format(dataset.class_names[int(c)], s) if c > 0 else \"\"\n",
    "            for c, s in zip(detections[:, 4], detections[:, 5])]\n",
    "visualize.draw_boxes(\n",
    "    image, \n",
    "    refined_boxes=utils.denorm_boxes(detections[:, :4], image.shape[:2]),\n",
    "    visibilities=[2] * len(detections),\n",
    "    captions=captions, title=\"Detections\",\n",
    "    ax=get_ax())"
   ]
  },
  {
   "cell_type": "markdown",
   "metadata": {},
   "source": [
    "### 2.c Step by Step Detection\n",
    "\n",
    "Here we dive deeper into the process of processing the detections."
   ]
  },
  {
   "cell_type": "code",
   "execution_count": null,
   "metadata": {},
   "outputs": [],
   "source": [
    "# Proposals are in normalized coordinates. Scale them\n",
    "# to image coordinates.\n",
    "h, w = config.IMAGE_SHAPE[:2]\n",
    "proposals = np.around(mrcnn[\"proposals\"][0] * np.array([h, w, h, w])).astype(np.int32)\n",
    "\n",
    "# Class ID, score, and mask per proposal\n",
    "roi_class_ids = np.argmax(mrcnn[\"probs\"][0], axis=1)\n",
    "roi_scores = mrcnn[\"probs\"][0, np.arange(roi_class_ids.shape[0]), roi_class_ids]\n",
    "roi_class_names = np.array(dataset.class_names)[roi_class_ids]\n",
    "roi_positive_ixs = np.where(roi_class_ids > 0)[0]\n",
    "\n",
    "# How many ROIs vs empty rows?\n",
    "print(\"{} Valid proposals out of {}\".format(np.sum(np.any(proposals, axis=1)), proposals.shape[0]))\n",
    "print(\"{} Positive ROIs\".format(len(roi_positive_ixs)))\n",
    "\n",
    "# Class counts\n",
    "print(list(zip(*np.unique(roi_class_names, return_counts=True))))"
   ]
  },
  {
   "cell_type": "code",
   "execution_count": null,
   "metadata": {},
   "outputs": [],
   "source": [
    "# Display a random sample of proposals.\n",
    "# Proposals classified as background are dotted, and\n",
    "# the rest show their class and confidence score.\n",
    "limit = 200\n",
    "ixs = np.random.randint(0, proposals.shape[0], limit)\n",
    "captions = [\"{} {:.3f}\".format(dataset.class_names[c], s) if c > 0 else \"\"\n",
    "            for c, s in zip(roi_class_ids[ixs], roi_scores[ixs])]\n",
    "visualize.draw_boxes(image, boxes=proposals[ixs],\n",
    "                     visibilities=np.where(roi_class_ids[ixs] > 0, 2, 1),\n",
    "                     captions=captions, title=\"ROIs Before Refinement\",\n",
    "                     ax=get_ax())"
   ]
  },
  {
   "cell_type": "markdown",
   "metadata": {},
   "source": [
    "#### Apply Bounding Box Refinement"
   ]
  },
  {
   "cell_type": "code",
   "execution_count": null,
   "metadata": {},
   "outputs": [],
   "source": [
    "# Class-specific bounding box shifts.\n",
    "roi_bbox_specific = mrcnn[\"deltas\"][0, np.arange(proposals.shape[0]), roi_class_ids]\n",
    "log(\"roi_bbox_specific\", roi_bbox_specific)\n",
    "\n",
    "# Apply bounding box transformations\n",
    "# Shape: [N, (y1, x1, y2, x2)]\n",
    "refined_proposals = utils.apply_box_deltas(\n",
    "    proposals, roi_bbox_specific * config.BBOX_STD_DEV).astype(np.int32)\n",
    "log(\"refined_proposals\", refined_proposals)\n",
    "\n",
    "# Show positive proposals\n",
    "# ids = np.arange(roi_boxes.shape[0])  # Display all\n",
    "limit = 5\n",
    "ids = np.random.randint(0, len(roi_positive_ixs), limit)  # Display random sample\n",
    "captions = [\"{} {:.3f}\".format(dataset.class_names[c], s) if c > 0 else \"\"\n",
    "            for c, s in zip(roi_class_ids[roi_positive_ixs][ids], roi_scores[roi_positive_ixs][ids])]\n",
    "visualize.draw_boxes(image, boxes=proposals[roi_positive_ixs][ids],\n",
    "                     refined_boxes=refined_proposals[roi_positive_ixs][ids],\n",
    "                     visibilities=np.where(roi_class_ids[roi_positive_ixs][ids] > 0, 1, 0),\n",
    "                     captions=captions, title=\"ROIs After Refinement\",\n",
    "                     ax=get_ax())"
   ]
  },
  {
   "cell_type": "markdown",
   "metadata": {},
   "source": [
    "#### Filter Low Confidence Detections"
   ]
  },
  {
   "cell_type": "code",
   "execution_count": null,
   "metadata": {},
   "outputs": [],
   "source": [
    "# Remove boxes classified as background\n",
    "keep = np.where(roi_class_ids > 0)[0]\n",
    "print(\"Keep {} detections:\\n{}\".format(keep.shape[0], keep))"
   ]
  },
  {
   "cell_type": "code",
   "execution_count": null,
   "metadata": {},
   "outputs": [],
   "source": [
    "# Remove low confidence detections\n",
    "keep = np.intersect1d(keep, np.where(roi_scores >= config.DETECTION_MIN_CONFIDENCE)[0])\n",
    "print(\"Remove boxes below {} confidence. Keep {}:\\n{}\".format(\n",
    "    config.DETECTION_MIN_CONFIDENCE, keep.shape[0], keep))"
   ]
  },
  {
   "cell_type": "markdown",
   "metadata": {},
   "source": [
    "#### Per-Class Non-Max Suppression"
   ]
  },
  {
   "cell_type": "code",
   "execution_count": null,
   "metadata": {},
   "outputs": [],
   "source": [
    "# Apply per-class non-max suppression\n",
    "pre_nms_boxes = refined_proposals[keep]\n",
    "pre_nms_scores = roi_scores[keep]\n",
    "pre_nms_class_ids = roi_class_ids[keep]\n",
    "\n",
    "nms_keep = []\n",
    "for class_id in np.unique(pre_nms_class_ids):\n",
    "    # Pick detections of this class\n",
    "    ixs = np.where(pre_nms_class_ids == class_id)[0]\n",
    "    # Apply NMS\n",
    "    class_keep = utils.non_max_suppression(pre_nms_boxes[ixs], \n",
    "                                            pre_nms_scores[ixs],\n",
    "                                            config.DETECTION_NMS_THRESHOLD)\n",
    "    # Map indicies\n",
    "    class_keep = keep[ixs[class_keep]]\n",
    "    nms_keep = np.union1d(nms_keep, class_keep)\n",
    "    print(\"{:22}: {} -> {}\".format(dataset.class_names[class_id][:20], \n",
    "                                   keep[ixs], class_keep))\n",
    "\n",
    "keep = np.intersect1d(keep, nms_keep).astype(np.int32)\n",
    "print(\"\\nKept after per-class NMS: {}\\n{}\".format(keep.shape[0], keep))"
   ]
  },
  {
   "cell_type": "code",
   "execution_count": null,
   "metadata": {},
   "outputs": [],
   "source": [
    "# Show final detections\n",
    "ixs = np.arange(len(keep))  # Display all\n",
    "# ixs = np.random.randint(0, len(keep), 10)  # Display random sample\n",
    "captions = [\"{} {:.3f}\".format(dataset.class_names[c], s) if c > 0 else \"\"\n",
    "            for c, s in zip(roi_class_ids[keep][ixs], roi_scores[keep][ixs])]\n",
    "visualize.draw_boxes(\n",
    "    image, boxes=proposals[keep][ixs],\n",
    "    refined_boxes=refined_proposals[keep][ixs],\n",
    "    visibilities=np.where(roi_class_ids[keep][ixs] > 0, 1, 0),\n",
    "    captions=captions, title=\"Detections after NMS\",\n",
    "    ax=get_ax())"
   ]
  },
  {
   "cell_type": "markdown",
   "metadata": {},
   "source": [
    "## Stage 3: Generating Masks\n",
    "\n",
    "This stage takes the detections (refined bounding boxes and class IDs) from the previous layer and runs the mask head to generate segmentation masks for every instance."
   ]
  },
  {
   "cell_type": "markdown",
   "metadata": {},
   "source": [
    "### 3.a Mask Targets\n",
    "\n",
    "These are the training targets for the mask branch"
   ]
  },
  {
   "cell_type": "code",
   "execution_count": null,
   "metadata": {},
   "outputs": [],
   "source": [
    "display_images(np.transpose(gt_mask, [2, 0, 1]), cmap=\"Blues\")"
   ]
  },
  {
   "cell_type": "markdown",
   "metadata": {},
   "source": [
    "### 3.b Predicted Masks"
   ]
  },
  {
   "cell_type": "code",
   "execution_count": null,
   "metadata": {},
   "outputs": [],
   "source": [
    "# Get predictions of mask head\n",
    "mrcnn = model.run_graph([image], [\n",
    "    (\"detections\", model.keras_model.get_layer(\"mrcnn_detection\").output),\n",
    "    (\"masks\", model.keras_model.get_layer(\"mrcnn_mask\").output),\n",
    "])\n",
    "\n",
    "# Get detection class IDs. Trim zero padding.\n",
    "det_class_ids = mrcnn['detections'][0, :, 4].astype(np.int32)\n",
    "det_count = np.where(det_class_ids == 0)[0][0]\n",
    "det_class_ids = det_class_ids[:det_count]\n",
    "\n",
    "print(\"{} detections: {}\".format(\n",
    "    det_count, np.array(dataset.class_names)[det_class_ids]))"
   ]
  },
  {
   "cell_type": "code",
   "execution_count": null,
   "metadata": {},
   "outputs": [],
   "source": [
    "# Masks\n",
    "det_boxes = utils.denorm_boxes(mrcnn[\"detections\"][0, :, :4], image.shape[:2])\n",
    "det_mask_specific = np.array([mrcnn[\"masks\"][0, i, :, :, c] \n",
    "                              for i, c in enumerate(det_class_ids)])\n",
    "det_masks = np.array([utils.unmold_mask(m, det_boxes[i], image.shape)\n",
    "                      for i, m in enumerate(det_mask_specific)])\n",
    "log(\"det_mask_specific\", det_mask_specific)\n",
    "log(\"det_masks\", det_masks)"
   ]
  },
  {
   "cell_type": "code",
   "execution_count": null,
   "metadata": {},
   "outputs": [],
   "source": [
    "display_images(det_mask_specific[:4] * 255, cmap=\"Blues\", interpolation=\"none\")"
   ]
  },
  {
   "cell_type": "code",
   "execution_count": null,
   "metadata": {},
   "outputs": [],
   "source": [
    "display_images(det_masks[:4] * 255, cmap=\"Blues\", interpolation=\"none\")"
   ]
  },
  {
   "cell_type": "markdown",
   "metadata": {},
   "source": [
    "## Visualize Activations\n",
    "\n",
    "In some cases it helps to look at the output from different layers and visualize them to catch issues and odd patterns."
   ]
  },
  {
   "cell_type": "code",
   "execution_count": null,
   "metadata": {
    "scrolled": false
   },
   "outputs": [],
   "source": [
    "# Get activations of a few sample layers\n",
    "activations = model.run_graph([image], [\n",
    "    (\"input_image\",        tf.identity(model.keras_model.get_layer(\"input_image\").output)),\n",
    "    (\"res2c_out\",          model.keras_model.get_layer(\"res2c_out\").output),\n",
    "    (\"res3c_out\",          model.keras_model.get_layer(\"res3c_out\").output),\n",
    "    (\"res4w_out\",          model.keras_model.get_layer(\"res4w_out\").output),  # for resnet100\n",
    "    (\"rpn_bbox\",           model.keras_model.get_layer(\"rpn_bbox\").output),\n",
    "    (\"roi\",                model.keras_model.get_layer(\"ROI\").output),\n",
    "])"
   ]
  },
  {
   "cell_type": "code",
   "execution_count": null,
   "metadata": {},
   "outputs": [],
   "source": [
    "# Input image (normalized)\n",
    "_ = plt.imshow(modellib.unmold_image(activations[\"input_image\"][0],config))"
   ]
  },
  {
   "cell_type": "code",
   "execution_count": null,
   "metadata": {},
   "outputs": [],
   "source": [
    "# Backbone feature map\n",
    "display_images(np.transpose(activations[\"res2c_out\"][0,:,:,:4], [2, 0, 1]), cols=4)"
   ]
  },
  {
   "cell_type": "code",
   "execution_count": null,
   "metadata": {},
   "outputs": [],
   "source": []
  }
 ],
 "metadata": {
  "kernelspec": {
   "display_name": "Python 3",
   "language": "python",
   "name": "python3"
  },
  "language_info": {
   "codemirror_mode": {
    "name": "ipython",
    "version": 3
   },
   "file_extension": ".py",
   "mimetype": "text/x-python",
   "name": "python",
   "nbconvert_exporter": "python",
   "pygments_lexer": "ipython3",
   "version": "3.8.5"
  }
 },
 "nbformat": 4,
 "nbformat_minor": 2
}
